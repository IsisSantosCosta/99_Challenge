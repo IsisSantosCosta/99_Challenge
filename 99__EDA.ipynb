{
 "cells": [
  {
   "cell_type": "markdown",
   "metadata": {},
   "source": [
    "<table style=\"width:100%\">\n",
    "  <tr style=\"background-color:#FFFFFF\">\n",
    "    <td style=\"width:10%\">\n",
    "        <img src=\"https://play-lh.googleusercontent.com/K9FC23HoIYy_idt3LL26zrzMchOGORVzLNmi3L5u-MaghdjpdgHAWv7wQlscNmo9wYjC=s180-rw\" alt=\"DiDi\" width=120></td>\n",
    "    <td style=\"width:10%\">\n",
    "        <img src=\"https://logodownload.org/wp-content/uploads/2019/05/99-app-logo.png\" alt=\"99\" width=120></td>\n",
    "      <td>\n",
    "          <h1 style=\"text-align:left; text-indent :2em\">EDA • Exᴘʟᴏʀᴀᴛᴏʀʏ Dᴀᴛᴀ Aɴᴀʟʏsɪs (WIP)</h1>\n",
    "          <h2 style=\"text-align:left; text-indent :2.4em;\">ISIS SANTOS COSTA • 2021</h2>\n",
    "      </td>\n",
    "  </tr>\n",
    "</table>"
   ]
  },
  {
   "cell_type": "markdown",
   "metadata": {},
   "source": [
    "## Exᴘʟᴏʀᴀᴛᴏʀʏ Dᴀᴛᴀ Aɴᴀʟʏsɪs  •  Resuming: retrieving the DF, final transformed"
   ]
  },
  {
   "cell_type": "code",
   "execution_count": 1,
   "metadata": {},
   "outputs": [],
   "source": [
    "import pandas as pd"
   ]
  },
  {
   "cell_type": "code",
   "execution_count": 2,
   "metadata": {},
   "outputs": [],
   "source": [
    "import warnings\n",
    "warnings.filterwarnings('ignore')"
   ]
  },
  {
   "cell_type": "code",
   "execution_count": 3,
   "metadata": {},
   "outputs": [
    {
     "name": "stdout",
     "output_type": "stream",
     "text": [
      "time: 0 ns\n"
     ]
    }
   ],
   "source": [
    "#!pip install ipython-autotime\n",
    "%load_ext autotime"
   ]
  },
  {
   "cell_type": "code",
   "execution_count": 30,
   "metadata": {},
   "outputs": [
    {
     "name": "stdout",
     "output_type": "stream",
     "text": [
      "time: 0 ns\n"
     ]
    }
   ],
   "source": [
    "pd.set_option('display.max_columns', None)"
   ]
  },
  {
   "cell_type": "code",
   "execution_count": null,
   "metadata": {},
   "outputs": [],
   "source": [
    "with open('df_orders_tF.csv') as f: cols = f.readline().split(',')\n",
    "del cols[0]\n",
    "cols[-1] = cols[-1].replace('\\n','')\n",
    "df = pd.read_csv('df_orders_tF.csv', usecols=cols) # reading previously transformed data"
   ]
  },
  {
   "cell_type": "code",
   "execution_count": 31,
   "metadata": {},
   "outputs": [
    {
     "data": {
      "application/vnd.jupyter.widget-view+json": {
       "model_id": "023cacd5fcc3455ab7d96c98bc4390d6",
       "version_major": 2,
       "version_minor": 0
      },
      "text/plain": [
       "Button(description='Toggle Pandas/Lux', layout=Layout(top='5px', width='140px'), style=ButtonStyle())"
      ]
     },
     "metadata": {},
     "output_type": "display_data"
    },
    {
     "data": {
      "application/vnd.jupyter.widget-view+json": {
       "model_id": "716b360204654292a40344a80b322efe",
       "version_major": 2,
       "version_minor": 0
      },
      "text/plain": [
       "Output()"
      ]
     },
     "metadata": {},
     "output_type": "display_data"
    },
    {
     "data": {
      "text/plain": []
     },
     "execution_count": 31,
     "metadata": {},
     "output_type": "execute_result"
    },
    {
     "name": "stdout",
     "output_type": "stream",
     "text": [
      "time: 485 ms\n"
     ]
    }
   ],
   "source": [
    "df.head(2)"
   ]
  },
  {
   "cell_type": "markdown",
   "metadata": {},
   "source": [
    "## Exᴘʟᴏʀᴀᴛᴏʀʏ Dᴀᴛᴀ Aɴᴀʟʏsɪs • Features"
   ]
  },
  {
   "cell_type": "markdown",
   "metadata": {},
   "source": [
    "🔎 <i> Let's take a look at the features again to choose relation to be visually inspected. </i>"
   ]
  },
  {
   "cell_type": "markdown",
   "metadata": {},
   "source": [
    "### Features list"
   ]
  },
  {
   "cell_type": "code",
   "execution_count": 29,
   "metadata": {},
   "outputs": [
    {
     "data": {
      "text/plain": [
       "['order_id',\n",
       " 'passenger_id',\n",
       " 'pickup_datetime',\n",
       " 'pickup_month',\n",
       " 'pickup_week',\n",
       " 'pickup_weekinmonth',\n",
       " 'pickup_date',\n",
       " 'pickup_dayofweek',\n",
       " 'pickup_isweekend',\n",
       " 'pickup_hour',\n",
       " 'pickup_isrush',\n",
       " 'pickup_latitude',\n",
       " 'pickup_longitude',\n",
       " 'dropoff_latitude',\n",
       " 'dropoff_longitude',\n",
       " 'dropoff_datetime',\n",
       " 'duration',\n",
       " 'duration_minutes',\n",
       " 'duration_type',\n",
       " 'trip_distance',\n",
       " 'total_amount',\n",
       " 'fare_amount',\n",
       " 'tip_amount',\n",
       " 'rate_type',\n",
       " 'payment_type',\n",
       " 'pickup_borough',\n",
       " 'dropoff_borough']"
      ]
     },
     "execution_count": 29,
     "metadata": {},
     "output_type": "execute_result"
    },
    {
     "name": "stdout",
     "output_type": "stream",
     "text": [
      "time: 16 ms\n"
     ]
    }
   ],
   "source": [
    "list(df.columns)"
   ]
  },
  {
   "cell_type": "markdown",
   "metadata": {},
   "source": [
    "<i> "
   ]
  },
  {
   "cell_type": "markdown",
   "metadata": {},
   "source": [
    "### Features types • Client account\n",
    "<ul>\n",
    "    <b>\n",
    "    <li> passenger_id </li>\n",
    "    </b>\n",
    "</ul>\n",
    "\n",
    "### Features types • Instant\n",
    "<ul>\n",
    "    <b>\n",
    "    <li> pickup_isweekend </li>\n",
    "    <li> pickup_isrush </li>\n",
    "    <li> pickup_month </li>\n",
    "    <li> pickup_weekinmonth </li>\n",
    "    <li> pickup_dayofweek </li>\n",
    "    <li> pickup_hour </li>\n",
    "    </b>\n",
    "    <li> pickup_datetime </li>\n",
    "    <li> pickup_week </li>\n",
    "    <li> pickup_date </li>\n",
    "    <li> dropoff_datetime </li>\n",
    "</ul>\n",
    "\n",
    "### Features types • Duration    \n",
    "<ul>   \n",
    "    <b>\n",
    "    <li> duration_minutes </li>\n",
    "    </b>\n",
    "    <li> duration </li>\n",
    "    <li> duration_type </li>\n",
    "</ul>\n",
    "\n",
    "### Features types • Distance\n",
    "<ul>\n",
    "    <b>\n",
    "    <li> trip_distance </li>\n",
    "    </b>\n",
    "</ul>\n",
    "\n",
    "### Features types • Location\n",
    "<ul>\n",
    "    <b>\n",
    "    <li> pickup_borough </li>\n",
    "    <li> dropoff_borough </li>\n",
    "    <li> rate_type (mostly location-related, only exception being the 'group' type) </li>\n",
    "    </b>\n",
    "</ul>\n",
    "\n",
    "\n",
    "### Features types • Payment type\n",
    "<ul>\n",
    "    <b>\n",
    "    <li> payment_type </li>\n",
    "    </b>    \n",
    "</ul>\n",
    "\n",
    "\n",
    "### Features types • Happiness\n",
    "<ul>\n",
    "    <b>\n",
    "    <li> tip_amount </li>\n",
    "    </b>\n",
    "</ul>\n",
    "\n",
    "\n",
    "### Features types • Revenue\n",
    "<ul>\n",
    "    <b>\n",
    "    <li> total_amount </li>\n",
    "    </b>\n",
    "    <li> fare_amount </li>\n",
    "</ul>"
   ]
  },
  {
   "cell_type": "markdown",
   "metadata": {},
   "source": [
    "## Exᴘʟᴏʀᴀᴛᴏʀʏ Dᴀᴛᴀ Aɴᴀʟʏsɪs • Importing matplotlib"
   ]
  },
  {
   "cell_type": "code",
   "execution_count": 78,
   "metadata": {},
   "outputs": [
    {
     "name": "stdout",
     "output_type": "stream",
     "text": [
      "time: 250 ms\n"
     ]
    }
   ],
   "source": [
    "%matplotlib inline \n",
    "\n",
    "import matplotlib as mpl\n",
    "import matplotlib.pyplot as plt\n",
    "\n",
    "mpl.style.use('ggplot')"
   ]
  },
  {
   "cell_type": "markdown",
   "metadata": {},
   "source": [
    "## Exᴘʟᴏʀᴀᴛᴏʀʏ Dᴀᴛᴀ Aɴᴀʟʏsɪs • Distribution frequencies"
   ]
  },
  {
   "cell_type": "markdown",
   "metadata": {},
   "source": [
    "### Distribution frequency by duration of the trip (%)"
   ]
  },
  {
   "cell_type": "code",
   "execution_count": 85,
   "metadata": {},
   "outputs": [
    {
     "data": {
      "image/png": "[encoded data removed]",
      "text/plain": [
       "<Figure size 576x432 with 1 Axes>"
      ]
     },
     "metadata": {},
     "output_type": "display_data"
    },
    {
     "name": "stdout",
     "output_type": "stream",
     "text": [
      "time: 2.27 s\n"
     ]
    }
   ],
   "source": [
    "## Distribution %\n",
    "\n",
    "df_trips_duration = 100 * df['duration_type'].value_counts() / len(df)\n",
    "# print(df_trips_duration)\n",
    "\n",
    "df_trips_duration.sort_values(ascending=True, inplace=True)\n",
    "df_trips_duration.plot(kind='barh', figsize=(8, 6), color='steelblue')\n",
    "plt.xlabel('% Trips')\n",
    "plt.ylabel('Duration of the trip')\n",
    "plt.title('Distribution frequency by duration of the trip (%)')\n",
    "\n",
    "for i, value in enumerate(df_trips_duration): \n",
    "    label = format(int(value), ',') # format int with commas\n",
    "    \n",
    "    # place text at the end of bar (subtracting 47000 from x, and 0.1 from y to make it fit within the bar)\n",
    "    plt.annotate(label, xy=(value - 0.8, i - 0), color='white')\n",
    "    \n",
    "plt.show()"
   ]
  },
  {
   "cell_type": "markdown",
   "metadata": {},
   "source": [
    "💡 <b><i> 82% of trips take 20 min or less</i></b>"
   ]
  },
  {
   "cell_type": "markdown",
   "metadata": {},
   "source": [
    "### (WIP)"
   ]
  },
  {
   "cell_type": "markdown",
   "metadata": {},
   "source": [
    "# Next: [Summary of Insights](99__Insights.ipynb)"
   ]
  }
 ],
 "metadata": {
  "kernelspec": {
   "display_name": "Python 3",
   "language": "python",
   "name": "python3"
  },
  "language_info": {
   "codemirror_mode": {
    "name": "ipython",
    "version": 3
   },
   "file_extension": ".py",
   "mimetype": "text/x-python",
   "name": "python",
   "nbconvert_exporter": "python",
   "pygments_lexer": "ipython3",
   "version": "3.8.5"
  }
 },
 "nbformat": 4,
 "nbformat_minor": 4
}
