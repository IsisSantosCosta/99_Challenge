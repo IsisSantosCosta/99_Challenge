{
 "cells": [
  {
   "cell_type": "markdown",
   "metadata": {},
   "source": [
    "<table style=\"width:100%\">\n",
    "  <tr style=\"background-color:#FFFFFF\">\n",
    "    <td style=\"width:10%\">\n",
    "        <img src=\"https://play-lh.googleusercontent.com/K9FC23HoIYy_idt3LL26zrzMchOGORVzLNmi3L5u-MaghdjpdgHAWv7wQlscNmo9wYjC=s180-rw\" alt=\"DiDi\" width=120></td>\n",
    "    <td style=\"width:10%\">\n",
    "        <img src=\"https://logodownload.org/wp-content/uploads/2019/05/99-app-logo.png\" alt=\"99\" width=120></td>\n",
    "      <td>\n",
    "          <h1 style=\"text-align:left; text-indent :2em\">EDA • Exᴘʟᴏʀᴀᴛᴏʀʏ Dᴀᴛᴀ Aɴᴀʟʏsɪs</h1>\n",
    "          <h2 style=\"text-align:left; text-indent :2.4em;\">ISIS SANTOS COSTA • 2021</h2>\n",
    "      </td>\n",
    "  </tr>\n",
    "</table>"
   ]
  },
  {
   "cell_type": "markdown",
   "metadata": {},
   "source": [
    "## Exᴘʟᴏʀᴀᴛᴏʀʏ Dᴀᴛᴀ Aɴᴀʟʏsɪs  •  Resuming: retrieving the DF, final transformed"
   ]
  },
  {
   "cell_type": "code",
   "execution_count": 1,
   "metadata": {},
   "outputs": [],
   "source": [
    "import pandas as pd"
   ]
  },
  {
   "cell_type": "code",
   "execution_count": 2,
   "metadata": {},
   "outputs": [],
   "source": [
    "import warnings\n",
    "warnings.filterwarnings('ignore')"
   ]
  },
  {
   "cell_type": "code",
   "execution_count": 3,
   "metadata": {},
   "outputs": [
    {
     "name": "stdout",
     "output_type": "stream",
     "text": [
      "time: 0 ns\n"
     ]
    }
   ],
   "source": [
    "#!pip install ipython-autotime\n",
    "%load_ext autotime"
   ]
  },
  {
   "cell_type": "code",
   "execution_count": 4,
   "metadata": {},
   "outputs": [
    {
     "name": "stdout",
     "output_type": "stream",
     "text": [
      "time: 31 ms\n"
     ]
    }
   ],
   "source": [
    "pd.set_option('display.max_columns', None)"
   ]
  },
  {
   "cell_type": "markdown",
   "metadata": {},
   "source": [
    "### All orders"
   ]
  },
  {
   "cell_type": "code",
   "execution_count": 5,
   "metadata": {},
   "outputs": [
    {
     "data": {
      "text/html": [
       "<div>\n",
       "<style scoped>\n",
       "    .dataframe tbody tr th:only-of-type {\n",
       "        vertical-align: middle;\n",
       "    }\n",
       "\n",
       "    .dataframe tbody tr th {\n",
       "        vertical-align: top;\n",
       "    }\n",
       "\n",
       "    .dataframe thead th {\n",
       "        text-align: right;\n",
       "    }\n",
       "</style>\n",
       "<table border=\"1\" class=\"dataframe\">\n",
       "  <thead>\n",
       "    <tr style=\"text-align: right;\">\n",
       "      <th></th>\n",
       "      <th>order_id</th>\n",
       "      <th>passenger_id</th>\n",
       "      <th>pickup_datetime</th>\n",
       "      <th>pickup_month</th>\n",
       "      <th>pickup_week</th>\n",
       "      <th>pickup_weekinmonth</th>\n",
       "      <th>pickup_date</th>\n",
       "      <th>pickup_dayofweek</th>\n",
       "      <th>pickup_isweekend</th>\n",
       "      <th>pickup_hour</th>\n",
       "      <th>pickup_isrush</th>\n",
       "      <th>pickup_latitude</th>\n",
       "      <th>pickup_longitude</th>\n",
       "      <th>dropoff_latitude</th>\n",
       "      <th>dropoff_longitude</th>\n",
       "      <th>dropoff_datetime</th>\n",
       "      <th>duration</th>\n",
       "      <th>duration_minutes</th>\n",
       "      <th>duration_type</th>\n",
       "      <th>trip_distance</th>\n",
       "      <th>total_amount</th>\n",
       "      <th>fare_amount</th>\n",
       "      <th>tip_amount</th>\n",
       "      <th>rate_type</th>\n",
       "      <th>payment_type</th>\n",
       "      <th>pickup_borough</th>\n",
       "      <th>dropoff_borough</th>\n",
       "    </tr>\n",
       "  </thead>\n",
       "  <tbody>\n",
       "    <tr>\n",
       "      <th>0</th>\n",
       "      <td>6433697</td>\n",
       "      <td>5234567816269547</td>\n",
       "      <td>2014-04-11 18:06:45</td>\n",
       "      <td>4</td>\n",
       "      <td>15</td>\n",
       "      <td>2</td>\n",
       "      <td>2014-04-11</td>\n",
       "      <td>Friday</td>\n",
       "      <td>0</td>\n",
       "      <td>18</td>\n",
       "      <td>1</td>\n",
       "      <td>40.714476</td>\n",
       "      <td>-74.015684</td>\n",
       "      <td>40.718173</td>\n",
       "      <td>-74.000814</td>\n",
       "      <td>2014-04-11 18:18:19</td>\n",
       "      <td>0 days 00:11:34</td>\n",
       "      <td>11.566667</td>\n",
       "      <td>10-20min</td>\n",
       "      <td>1.6</td>\n",
       "      <td>13.2</td>\n",
       "      <td>9.5</td>\n",
       "      <td>2.2</td>\n",
       "      <td>Standard</td>\n",
       "      <td>CRD</td>\n",
       "      <td>Manhattan • Lower Manhattan</td>\n",
       "      <td>Manhattan • Lower Manhattan</td>\n",
       "    </tr>\n",
       "    <tr>\n",
       "      <th>1</th>\n",
       "      <td>6433698</td>\n",
       "      <td>5234567812367422</td>\n",
       "      <td>2014-04-12 00:20:28</td>\n",
       "      <td>4</td>\n",
       "      <td>15</td>\n",
       "      <td>2</td>\n",
       "      <td>2014-04-12</td>\n",
       "      <td>Saturday</td>\n",
       "      <td>1</td>\n",
       "      <td>0</td>\n",
       "      <td>0</td>\n",
       "      <td>40.713247</td>\n",
       "      <td>-73.958403</td>\n",
       "      <td>40.758526</td>\n",
       "      <td>-73.991395</td>\n",
       "      <td>2014-04-12 00:47:19</td>\n",
       "      <td>0 days 00:26:51</td>\n",
       "      <td>26.850000</td>\n",
       "      <td>20-30min</td>\n",
       "      <td>5.5</td>\n",
       "      <td>27.0</td>\n",
       "      <td>22.0</td>\n",
       "      <td>4.0</td>\n",
       "      <td>Standard</td>\n",
       "      <td>CRD</td>\n",
       "      <td>Brooklyn</td>\n",
       "      <td>Manhattan • Midtown Manhattan</td>\n",
       "    </tr>\n",
       "  </tbody>\n",
       "</table>\n",
       "</div>"
      ],
      "text/plain": [
       "   order_id      passenger_id      pickup_datetime  pickup_month  pickup_week  \\\n",
       "0   6433697  5234567816269547  2014-04-11 18:06:45             4           15   \n",
       "1   6433698  5234567812367422  2014-04-12 00:20:28             4           15   \n",
       "\n",
       "   pickup_weekinmonth pickup_date pickup_dayofweek  pickup_isweekend  \\\n",
       "0                   2  2014-04-11           Friday                 0   \n",
       "1                   2  2014-04-12         Saturday                 1   \n",
       "\n",
       "   pickup_hour  pickup_isrush  pickup_latitude  pickup_longitude  \\\n",
       "0           18              1        40.714476        -74.015684   \n",
       "1            0              0        40.713247        -73.958403   \n",
       "\n",
       "   dropoff_latitude  dropoff_longitude     dropoff_datetime         duration  \\\n",
       "0         40.718173         -74.000814  2014-04-11 18:18:19  0 days 00:11:34   \n",
       "1         40.758526         -73.991395  2014-04-12 00:47:19  0 days 00:26:51   \n",
       "\n",
       "   duration_minutes duration_type  trip_distance  total_amount  fare_amount  \\\n",
       "0         11.566667      10-20min            1.6          13.2          9.5   \n",
       "1         26.850000      20-30min            5.5          27.0         22.0   \n",
       "\n",
       "   tip_amount rate_type payment_type               pickup_borough  \\\n",
       "0         2.2  Standard          CRD  Manhattan • Lower Manhattan   \n",
       "1         4.0  Standard          CRD                     Brooklyn   \n",
       "\n",
       "                 dropoff_borough  \n",
       "0    Manhattan • Lower Manhattan  \n",
       "1  Manhattan • Midtown Manhattan  "
      ]
     },
     "execution_count": 5,
     "metadata": {},
     "output_type": "execute_result"
    },
    {
     "name": "stdout",
     "output_type": "stream",
     "text": [
      "time: 14min 2s\n"
     ]
    }
   ],
   "source": [
    "with open('df_orders_tF.csv') as f: cols = f.readline().split(',')\n",
    "del cols[0]\n",
    "cols[-1] = cols[-1].replace('\\n','')\n",
    "df = pd.read_csv('df_orders_tF.csv', usecols=cols) # reading previously transformed data\n",
    "df.head(2)"
   ]
  },
  {
   "cell_type": "markdown",
   "metadata": {},
   "source": [
    "### Daily data"
   ]
  },
  {
   "cell_type": "code",
   "execution_count": 7,
   "metadata": {},
   "outputs": [
    {
     "data": {
      "text/html": [
       "<div>\n",
       "<style scoped>\n",
       "    .dataframe tbody tr th:only-of-type {\n",
       "        vertical-align: middle;\n",
       "    }\n",
       "\n",
       "    .dataframe tbody tr th {\n",
       "        vertical-align: top;\n",
       "    }\n",
       "\n",
       "    .dataframe thead th {\n",
       "        text-align: right;\n",
       "    }\n",
       "</style>\n",
       "<table border=\"1\" class=\"dataframe\">\n",
       "  <thead>\n",
       "    <tr style=\"text-align: right;\">\n",
       "      <th></th>\n",
       "      <th>pickup_date</th>\n",
       "      <th>total_orders</th>\n",
       "      <th>total_trips</th>\n",
       "      <th>pickup_month</th>\n",
       "      <th>pickup_week</th>\n",
       "      <th>pickup_weekinmonth</th>\n",
       "      <th>pickup_dayofweek</th>\n",
       "      <th>pickup_isweekend</th>\n",
       "      <th>pickup_hour</th>\n",
       "      <th>pickup_isrush</th>\n",
       "      <th>pickup_latitude</th>\n",
       "      <th>pickup_longitude</th>\n",
       "      <th>dropoff_latitude</th>\n",
       "      <th>dropoff_longitude</th>\n",
       "      <th>duration_minutes</th>\n",
       "      <th>duration_type</th>\n",
       "      <th>trip_distance</th>\n",
       "      <th>total_amount</th>\n",
       "      <th>fare_amount</th>\n",
       "      <th>tip_amount</th>\n",
       "      <th>Standard</th>\n",
       "      <th>JFK</th>\n",
       "      <th>Newark</th>\n",
       "      <th>Nassau / Westchester</th>\n",
       "      <th>Negotiated</th>\n",
       "      <th>Group ride</th>\n",
       "      <th>CRD</th>\n",
       "      <th>CSH</th>\n",
       "      <th>UNK</th>\n",
       "      <th>NOC</th>\n",
       "      <th>DIS</th>\n",
       "      <th>pickup ‖ Manhattan • Lower Manhattan</th>\n",
       "      <th>pickup ‖ Manhattan • Midtown Manhattan</th>\n",
       "      <th>pickup ‖ Manhattan • Upper Manhattan</th>\n",
       "      <th>pickup ‖ Queens</th>\n",
       "      <th>pickup ‖ Brooklyn</th>\n",
       "      <th>pickup ‖ Manhattan • Harlem</th>\n",
       "      <th>pickup ‖ Manhattan • Washington Heights</th>\n",
       "      <th>pickup ‖ Bronx</th>\n",
       "      <th>pickup ‖ Staten Island</th>\n",
       "      <th>dropoff ‖ Manhattan • Lower Manhattan</th>\n",
       "      <th>dropoff ‖ Manhattan • Midtown Manhattan</th>\n",
       "      <th>dropoff ‖ Manhattan • Upper Manhattan</th>\n",
       "      <th>dropoff ‖ Queens</th>\n",
       "      <th>dropoff ‖ Brooklyn</th>\n",
       "      <th>dropoff ‖ Manhattan • Harlem</th>\n",
       "      <th>dropoff ‖ Manhattan • Washington Heights</th>\n",
       "      <th>dropoff ‖ Bronx</th>\n",
       "      <th>dropoff ‖ Staten Island</th>\n",
       "    </tr>\n",
       "  </thead>\n",
       "  <tbody>\n",
       "    <tr>\n",
       "      <th>0</th>\n",
       "      <td>2014-03-01</td>\n",
       "      <td>277284</td>\n",
       "      <td>211545</td>\n",
       "      <td>3</td>\n",
       "      <td>9</td>\n",
       "      <td>1</td>\n",
       "      <td>Saturday</td>\n",
       "      <td>1</td>\n",
       "      <td>13.127753</td>\n",
       "      <td>0.425838</td>\n",
       "      <td>40.084363</td>\n",
       "      <td>-72.772283</td>\n",
       "      <td>40.060088</td>\n",
       "      <td>-72.725061</td>\n",
       "      <td>12.191076</td>\n",
       "      <td>10-20min</td>\n",
       "      <td>2.766199</td>\n",
       "      <td>14.058896</td>\n",
       "      <td>11.856336</td>\n",
       "      <td>1.333832</td>\n",
       "      <td>208065</td>\n",
       "      <td>2672</td>\n",
       "      <td>229</td>\n",
       "      <td>39</td>\n",
       "      <td>540</td>\n",
       "      <td>0</td>\n",
       "      <td>155788</td>\n",
       "      <td>119182</td>\n",
       "      <td>1414</td>\n",
       "      <td>714</td>\n",
       "      <td>186</td>\n",
       "      <td>65792</td>\n",
       "      <td>121442</td>\n",
       "      <td>59706</td>\n",
       "      <td>13056</td>\n",
       "      <td>12884</td>\n",
       "      <td>3762</td>\n",
       "      <td>442</td>\n",
       "      <td>148</td>\n",
       "      <td>52</td>\n",
       "      <td>45280</td>\n",
       "      <td>84961</td>\n",
       "      <td>44495</td>\n",
       "      <td>12251</td>\n",
       "      <td>16583</td>\n",
       "      <td>5226</td>\n",
       "      <td>1426</td>\n",
       "      <td>1030</td>\n",
       "      <td>293</td>\n",
       "    </tr>\n",
       "    <tr>\n",
       "      <th>1</th>\n",
       "      <td>2014-03-02</td>\n",
       "      <td>231264</td>\n",
       "      <td>176557</td>\n",
       "      <td>3</td>\n",
       "      <td>9</td>\n",
       "      <td>1</td>\n",
       "      <td>Sunday</td>\n",
       "      <td>1</td>\n",
       "      <td>11.634141</td>\n",
       "      <td>0.409126</td>\n",
       "      <td>40.099519</td>\n",
       "      <td>-72.797495</td>\n",
       "      <td>40.053491</td>\n",
       "      <td>-72.709109</td>\n",
       "      <td>11.277417</td>\n",
       "      <td>10-20min</td>\n",
       "      <td>3.103580</td>\n",
       "      <td>14.641738</td>\n",
       "      <td>12.269199</td>\n",
       "      <td>1.421354</td>\n",
       "      <td>172260</td>\n",
       "      <td>3455</td>\n",
       "      <td>295</td>\n",
       "      <td>54</td>\n",
       "      <td>486</td>\n",
       "      <td>7</td>\n",
       "      <td>132324</td>\n",
       "      <td>97072</td>\n",
       "      <td>1100</td>\n",
       "      <td>620</td>\n",
       "      <td>148</td>\n",
       "      <td>53024</td>\n",
       "      <td>100852</td>\n",
       "      <td>48142</td>\n",
       "      <td>14648</td>\n",
       "      <td>10634</td>\n",
       "      <td>3260</td>\n",
       "      <td>508</td>\n",
       "      <td>136</td>\n",
       "      <td>60</td>\n",
       "      <td>32934</td>\n",
       "      <td>69577</td>\n",
       "      <td>38391</td>\n",
       "      <td>13171</td>\n",
       "      <td>14763</td>\n",
       "      <td>4806</td>\n",
       "      <td>1602</td>\n",
       "      <td>951</td>\n",
       "      <td>362</td>\n",
       "    </tr>\n",
       "  </tbody>\n",
       "</table>\n",
       "</div>"
      ],
      "text/plain": [
       "  pickup_date  total_orders  total_trips  pickup_month  pickup_week  \\\n",
       "0  2014-03-01        277284       211545             3            9   \n",
       "1  2014-03-02        231264       176557             3            9   \n",
       "\n",
       "   pickup_weekinmonth pickup_dayofweek  pickup_isweekend  pickup_hour  \\\n",
       "0                   1         Saturday                 1    13.127753   \n",
       "1                   1           Sunday                 1    11.634141   \n",
       "\n",
       "   pickup_isrush  pickup_latitude  pickup_longitude  dropoff_latitude  \\\n",
       "0       0.425838        40.084363        -72.772283         40.060088   \n",
       "1       0.409126        40.099519        -72.797495         40.053491   \n",
       "\n",
       "   dropoff_longitude  duration_minutes duration_type  trip_distance  \\\n",
       "0         -72.725061         12.191076      10-20min       2.766199   \n",
       "1         -72.709109         11.277417      10-20min       3.103580   \n",
       "\n",
       "   total_amount  fare_amount  tip_amount  Standard   JFK  Newark  \\\n",
       "0     14.058896    11.856336    1.333832    208065  2672     229   \n",
       "1     14.641738    12.269199    1.421354    172260  3455     295   \n",
       "\n",
       "   Nassau / Westchester  Negotiated  Group ride     CRD     CSH   UNK  NOC  \\\n",
       "0                    39         540           0  155788  119182  1414  714   \n",
       "1                    54         486           7  132324   97072  1100  620   \n",
       "\n",
       "   DIS  pickup ‖ Manhattan • Lower Manhattan  \\\n",
       "0  186                                 65792   \n",
       "1  148                                 53024   \n",
       "\n",
       "   pickup ‖ Manhattan • Midtown Manhattan  \\\n",
       "0                                  121442   \n",
       "1                                  100852   \n",
       "\n",
       "   pickup ‖ Manhattan • Upper Manhattan  pickup ‖ Queens  pickup ‖ Brooklyn  \\\n",
       "0                                 59706            13056              12884   \n",
       "1                                 48142            14648              10634   \n",
       "\n",
       "   pickup ‖ Manhattan • Harlem  pickup ‖ Manhattan • Washington Heights  \\\n",
       "0                         3762                                      442   \n",
       "1                         3260                                      508   \n",
       "\n",
       "   pickup ‖ Bronx  pickup ‖ Staten Island  \\\n",
       "0             148                      52   \n",
       "1             136                      60   \n",
       "\n",
       "   dropoff ‖ Manhattan • Lower Manhattan  \\\n",
       "0                                  45280   \n",
       "1                                  32934   \n",
       "\n",
       "   dropoff ‖ Manhattan • Midtown Manhattan  \\\n",
       "0                                    84961   \n",
       "1                                    69577   \n",
       "\n",
       "   dropoff ‖ Manhattan • Upper Manhattan  dropoff ‖ Queens  \\\n",
       "0                                  44495             12251   \n",
       "1                                  38391             13171   \n",
       "\n",
       "   dropoff ‖ Brooklyn  dropoff ‖ Manhattan • Harlem  \\\n",
       "0               16583                          5226   \n",
       "1               14763                          4806   \n",
       "\n",
       "   dropoff ‖ Manhattan • Washington Heights  dropoff ‖ Bronx  \\\n",
       "0                                      1426             1030   \n",
       "1                                      1602              951   \n",
       "\n",
       "   dropoff ‖ Staten Island  \n",
       "0                      293  \n",
       "1                      362  "
      ]
     },
     "execution_count": 7,
     "metadata": {},
     "output_type": "execute_result"
    },
    {
     "name": "stdout",
     "output_type": "stream",
     "text": [
      "time: 484 ms\n"
     ]
    }
   ],
   "source": [
    "df_daily = pd.read_csv('df_orders_tF_daily.csv') # reading previously transformed data\n",
    "df_daily.head(2)"
   ]
  },
  {
   "cell_type": "markdown",
   "metadata": {},
   "source": [
    "### Data by passenger"
   ]
  },
  {
   "cell_type": "code",
   "execution_count": 8,
   "metadata": {},
   "outputs": [
    {
     "data": {
      "text/html": [
       "<div>\n",
       "<style scoped>\n",
       "    .dataframe tbody tr th:only-of-type {\n",
       "        vertical-align: middle;\n",
       "    }\n",
       "\n",
       "    .dataframe tbody tr th {\n",
       "        vertical-align: top;\n",
       "    }\n",
       "\n",
       "    .dataframe thead th {\n",
       "        text-align: right;\n",
       "    }\n",
       "</style>\n",
       "<table border=\"1\" class=\"dataframe\">\n",
       "  <thead>\n",
       "    <tr style=\"text-align: right;\">\n",
       "      <th></th>\n",
       "      <th>passenger_id</th>\n",
       "      <th>total_orders</th>\n",
       "      <th>pickup_month</th>\n",
       "      <th>pickup_week</th>\n",
       "      <th>pickup_weekinmonth</th>\n",
       "      <th>pickup_isweekend</th>\n",
       "      <th>pickup_hour</th>\n",
       "      <th>pickup_isrush</th>\n",
       "      <th>pickup_latitude</th>\n",
       "      <th>pickup_longitude</th>\n",
       "      <th>dropoff_latitude</th>\n",
       "      <th>dropoff_longitude</th>\n",
       "      <th>duration_minutes</th>\n",
       "      <th>trip_distance</th>\n",
       "      <th>total_amount</th>\n",
       "      <th>fare_amount</th>\n",
       "      <th>tip_amount</th>\n",
       "    </tr>\n",
       "  </thead>\n",
       "  <tbody>\n",
       "    <tr>\n",
       "      <th>0</th>\n",
       "      <td>5234567812345678</td>\n",
       "      <td>160</td>\n",
       "      <td>3.693750</td>\n",
       "      <td>14.468750</td>\n",
       "      <td>2.718750</td>\n",
       "      <td>0.250000</td>\n",
       "      <td>13.493750</td>\n",
       "      <td>0.481250</td>\n",
       "      <td>40.242022</td>\n",
       "      <td>-73.052296</td>\n",
       "      <td>40.404677</td>\n",
       "      <td>-73.347880</td>\n",
       "      <td>12.556356</td>\n",
       "      <td>2.509576</td>\n",
       "      <td>13.457712</td>\n",
       "      <td>11.368644</td>\n",
       "      <td>1.065169</td>\n",
       "    </tr>\n",
       "    <tr>\n",
       "      <th>1</th>\n",
       "      <td>5234567812345679</td>\n",
       "      <td>132</td>\n",
       "      <td>3.689394</td>\n",
       "      <td>14.484848</td>\n",
       "      <td>2.727273</td>\n",
       "      <td>0.295455</td>\n",
       "      <td>14.469697</td>\n",
       "      <td>0.469697</td>\n",
       "      <td>40.443271</td>\n",
       "      <td>-73.415126</td>\n",
       "      <td>40.355975</td>\n",
       "      <td>-73.257267</td>\n",
       "      <td>13.465372</td>\n",
       "      <td>3.031456</td>\n",
       "      <td>16.101359</td>\n",
       "      <td>13.218447</td>\n",
       "      <td>1.701845</td>\n",
       "    </tr>\n",
       "  </tbody>\n",
       "</table>\n",
       "</div>"
      ],
      "text/plain": [
       "       passenger_id  total_orders  pickup_month  pickup_week  \\\n",
       "0  5234567812345678           160      3.693750    14.468750   \n",
       "1  5234567812345679           132      3.689394    14.484848   \n",
       "\n",
       "   pickup_weekinmonth  pickup_isweekend  pickup_hour  pickup_isrush  \\\n",
       "0            2.718750          0.250000    13.493750       0.481250   \n",
       "1            2.727273          0.295455    14.469697       0.469697   \n",
       "\n",
       "   pickup_latitude  pickup_longitude  dropoff_latitude  dropoff_longitude  \\\n",
       "0        40.242022        -73.052296         40.404677         -73.347880   \n",
       "1        40.443271        -73.415126         40.355975         -73.257267   \n",
       "\n",
       "   duration_minutes  trip_distance  total_amount  fare_amount  tip_amount  \n",
       "0         12.556356       2.509576     13.457712    11.368644    1.065169  \n",
       "1         13.465372       3.031456     16.101359    13.218447    1.701845  "
      ]
     },
     "execution_count": 8,
     "metadata": {},
     "output_type": "execute_result"
    },
    {
     "name": "stdout",
     "output_type": "stream",
     "text": [
      "time: 18.1 s\n"
     ]
    }
   ],
   "source": [
    "df_passenger = pd.read_csv('df_orders_tF_passenger.csv') # reading previously transformed data\n",
    "df_passenger.head(2)"
   ]
  },
  {
   "cell_type": "markdown",
   "metadata": {},
   "source": [
    "## Exᴘʟᴏʀᴀᴛᴏʀʏ Dᴀᴛᴀ Aɴᴀʟʏsɪs • Organizing features into classes"
   ]
  },
  {
   "cell_type": "markdown",
   "metadata": {},
   "source": [
    "🔎 <i> Let's take a look at the features again to choose the relations to be visually inspected. </i>"
   ]
  },
  {
   "cell_type": "markdown",
   "metadata": {},
   "source": [
    "### Features List • All orders "
   ]
  },
  {
   "cell_type": "code",
   "execution_count": 9,
   "metadata": {},
   "outputs": [
    {
     "data": {
      "text/plain": [
       "['order_id',\n",
       " 'passenger_id',\n",
       " 'pickup_datetime',\n",
       " 'pickup_month',\n",
       " 'pickup_week',\n",
       " 'pickup_weekinmonth',\n",
       " 'pickup_date',\n",
       " 'pickup_dayofweek',\n",
       " 'pickup_isweekend',\n",
       " 'pickup_hour',\n",
       " 'pickup_isrush',\n",
       " 'pickup_latitude',\n",
       " 'pickup_longitude',\n",
       " 'dropoff_latitude',\n",
       " 'dropoff_longitude',\n",
       " 'dropoff_datetime',\n",
       " 'duration',\n",
       " 'duration_minutes',\n",
       " 'duration_type',\n",
       " 'trip_distance',\n",
       " 'total_amount',\n",
       " 'fare_amount',\n",
       " 'tip_amount',\n",
       " 'rate_type',\n",
       " 'payment_type',\n",
       " 'pickup_borough',\n",
       " 'dropoff_borough']"
      ]
     },
     "execution_count": 9,
     "metadata": {},
     "output_type": "execute_result"
    },
    {
     "name": "stdout",
     "output_type": "stream",
     "text": [
      "time: 31 ms\n"
     ]
    }
   ],
   "source": [
    "list(df.columns)"
   ]
  },
  {
   "cell_type": "markdown",
   "metadata": {},
   "source": [
    "### Features List • Daily data"
   ]
  },
  {
   "cell_type": "code",
   "execution_count": 10,
   "metadata": {
    "scrolled": false
   },
   "outputs": [
    {
     "data": {
      "text/plain": [
       "['pickup_date',\n",
       " 'total_orders',\n",
       " 'total_trips',\n",
       " 'pickup_month',\n",
       " 'pickup_week',\n",
       " 'pickup_weekinmonth',\n",
       " 'pickup_dayofweek',\n",
       " 'pickup_isweekend',\n",
       " 'pickup_hour',\n",
       " 'pickup_isrush',\n",
       " 'pickup_latitude',\n",
       " 'pickup_longitude',\n",
       " 'dropoff_latitude',\n",
       " 'dropoff_longitude',\n",
       " 'duration_minutes',\n",
       " 'duration_type',\n",
       " 'trip_distance',\n",
       " 'total_amount',\n",
       " 'fare_amount',\n",
       " 'tip_amount',\n",
       " 'Standard',\n",
       " 'JFK',\n",
       " 'Newark',\n",
       " 'Nassau / Westchester',\n",
       " 'Negotiated',\n",
       " 'Group ride',\n",
       " 'CRD',\n",
       " 'CSH',\n",
       " 'UNK',\n",
       " 'NOC',\n",
       " 'DIS',\n",
       " 'pickup ‖ Manhattan • Lower Manhattan',\n",
       " 'pickup ‖ Manhattan • Midtown Manhattan',\n",
       " 'pickup ‖ Manhattan • Upper Manhattan',\n",
       " 'pickup ‖ Queens',\n",
       " 'pickup ‖ Brooklyn',\n",
       " 'pickup ‖ Manhattan • Harlem',\n",
       " 'pickup ‖ Manhattan • Washington Heights',\n",
       " 'pickup ‖ Bronx',\n",
       " 'pickup ‖ Staten Island',\n",
       " 'dropoff ‖ Manhattan • Lower Manhattan',\n",
       " 'dropoff ‖ Manhattan • Midtown Manhattan',\n",
       " 'dropoff ‖ Manhattan • Upper Manhattan',\n",
       " 'dropoff ‖ Queens',\n",
       " 'dropoff ‖ Brooklyn',\n",
       " 'dropoff ‖ Manhattan • Harlem',\n",
       " 'dropoff ‖ Manhattan • Washington Heights',\n",
       " 'dropoff ‖ Bronx',\n",
       " 'dropoff ‖ Staten Island']"
      ]
     },
     "execution_count": 10,
     "metadata": {},
     "output_type": "execute_result"
    },
    {
     "name": "stdout",
     "output_type": "stream",
     "text": [
      "time: 0 ns\n"
     ]
    }
   ],
   "source": [
    "list(df_daily.columns)"
   ]
  },
  {
   "cell_type": "markdown",
   "metadata": {},
   "source": [
    "### Features List • Data by passenger"
   ]
  },
  {
   "cell_type": "code",
   "execution_count": 11,
   "metadata": {
    "scrolled": true
   },
   "outputs": [
    {
     "data": {
      "text/plain": [
       "['passenger_id',\n",
       " 'total_orders',\n",
       " 'pickup_month',\n",
       " 'pickup_week',\n",
       " 'pickup_weekinmonth',\n",
       " 'pickup_isweekend',\n",
       " 'pickup_hour',\n",
       " 'pickup_isrush',\n",
       " 'pickup_latitude',\n",
       " 'pickup_longitude',\n",
       " 'dropoff_latitude',\n",
       " 'dropoff_longitude',\n",
       " 'duration_minutes',\n",
       " 'trip_distance',\n",
       " 'total_amount',\n",
       " 'fare_amount',\n",
       " 'tip_amount']"
      ]
     },
     "execution_count": 11,
     "metadata": {},
     "output_type": "execute_result"
    },
    {
     "name": "stdout",
     "output_type": "stream",
     "text": [
      "time: 16 ms\n"
     ]
    }
   ],
   "source": [
    "list(df_passenger.columns)"
   ]
  },
  {
   "cell_type": "markdown",
   "metadata": {},
   "source": [
    "### Features classes • All orders "
   ]
  },
  {
   "cell_type": "markdown",
   "metadata": {},
   "source": [
    "<table align='left'>\n",
    "    <tr style=\"background-color:#FFFFFF; border-bottom:1px solid black\" >\n",
    "        <th style=\"text-align:left \" > Iɴᴘᴜᴛ </th>\n",
    "        <th style=\"text-align:left \" > </th>\n",
    "        <th style=\"text-align:left \" > </th>\n",
    "        <th style=\"text-align:left \" > </th>\n",
    "        <th style=\"text-align:left \" > </th>\n",
    "        <th style=\"text-align:left \" > </th>\n",
    "        <th style=\"text-align:left \" > Tᴀʀɢᴇᴛ </th>\n",
    "    </tr>\n",
    "    <tr style=\"border-bottom:1px solid black\" >\n",
    "        <th style=\"text-align:left \" > Cʟɪᴇɴᴛ ᴀᴄᴄᴏᴜɴᴛ </th>\n",
    "        <th style=\"text-align:left \" > Tɪᴍᴇ </th>\n",
    "        <th style=\"text-align:left \" > Dᴜʀᴀᴛɪᴏɴ </th>\n",
    "        <th style=\"text-align:left \" > Dɪsᴛᴀɴᴄᴇ </th>\n",
    "        <th style=\"text-align:left \" > Lᴏᴄᴀᴛɪᴏɴ </th>\n",
    "        <th style=\"text-align:left \" > Pᴀʏᴍᴇɴᴛ ᴛʏᴘᴇ </th>\n",
    "        <th style=\"text-align:left \" > Hᴀᴘᴘɪɴᴇss & Rᴇᴠᴇɴᴜᴇ</th>\n",
    "    </tr>\n",
    "    <tr>\n",
    "        <td style=\"text-align:left \" > <b> passenger_id* </td>\n",
    "        <td style=\"text-align:left \" > <b> pickup_isweekend </td>\n",
    "        <td style=\"text-align:left \" > <b> duration_type </td>\n",
    "        <td style=\"text-align:left \" > <b> trip_distance </td>\n",
    "        <td style=\"text-align:left \" > <b> pickup_borough </td>\n",
    "        <td style=\"text-align:left \" > <b> payment_type </td>\n",
    "        <td style=\"text-align:left \" > <b> tip_amount (Hᴀᴘᴘɪɴᴇss)  </td>\n",
    "    </tr>\n",
    "    <tr>\n",
    "        <td style=\"text-align:left \" >  </td>\n",
    "        <td style=\"text-align:left \" > <b> pickup_isrush </td>\n",
    "        <td style=\"text-align:left \" > <b> duration_minutes </td>\n",
    "        <td style=\"text-align:left \" >  </td>\n",
    "        <td style=\"text-align:left \" > <b> dropoff_borough </td>\n",
    "        <td style=\"text-align:left \" >  </td>\n",
    "        <td style=\"text-align:left \" > <b> total_amount (Rᴇᴠᴇɴᴜᴇ) </td>\n",
    "    </tr>\n",
    "    <tr>\n",
    "        <td style=\"text-align:left \" >  </td>\n",
    "        <td style=\"text-align:left \" > <b> pickup_month </td>\n",
    "        <td style=\"text-align:left \" > duration </td>\n",
    "        <td style=\"text-align:left \" >  </td>\n",
    "        <td style=\"text-align:left \" > <b> rate_type** </td>\n",
    "        <td style=\"text-align:left \" >  </td>\n",
    "        <td style=\"text-align:left \" > fare_amount (Rᴇᴠᴇɴᴜᴇ) </td>\n",
    "    </tr>\n",
    "    <tr>\n",
    "        <td style=\"text-align:left \" >  </td>\n",
    "        <td style=\"text-align:left \" > <b> pickup_weekinmonth </td>\n",
    "        <td style=\"text-align:left \" >  </td>\n",
    "        <td style=\"text-align:left \" >  </td>\n",
    "        <td style=\"text-align:left \" >  </td>\n",
    "        <td style=\"text-align:left \" >  </td>\n",
    "        <td style=\"text-align:left \" >  </td>\n",
    "    </tr>\n",
    "    <tr>\n",
    "        <td style=\"text-align:left \" >  </td>\n",
    "        <td style=\"text-align:left \" > <b> pickup_hour </td>\n",
    "        <td style=\"text-align:left \" >  </td>\n",
    "        <td style=\"text-align:left \" >  </td>\n",
    "        <td style=\"text-align:left \" >  </td>\n",
    "        <td style=\"text-align:left \" >  </td>\n",
    "        <td style=\"text-align:left \" >  </td>\n",
    "    </tr>\n",
    "    <tr>\n",
    "        <td style=\"text-align:left \" >  </td>\n",
    "        <td style=\"text-align:left \" > pickup_datetime </td>\n",
    "        <td style=\"text-align:left \" >  </td>\n",
    "        <td style=\"text-align:left \" >  </td>\n",
    "        <td style=\"text-align:left \" >  </td>\n",
    "        <td style=\"text-align:left \" >  </td>\n",
    "        <td style=\"text-align:left \" >  </td>\n",
    "    </tr>\n",
    "    <tr>\n",
    "        <td style=\"text-align:left \" >  </td>\n",
    "        <td style=\"text-align:left \" > pickup_week </td>\n",
    "        <td style=\"text-align:left \" >  </td>\n",
    "        <td style=\"text-align:left \" >  </td>\n",
    "        <td style=\"text-align:left \" >  </td>\n",
    "        <td style=\"text-align:left \" >  </td>\n",
    "        <td style=\"text-align:left \" >  </td>\n",
    "    </tr>\n",
    "    <tr>\n",
    "        <td style=\"text-align:left \" >  </td>\n",
    "        <td style=\"text-align:left \" > pickup_date </td>\n",
    "        <td style=\"text-align:left \" >  </td>\n",
    "        <td style=\"text-align:left \" >  </td>\n",
    "        <td style=\"text-align:left \" >  </td>\n",
    "        <td style=\"text-align:left \" >  </td>\n",
    "        <td style=\"text-align:left \" >  </td>\n",
    "    </tr>\n",
    "    <tr>\n",
    "        <td style=\"text-align:left \" >  </td>\n",
    "        <td style=\"text-align:left \" > dropoff_datetime </td>\n",
    "        <td style=\"text-align:left \" >  </td>\n",
    "        <td style=\"text-align:left \" >  </td>\n",
    "        <td style=\"text-align:left \" >  </td>\n",
    "        <td style=\"text-align:left \" >  </td>\n",
    "        <td style=\"text-align:left \" >  </td>\n",
    "    </tr>\n",
    "</table>\n",
    "<br>"
   ]
  },
  {
   "cell_type": "markdown",
   "metadata": {},
   "source": [
    "\\* <b> bold features are representative of the whole class </b> <br>\n",
    "\\** <i> rate_type </i> classified considering it is mostly location-related, only exception being the 'group' ride"
   ]
  },
  {
   "cell_type": "markdown",
   "metadata": {},
   "source": [
    "### Features classes • Daily data"
   ]
  },
  {
   "cell_type": "markdown",
   "metadata": {},
   "source": [
    "<table align='left'>\n",
    "    <tr style=\"background-color:#FFFFFF; border-bottom:1px solid black\" >\n",
    "        <th style=\"text-align:left \" > Iɴᴘᴜᴛ </th>\n",
    "        <th style=\"text-align:left \" > </th>\n",
    "        <th style=\"text-align:left \" > </th>\n",
    "        <th style=\"text-align:left \" > </th>\n",
    "        <th style=\"text-align:left \" > </th>\n",
    "        <th style=\"text-align:left \" > </th>\n",
    "        <th style=\"text-align:left \" > Tᴀʀɢᴇᴛ </th>\n",
    "    </tr>\n",
    "    <tr style=\"border-bottom:1px solid black\" >\n",
    "        <th style=\"text-align:left \" > Cʟɪᴇɴᴛ ᴛʀᴀɴsᴀᴄᴛɪᴏɴs </th>\n",
    "        <th style=\"text-align:left \" > Tɪᴍᴇ </th>\n",
    "        <th style=\"text-align:left \" > Dᴜʀᴀᴛɪᴏɴ </th>\n",
    "        <th style=\"text-align:left \" > Dɪsᴛᴀɴᴄᴇ </th>\n",
    "        <th style=\"text-align:left \" > Lᴏᴄᴀᴛɪᴏɴ </th>\n",
    "        <th style=\"text-align:left \" > Pᴀʏᴍᴇɴᴛ ᴛʏᴘᴇ </th>\n",
    "        <th style=\"text-align:left \" > Hᴀᴘᴘɪɴᴇss & Rᴇᴠᴇɴᴜᴇ</th>\n",
    "    </tr>\n",
    "    <tr>\n",
    "        <td style=\"text-align:left \" > <b> total_orders* </td>\n",
    "        <td style=\"text-align:left \" > <b> pickup_date </td>\n",
    "        <td style=\"text-align:left \" > <b> duration_type </td>\n",
    "        <td style=\"text-align:left \" > <b> trip_distance </td>\n",
    "        <td style=\"text-align:left \" > <b> pickup_borough </b> (specified) </td>\n",
    "        <td style=\"text-align:left \" > <b> payment_type </b> (specified) </td>\n",
    "        <td style=\"text-align:left \" > <b> tip_amount (Hᴀᴘᴘɪɴᴇss)  </td>\n",
    "    </tr>\n",
    "    <tr>\n",
    "        <td style=\"text-align:left \" > <b> total_trips </td>\n",
    "        <td style=\"text-align:left \" > <b> pickup_isweekend </td>\n",
    "        <td style=\"text-align:left \" > <b> duration_minutes </td>\n",
    "        <td style=\"text-align:left \" >  </td>\n",
    "        <td style=\"text-align:left \" > <b> dropoff_borough </b> (specified) </td>\n",
    "        <td style=\"text-align:left \" >  </td>\n",
    "        <td style=\"text-align:left \" > <b> total_amount (Rᴇᴠᴇɴᴜᴇ) </td>\n",
    "    </tr>\n",
    "    <tr>\n",
    "        <td style=\"text-align:left \" >  </td>\n",
    "        <td style=\"text-align:left \" > <b> pickup_isrush </td>\n",
    "        <td style=\"text-align:left \" >  </td>\n",
    "        <td style=\"text-align:left \" >  </td>\n",
    "        <td style=\"text-align:left \" > <b> rate_type** </b> (specified) </td>\n",
    "        <td style=\"text-align:left \" >  </td>\n",
    "        <td style=\"text-align:left \" > fare_amount (Rᴇᴠᴇɴᴜᴇ) </td>\n",
    "    </tr>\n",
    "    <tr>\n",
    "        <td style=\"text-align:left \" >  </td>\n",
    "        <td style=\"text-align:left \" > <b> pickup_month </td>\n",
    "        <td style=\"text-align:left \" >  </td>\n",
    "        <td style=\"text-align:left \" >  </td>\n",
    "        <td style=\"text-align:left \" > pickup_latitude </td>\n",
    "        <td style=\"text-align:left \" >  </td>\n",
    "        <td style=\"text-align:left \" >  </td>\n",
    "    </tr>\n",
    "    <tr>\n",
    "        <td style=\"text-align:left \" >  </td>\n",
    "        <td style=\"text-align:left \" > <b> pickup_weekinmonth </td>\n",
    "        <td style=\"text-align:left \" >  </td>\n",
    "        <td style=\"text-align:left \" >  </td>\n",
    "        <td style=\"text-align:left \" > pickup_longitude </td>\n",
    "        <td style=\"text-align:left \" >  </td>\n",
    "        <td style=\"text-align:left \" >  </td>\n",
    "    </tr>\n",
    "    <tr>\n",
    "        <td style=\"text-align:left \" >  </td>\n",
    "        <td style=\"text-align:left \" > <b> pickup_hour </td>\n",
    "        <td style=\"text-align:left \" >  </td>\n",
    "        <td style=\"text-align:left \" >  </td>\n",
    "        <td style=\"text-align:left \" > dropoff_latitude </td>\n",
    "        <td style=\"text-align:left \" >  </td>\n",
    "        <td style=\"text-align:left \" >  </td>\n",
    "    </tr>\n",
    "    <tr>\n",
    "        <td style=\"text-align:left \" >  </td>\n",
    "        <td style=\"text-align:left \" > pickup_datetime </td>\n",
    "        <td style=\"text-align:left \" >  </td>\n",
    "        <td style=\"text-align:left \" >  </td>\n",
    "        <td style=\"text-align:left \" > dropoff_longitude </td>\n",
    "        <td style=\"text-align:left \" >  </td>\n",
    "        <td style=\"text-align:left \" >  </td>\n",
    "    </tr>\n",
    "    <tr>\n",
    "        <td style=\"text-align:left \" >  </td>\n",
    "        <td style=\"text-align:left \" > pickup_week </td>\n",
    "        <td style=\"text-align:left \" >  </td>\n",
    "        <td style=\"text-align:left \" >  </td>\n",
    "        <td style=\"text-align:left \" >  </td>\n",
    "        <td style=\"text-align:left \" >  </td>\n",
    "        <td style=\"text-align:left \" >  </td>\n",
    "    </tr>\n",
    "    <tr>\n",
    "        <td style=\"text-align:left \" >  </td>\n",
    "        <td style=\"text-align:left \" > dropoff_datetime </td>\n",
    "        <td style=\"text-align:left \" >  </td>\n",
    "        <td style=\"text-align:left \" >  </td>\n",
    "        <td style=\"text-align:left \" >  </td>\n",
    "        <td style=\"text-align:left \" >  </td>\n",
    "        <td style=\"text-align:left \" >  </td>\n",
    "    </tr>\n",
    "</table>\n",
    "<br>"
   ]
  },
  {
   "cell_type": "markdown",
   "metadata": {},
   "source": [
    "\\* <b> bold features are representative of the whole class </b> <br>\n",
    "\\** <i> rate_type </i> classified considering it is mostly location-related, only exception being the 'group' ride"
   ]
  },
  {
   "cell_type": "markdown",
   "metadata": {},
   "source": [
    "### Features classes • Data by passenger"
   ]
  },
  {
   "cell_type": "markdown",
   "metadata": {},
   "source": [
    "<table align='left'>\n",
    "    <tr style=\"background-color:#FFFFFF; border-bottom:1px solid black\" >\n",
    "        <th style=\"text-align:left \" > Iɴᴘᴜᴛ </th>\n",
    "        <th style=\"text-align:left \" > </th>\n",
    "        <th style=\"text-align:left \" > </th>\n",
    "        <th style=\"text-align:left \" > </th>\n",
    "        <th style=\"text-align:left \" > </th>\n",
    "   <!-- <th style=\"text-align:left \" > </th> -->\n",
    "        <th style=\"text-align:left \" > Tᴀʀɢᴇᴛ </th>\n",
    "    </tr>\n",
    "    <tr style=\"border-bottom:1px solid black\" >\n",
    "        <th style=\"text-align:left \" > Cʟɪᴇɴᴛ ᴛʀᴀɴsᴀᴄᴛɪᴏɴs </th>\n",
    "        <th style=\"text-align:left \" > Tɪᴍᴇ </th>\n",
    "        <th style=\"text-align:left \" > Dᴜʀᴀᴛɪᴏɴ </th>\n",
    "        <th style=\"text-align:left \" > Dɪsᴛᴀɴᴄᴇ </th>\n",
    "        <th style=\"text-align:left \" > Lᴏᴄᴀᴛɪᴏɴ </th>\n",
    "   <!-- <th style=\"text-align:left \" > Pᴀʏᴍᴇɴᴛ ᴛʏᴘᴇ </th> -->\n",
    "        <th style=\"text-align:left \" > Hᴀᴘᴘɪɴᴇss & Rᴇᴠᴇɴᴜᴇ</th>\n",
    "    </tr>\n",
    "    <tr>\n",
    "        <td style=\"text-align:left \" > <b> total_orders* </td>\n",
    "        <td style=\"text-align:left \" > <b> pickup_isweekend </td>\n",
    "        <td style=\"text-align:left \" > <b> duration_type </td>\n",
    "        <td style=\"text-align:left \" > <b> trip_distance </td>\n",
    "        <td style=\"text-align:left \" > <b> pickup_latitude </td>\n",
    "   <!-- <td style=\"text-align:left \" > <b> payment_type </b> (specified) </td> -->\n",
    "        <td style=\"text-align:left \" > <b> tip_amount (Hᴀᴘᴘɪɴᴇss)  </td>\n",
    "    </tr>\n",
    "    <tr>\n",
    "        <td style=\"text-align:left \" >  </td>\n",
    "        <td style=\"text-align:left \" > <b> pickup_isrush </td>\n",
    "        <td style=\"text-align:left \" > <b> duration_minutes </td>\n",
    "        <td style=\"text-align:left \" >  </td>\n",
    "        <td style=\"text-align:left \" > <b> pickup_longitude </td>\n",
    "   <!-- <td style=\"text-align:left \" >  </td> -->\n",
    "        <td style=\"text-align:left \" > <b> total_amount (Rᴇᴠᴇɴᴜᴇ) </td>\n",
    "    </tr>\n",
    "    <tr>\n",
    "        <td style=\"text-align:left \" >  </td>\n",
    "        <td style=\"text-align:left \" > <b> pickup_month </td>\n",
    "        <td style=\"text-align:left \" >  </td>\n",
    "        <td style=\"text-align:left \" >  </td>\n",
    "        <td style=\"text-align:left \" > <b> dropoff_latitude </td>\n",
    "   <!-- <td style=\"text-align:left \" >  </td> -->\n",
    "        <td style=\"text-align:left \" > fare_amount (Rᴇᴠᴇɴᴜᴇ) </td>\n",
    "    </tr>\n",
    "    <tr>\n",
    "        <td style=\"text-align:left \" >  </td>\n",
    "        <td style=\"text-align:left \" > <b> pickup_weekinmonth </td>\n",
    "        <td style=\"text-align:left \" >  </td>\n",
    "        <td style=\"text-align:left \" >  </td>\n",
    "        <td style=\"text-align:left \" > <b> dropoff_longitude </td>\n",
    "   <!-- <td style=\"text-align:left \" >  </td> -->\n",
    "        <td style=\"text-align:left \" >  </td>\n",
    "    </tr>\n",
    "    <tr>\n",
    "        <td style=\"text-align:left \" >  </td>\n",
    "        <td style=\"text-align:left \" > <b> pickup_hour </td>\n",
    "        <td style=\"text-align:left \" >  </td>\n",
    "        <td style=\"text-align:left \" >  </td>\n",
    "        <td style=\"text-align:left \" >  </td>\n",
    "   <!-- <td style=\"text-align:left \" >  </td> -->\n",
    "        <td style=\"text-align:left \" >  </td>\n",
    "    </tr>\n",
    "    <tr>\n",
    "        <td style=\"text-align:left \" >  </td>\n",
    "        <td style=\"text-align:left \" > <b> pickup_week </td>\n",
    "        <td style=\"text-align:left \" >  </td>\n",
    "        <td style=\"text-align:left \" >  </td>\n",
    "        <td style=\"text-align:left \" >  </td>\n",
    "        <td style=\"text-align:left \" >  </td>\n",
    "        <td style=\"text-align:left \" >  </td>\n",
    "    </tr>\n",
    "<!--     <tr>\n",
    "        <td style=\"text-align:left \" >  </td>\n",
    "        <td style=\"text-align:left \" >  </td>\n",
    "        <td style=\"text-align:left \" >  </td>\n",
    "        <td style=\"text-align:left \" >  </td>\n",
    "        <td style=\"text-align:left \" >  </td>\n",
    "        <td style=\"text-align:left \" >  </td>\n",
    "        <td style=\"text-align:left \" >  </td>\n",
    "    </tr>\n",
    "    <tr>\n",
    "        <td style=\"text-align:left \" >  </td>\n",
    "        <td style=\"text-align:left \" >  </td>\n",
    "        <td style=\"text-align:left \" >  </td>\n",
    "        <td style=\"text-align:left \" >  </td>\n",
    "        <td style=\"text-align:left \" >  </td>\n",
    "        <td style=\"text-align:left \" >  </td>\n",
    "        <td style=\"text-align:left \" >  </td>\n",
    "    </tr>\n",
    "    <tr>\n",
    "        <td style=\"text-align:left \" >  </td>\n",
    "        <td style=\"text-align:left \" >  </td>\n",
    "        <td style=\"text-align:left \" >  </td>\n",
    "        <td style=\"text-align:left \" >  </td>\n",
    "        <td style=\"text-align:left \" >  </td>\n",
    "        <td style=\"text-align:left \" >  </td> -->\n",
    "        <td style=\"text-align:left \" >  </td>\n",
    "    </tr>\n",
    "</table>\n",
    "<br>"
   ]
  },
  {
   "cell_type": "markdown",
   "metadata": {},
   "source": [
    "\\* <b> bold features are representative of the whole class </b>"
   ]
  },
  {
   "cell_type": "markdown",
   "metadata": {},
   "source": [
    "## Exᴘʟᴏʀᴀᴛᴏʀʏ Dᴀᴛᴀ Aɴᴀʟʏsɪs • Importing matplotlib"
   ]
  },
  {
   "cell_type": "code",
   "execution_count": 14,
   "metadata": {},
   "outputs": [
    {
     "name": "stdout",
     "output_type": "stream",
     "text": [
      "time: 0 ns\n"
     ]
    }
   ],
   "source": [
    "%matplotlib inline \n",
    "\n",
    "import matplotlib as mpl\n",
    "import matplotlib.pyplot as plt\n",
    "\n",
    "mpl.style.use('ggplot')"
   ]
  },
  {
   "cell_type": "markdown",
   "metadata": {},
   "source": [
    "## Exᴘʟᴏʀᴀᴛᴏʀʏ Dᴀᴛᴀ Aɴᴀʟʏsɪs • Correlations"
   ]
  },
  {
   "cell_type": "markdown",
   "metadata": {},
   "source": [
    "### Predictor x Predictor: Trip duration <i>vs.</i> distance"
   ]
  },
  {
   "cell_type": "code",
   "execution_count": 19,
   "metadata": {
    "scrolled": false
   },
   "outputs": [
    {
     "data": {
      "image/png": "[encoded data removed]",
      "text/plain": [
       "<Figure size 1440x432 with 1 Axes>"
      ]
     },
     "metadata": {},
     "output_type": "display_data"
    },
    {
     "name": "stdout",
     "output_type": "stream",
     "text": [
      "time: 28.8 s\n"
     ]
    }
   ],
   "source": [
    "# Checking correlation trip duration x distance\n",
    "x, y = df['duration_minutes'], df['trip_distance']\n",
    "\n",
    "plt.figure(figsize=(20, 6))\n",
    "plt.scatter(x, y, c='blue')\n",
    "plt.title('Checking correlation'+ y.name + ' x '+ x.name)\n",
    "plt.xlabel(x.name)\n",
    "plt.ylabel(y.name)\n",
    "plt.show()"
   ]
  },
  {
   "cell_type": "code",
   "execution_count": 22,
   "metadata": {
    "scrolled": false
   },
   "outputs": [
    {
     "data": {
      "image/png": "[encoded data removed]",
      "text/plain": [
       "<Figure size 1440x432 with 1 Axes>"
      ]
     },
     "metadata": {},
     "output_type": "display_data"
    },
    {
     "name": "stdout",
     "output_type": "stream",
     "text": [
      "time: 51.4 s\n"
     ]
    }
   ],
   "source": [
    "# Checking correlation trip duration x distance: filtered for distance < 2000\n",
    "x, y = df.loc[df['trip_distance'] < 2000, 'duration_minutes'], df.loc[df['trip_distance'] < 2000, 'trip_distance']\n",
    "\n",
    "plt.figure(figsize=(20, 6))\n",
    "plt.scatter(x, y, c='blue')\n",
    "plt.title('Checking correlation'+ y.name + ' x '+ x.name)\n",
    "plt.xlabel(x.name)\n",
    "plt.ylabel(y.name)\n",
    "plt.show()"
   ]
  },
  {
   "cell_type": "code",
   "execution_count": 23,
   "metadata": {
    "scrolled": false
   },
   "outputs": [
    {
     "data": {
      "image/png": "[encoded data removed]",
      "text/plain": [
       "<Figure size 1440x432 with 1 Axes>"
      ]
     },
     "metadata": {},
     "output_type": "display_data"
    },
    {
     "name": "stdout",
     "output_type": "stream",
     "text": [
      "time: 26.6 s\n"
     ]
    }
   ],
   "source": [
    "# Checking correlation trip duration x distance: filtered for distance < threshold\n",
    "threshold = 100\n",
    "x, y = df.loc[df['trip_distance'] < threshold, 'duration_minutes'], df.loc[df['trip_distance'] < threshold, 'trip_distance']\n",
    "\n",
    "plt.figure(figsize=(20, 6))\n",
    "plt.scatter(x, y, c='blue')\n",
    "plt.title('Checking correlation '+ y.name + ' x '+ x.name)\n",
    "plt.xlabel(x.name)\n",
    "plt.ylabel(y.name)\n",
    "plt.show()"
   ]
  },
  {
   "cell_type": "markdown",
   "metadata": {},
   "source": [
    "### Predictor x Predictor: Dropoff latitude <i>vs.</i> Pickup latitude"
   ]
  },
  {
   "cell_type": "code",
   "execution_count": 27,
   "metadata": {
    "scrolled": false
   },
   "outputs": [
    {
     "data": {
      "image/png": "[encoded data removed]",
      "text/plain": [
       "<Figure size 1440x432 with 1 Axes>"
      ]
     },
     "metadata": {},
     "output_type": "display_data"
    },
    {
     "name": "stdout",
     "output_type": "stream",
     "text": [
      "time: 28.2 s\n"
     ]
    }
   ],
   "source": [
    "# Checking correlation Dropoff latitude x Pickup latitude\n",
    "x, y = df['dropoff_latitude'], df['pickup_latitude']\n",
    "\n",
    "plt.figure(figsize=(20, 6))\n",
    "plt.scatter(x, y, c='blue')\n",
    "plt.title('Checking correlation '+ y.name + ' x '+ x.name)\n",
    "plt.xlabel(x.name)\n",
    "plt.ylabel(y.name)\n",
    "plt.show()"
   ]
  },
  {
   "cell_type": "markdown",
   "metadata": {},
   "source": [
    "### Predictor x Predictor: Dropoff longitude <i>vs.</i> Pickup longitude"
   ]
  },
  {
   "cell_type": "code",
   "execution_count": 28,
   "metadata": {
    "scrolled": false
   },
   "outputs": [
    {
     "data": {
      "image/png": "[encoded data removed]",
      "text/plain": [
       "<Figure size 1440x432 with 1 Axes>"
      ]
     },
     "metadata": {},
     "output_type": "display_data"
    },
    {
     "name": "stdout",
     "output_type": "stream",
     "text": [
      "time: 31.2 s\n"
     ]
    }
   ],
   "source": [
    "# Checking correlation Dropoff longitude x Pickup longitude\n",
    "x, y = df['dropoff_longitude'], df['pickup_longitude']\n",
    "\n",
    "plt.figure(figsize=(20, 6))\n",
    "plt.scatter(x, y, c='blue')\n",
    "plt.title('Checking correlation '+ y.name + ' x '+ x.name)\n",
    "plt.xlabel(x.name)\n",
    "plt.ylabel(y.name)\n",
    "plt.show()"
   ]
  },
  {
   "cell_type": "markdown",
   "metadata": {},
   "source": [
    "### Predictor x Predictor: Dropoff datetime <i>vs.</i> Pickup datetime"
   ]
  },
  {
   "cell_type": "code",
   "execution_count": null,
   "metadata": {
    "scrolled": false
   },
   "outputs": [],
   "source": [
    "# Checking correlation Dropoff datetime x Pickup datetime\n",
    "x, y = df['dropoff_datetime'], df['pickup_datetime']\n",
    "\n",
    "plt.figure(figsize=(20, 6))\n",
    "plt.scatter(x, y, c='blue')\n",
    "plt.title('Checking correlation '+ y.name + ' x '+ x.name)\n",
    "plt.xlabel(x.name)\n",
    "plt.ylabel(y.name)\n",
    "plt.show()"
   ]
  },
  {
   "cell_type": "markdown",
   "metadata": {},
   "source": [
    "### Target x Predictor: tip_amount (Hᴀᴘᴘɪɴᴇss) <i>vs.</i> Pickup datetime"
   ]
  },
  {
   "cell_type": "code",
   "execution_count": null,
   "metadata": {
    "scrolled": false
   },
   "outputs": [],
   "source": [
    "# Checking correlation Happiness x Pickup datetime\n",
    "x, y = df['tip_amount'], df['pickup_datetime']\n",
    "\n",
    "plt.figure(figsize=(20, 6))\n",
    "plt.scatter(x, y, c='blue')\n",
    "plt.title('Checking correlation '+ y.name + ' x '+ x.name)\n",
    "plt.xlabel(x.name)\n",
    "plt.ylabel(y.name)\n",
    "plt.show()"
   ]
  },
  {
   "cell_type": "markdown",
   "metadata": {},
   "source": [
    "### Target x Predictor: total_amount (Rᴇᴠᴇɴᴜᴇ) <i>vs.</i> Pickup datetime"
   ]
  },
  {
   "cell_type": "code",
   "execution_count": null,
   "metadata": {
    "scrolled": false
   },
   "outputs": [],
   "source": [
    "# Checking correlation Dropoff longitude x Pickup longitude\n",
    "x, y = df['total_amount'], df['pickup_datetime']\n",
    "\n",
    "plt.figure(figsize=(20, 6))\n",
    "plt.scatter(x, y, c='blue')\n",
    "plt.title('Checking correlation '+ y.name + ' x '+ x.name)\n",
    "plt.xlabel(x.name)\n",
    "plt.ylabel(y.name)\n",
    "plt.show()"
   ]
  },
  {
   "cell_type": "markdown",
   "metadata": {},
   "source": [
    "## Exᴘʟᴏʀᴀᴛᴏʀʏ Dᴀᴛᴀ Aɴᴀʟʏsɪs • Frequency distributions"
   ]
  },
  {
   "cell_type": "markdown",
   "metadata": {},
   "source": [
    "### Tʀɪᴘs: Frequency distribution by month (%)"
   ]
  },
  {
   "cell_type": "markdown",
   "metadata": {},
   "source": [
    "### Tʀɪᴘs: Frequency distribution by week in month (%)"
   ]
  },
  {
   "cell_type": "markdown",
   "metadata": {},
   "source": [
    "### Tʀɪᴘs: Frequency distribution by day of week (%)"
   ]
  },
  {
   "cell_type": "markdown",
   "metadata": {},
   "source": [
    "### Tʀɪᴘs: Frequency distribution by pickup hour (%)"
   ]
  },
  {
   "cell_type": "markdown",
   "metadata": {},
   "source": [
    "### Tʀɪᴘs: Frequency distribution by trajectory duration (%)"
   ]
  },
  {
   "cell_type": "markdown",
   "metadata": {},
   "source": [
    "### Tʀɪᴘs: Frequency distribution by trajectory length (%)"
   ]
  },
  {
   "cell_type": "markdown",
   "metadata": {},
   "source": [
    "### Tʀɪᴘs: Frequency distribution by hour (%)"
   ]
  },
  {
   "cell_type": "markdown",
   "metadata": {},
   "source": [
    "### Tʀɪᴘs: Frequency distribution by hour (%)"
   ]
  },
  {
   "cell_type": "markdown",
   "metadata": {},
   "source": [
    "### Tʀɪᴘs: Frequency distribution by hour (%)"
   ]
  },
  {
   "cell_type": "code",
   "execution_count": 13,
   "metadata": {},
   "outputs": [
    {
     "ename": "NameError",
     "evalue": "name 'plt' is not defined",
     "output_type": "error",
     "traceback": [
      "\u001b[1;31m---------------------------------------------------------------------------\u001b[0m",
      "\u001b[1;31mNameError\u001b[0m                                 Traceback (most recent call last)",
      "\u001b[1;32m<ipython-input-13-697f92e895ba>\u001b[0m in \u001b[0;36m<module>\u001b[1;34m\u001b[0m\n\u001b[0;32m      6\u001b[0m \u001b[0mdf_trips_duration\u001b[0m\u001b[1;33m.\u001b[0m\u001b[0msort_values\u001b[0m\u001b[1;33m(\u001b[0m\u001b[0mascending\u001b[0m\u001b[1;33m=\u001b[0m\u001b[1;32mTrue\u001b[0m\u001b[1;33m,\u001b[0m \u001b[0minplace\u001b[0m\u001b[1;33m=\u001b[0m\u001b[1;32mTrue\u001b[0m\u001b[1;33m)\u001b[0m\u001b[1;33m\u001b[0m\u001b[1;33m\u001b[0m\u001b[0m\n\u001b[0;32m      7\u001b[0m \u001b[0mdf_trips_duration\u001b[0m\u001b[1;33m.\u001b[0m\u001b[0mplot\u001b[0m\u001b[1;33m(\u001b[0m\u001b[0mkind\u001b[0m\u001b[1;33m=\u001b[0m\u001b[1;34m'barh'\u001b[0m\u001b[1;33m,\u001b[0m \u001b[0mfigsize\u001b[0m\u001b[1;33m=\u001b[0m\u001b[1;33m(\u001b[0m\u001b[1;36m8\u001b[0m\u001b[1;33m,\u001b[0m \u001b[1;36m6\u001b[0m\u001b[1;33m)\u001b[0m\u001b[1;33m,\u001b[0m \u001b[0mcolor\u001b[0m\u001b[1;33m=\u001b[0m\u001b[1;34m'steelblue'\u001b[0m\u001b[1;33m)\u001b[0m\u001b[1;33m\u001b[0m\u001b[1;33m\u001b[0m\u001b[0m\n\u001b[1;32m----> 8\u001b[1;33m \u001b[0mplt\u001b[0m\u001b[1;33m.\u001b[0m\u001b[0mxlabel\u001b[0m\u001b[1;33m(\u001b[0m\u001b[1;34m'% Trips'\u001b[0m\u001b[1;33m)\u001b[0m\u001b[1;33m\u001b[0m\u001b[1;33m\u001b[0m\u001b[0m\n\u001b[0m\u001b[0;32m      9\u001b[0m \u001b[0mplt\u001b[0m\u001b[1;33m.\u001b[0m\u001b[0mylabel\u001b[0m\u001b[1;33m(\u001b[0m\u001b[1;34m'Duration of the trip'\u001b[0m\u001b[1;33m)\u001b[0m\u001b[1;33m\u001b[0m\u001b[1;33m\u001b[0m\u001b[0m\n\u001b[0;32m     10\u001b[0m \u001b[0mplt\u001b[0m\u001b[1;33m.\u001b[0m\u001b[0mtitle\u001b[0m\u001b[1;33m(\u001b[0m\u001b[1;34m'Frequency distribution by duration of the trip (%)'\u001b[0m\u001b[1;33m)\u001b[0m\u001b[1;33m\u001b[0m\u001b[1;33m\u001b[0m\u001b[0m\n",
      "\u001b[1;31mNameError\u001b[0m: name 'plt' is not defined"
     ]
    },
    {
     "data": {
      "image/png": "[encoded data removed]",
      "text/plain": [
       "<Figure size 576x432 with 1 Axes>"
      ]
     },
     "metadata": {
      "needs_background": "light"
     },
     "output_type": "display_data"
    },
    {
     "name": "stdout",
     "output_type": "stream",
     "text": [
      "time: 2.11 s\n"
     ]
    }
   ],
   "source": [
    "## Distribution %\n",
    "\n",
    "df_trips_duration = 100 * df['duration_type'].value_counts() / len(df)\n",
    "# print(df_trips_duration)\n",
    "\n",
    "df_trips_duration.sort_values(ascending=True, inplace=True)\n",
    "df_trips_duration.plot(kind='barh', figsize=(8, 6), color='steelblue')\n",
    "plt.xlabel('% Trips')\n",
    "plt.ylabel('Duration of the trip')\n",
    "plt.title('Frequency distribution by trajectory duration (%)')\n",
    "\n",
    "for i, value in enumerate(df_trips_duration): \n",
    "    label = format(int(value), ',') # format int with commas\n",
    "    \n",
    "    # place text at the end of bar (subtracting 47000 from x, and 0.1 from y to make it fit within the bar)\n",
    "    plt.annotate(label, xy=(value - 0.8, i - 0), color='white')\n",
    "    \n",
    "plt.show()"
   ]
  },
  {
   "cell_type": "markdown",
   "metadata": {},
   "source": [
    "💡 <b><i> 82% of trips take 20 min or less</i></b>"
   ]
  },
  {
   "cell_type": "code",
   "execution_count": null,
   "metadata": {},
   "outputs": [],
   "source": []
  },
  {
   "cell_type": "code",
   "execution_count": null,
   "metadata": {},
   "outputs": [],
   "source": []
  },
  {
   "cell_type": "code",
   "execution_count": null,
   "metadata": {},
   "outputs": [],
   "source": []
  },
  {
   "cell_type": "code",
   "execution_count": null,
   "metadata": {},
   "outputs": [],
   "source": []
  },
  {
   "cell_type": "code",
   "execution_count": null,
   "metadata": {},
   "outputs": [],
   "source": []
  },
  {
   "cell_type": "code",
   "execution_count": null,
   "metadata": {},
   "outputs": [],
   "source": []
  },
  {
   "cell_type": "code",
   "execution_count": null,
   "metadata": {},
   "outputs": [],
   "source": []
  },
  {
   "cell_type": "code",
   "execution_count": null,
   "metadata": {},
   "outputs": [],
   "source": []
  },
  {
   "cell_type": "code",
   "execution_count": null,
   "metadata": {},
   "outputs": [],
   "source": []
  },
  {
   "cell_type": "code",
   "execution_count": null,
   "metadata": {},
   "outputs": [],
   "source": []
  },
  {
   "cell_type": "markdown",
   "metadata": {},
   "source": [
    "## Tʀᴀɴsғᴏʀᴍᴀᴛɪᴏɴ  •  Combining the tables: outer join 🔗"
   ]
  },
  {
   "cell_type": "markdown",
   "metadata": {},
   "source": [
    "⏳ <i> Considering the time to load/save the DFs, and that DF trips has same information as DF orders for the converted trips, let's join them into one"
   ]
  },
  {
   "cell_type": "markdown",
   "metadata": {},
   "source": [
    "### Listing information added when orders get converted: trips_features"
   ]
  },
  {
   "cell_type": "code",
   "execution_count": null,
   "metadata": {},
   "outputs": [],
   "source": [
    "df_orders.columns"
   ]
  },
  {
   "cell_type": "code",
   "execution_count": null,
   "metadata": {},
   "outputs": [],
   "source": [
    "df_trips.columns"
   ]
  },
  {
   "cell_type": "code",
   "execution_count": null,
   "metadata": {},
   "outputs": [],
   "source": [
    "# columns to add for orders that became trips\n",
    "trips_features = set(df_trips.columns) - set(df_orders.columns)\n",
    "trips_features"
   ]
  },
  {
   "cell_type": "markdown",
   "metadata": {},
   "source": [
    "### Adding trips_features to the table of all orders"
   ]
  },
  {
   "cell_type": "code",
   "execution_count": null,
   "metadata": {},
   "outputs": [],
   "source": [
    "trips_features.add('order_id')"
   ]
  },
  {
   "cell_type": "code",
   "execution_count": null,
   "metadata": {
    "scrolled": true
   },
   "outputs": [],
   "source": [
    "df_orders_tF = pd.merge(df_orders, df_trips[trips_features], on='order_id', how='outer')"
   ]
  },
  {
   "cell_type": "code",
   "execution_count": null,
   "metadata": {},
   "outputs": [],
   "source": [
    "df_orders_tF.head(3)"
   ]
  },
  {
   "cell_type": "markdown",
   "metadata": {},
   "source": [
    "🔎 <i> Checking if trips features are the same as in df_trips, for same order_id:"
   ]
  },
  {
   "cell_type": "code",
   "execution_count": null,
   "metadata": {},
   "outputs": [],
   "source": [
    "df_trips.loc[df_trips['order_id']==6433697]"
   ]
  },
  {
   "cell_type": "markdown",
   "metadata": {},
   "source": [
    "<i> Nice, looks good! ✔️"
   ]
  },
  {
   "cell_type": "markdown",
   "metadata": {},
   "source": [
    "### 🗃️ Reordering the columns of the new DF df_orders_tF (<i>t</i>ransformed, <i>F</i>inal)"
   ]
  },
  {
   "cell_type": "markdown",
   "metadata": {},
   "source": [
    "👀 <i> Let's organize the columns, allocating related features adjacent to each other, making it easier to compare them. </i> 👀"
   ]
  },
  {
   "cell_type": "code",
   "execution_count": null,
   "metadata": {},
   "outputs": [],
   "source": [
    "cols = list(df_orders_tF.columns.values)\n",
    "cols"
   ]
  },
  {
   "cell_type": "code",
   "execution_count": null,
   "metadata": {},
   "outputs": [],
   "source": [
    "cols = ['order_id',\n",
    " 'passenger_id',\n",
    " 'pickup_datetime',\n",
    " 'pickup_month',\n",
    " 'pickup_week',\n",
    " 'pickup_weekinmonth',\n",
    " 'pickup_date',\n",
    " 'pickup_dayofweek',\n",
    " 'pickup_isweekend',\n",
    " 'pickup_hour',\n",
    " 'pickup_isrush',\n",
    " 'pickup_latitude',\n",
    " 'pickup_longitude',\n",
    " 'dropoff_latitude',\n",
    " 'dropoff_longitude',\n",
    " 'dropoff_datetime',\n",
    " 'duration',\n",
    " 'duration_minutes',\n",
    " 'duration_type',\n",
    " 'trip_distance',\n",
    " 'total_amount',\n",
    " 'fare_amount',\n",
    " 'tip_amount',\n",
    " 'rate_type',\n",
    " 'payment_type']\n",
    "cols"
   ]
  },
  {
   "cell_type": "code",
   "execution_count": null,
   "metadata": {},
   "outputs": [],
   "source": [
    "df_orders_tF = df_orders_tF[cols]\n",
    "df_orders_tF.head()"
   ]
  },
  {
   "cell_type": "markdown",
   "metadata": {},
   "source": [
    "<b>(</b>  Θ_Θ<b>)</b> <i>  &nbsp;&nbsp;&nbsp; Nice </i>&nbsp;&nbsp;&nbsp;<b>(</b>  Θ_Θ<b>)</b>"
   ]
  },
  {
   "cell_type": "markdown",
   "metadata": {},
   "source": [
    "## Tʀᴀɴsғᴏʀᴍᴀᴛɪᴏɴ  •  Feature engineering: converting 📍coordinates into 🗺️neighborhoods"
   ]
  },
  {
   "cell_type": "markdown",
   "metadata": {},
   "source": [
    "### Preparing for heavy processing: exporting the dataframe as transformed so far 📤"
   ]
  },
  {
   "cell_type": "markdown",
   "metadata": {},
   "source": [
    "<i> In case the Kernel... leaves us </i>  &nbsp;&nbsp; • ‖ •  &nbsp;&nbsp; [ Kernel ] 🎒😎➡️👋"
   ]
  },
  {
   "cell_type": "code",
   "execution_count": null,
   "metadata": {},
   "outputs": [],
   "source": [
    "df_orders_tF.to_csv('df_orders_tF.csv')"
   ]
  },
  {
   "cell_type": "markdown",
   "metadata": {},
   "source": [
    "### Preparing for heavy processing: autotime + tqdm (progress bar)"
   ]
  },
  {
   "cell_type": "code",
   "execution_count": null,
   "metadata": {},
   "outputs": [],
   "source": [
    "#!pip install ipython-autotime\n",
    "%load_ext autotime"
   ]
  },
  {
   "cell_type": "code",
   "execution_count": null,
   "metadata": {},
   "outputs": [],
   "source": [
    "import tqdm\n",
    "from tqdm.notebook import tqdm_notebook"
   ]
  },
  {
   "cell_type": "markdown",
   "metadata": {},
   "source": [
    "### Importing: Geopandas • Geopy (Nominatim+RateLimiter) • PyPlot • Plotly_express"
   ]
  },
  {
   "cell_type": "code",
   "execution_count": null,
   "metadata": {},
   "outputs": [],
   "source": [
    "%matplotlib inline\n",
    "import matplotlib as mpl\n",
    "import matplotlib.pyplot as plt"
   ]
  },
  {
   "cell_type": "code",
   "execution_count": null,
   "metadata": {},
   "outputs": [],
   "source": [
    "#!pip install plotly_express==0.4.0\n",
    "import plotly_express as px"
   ]
  },
  {
   "cell_type": "code",
   "execution_count": null,
   "metadata": {},
   "outputs": [],
   "source": [
    "#!pip install geopy\n",
    "import geopy\n",
    "from geopy.geocoders import Nominatim\n",
    "#from geopy.extra.rate_limiter import RateLimiter"
   ]
  },
  {
   "cell_type": "code",
   "execution_count": null,
   "metadata": {},
   "outputs": [],
   "source": [
    "#!pip install wheel\n",
    "#!pip install pipwin\n",
    "\n",
    "#!pipwin install numpy\n",
    "#!pipwin install pandas\n",
    "#!pipwin install shapely\n",
    "#!pipwin install gdal\n",
    "#!pipwin install fiona\n",
    "#!pipwin install pyproj\n",
    "#!pipwin install six\n",
    "#!pipwin install rtree\n",
    "#!pipwin install geopandas"
   ]
  },
  {
   "cell_type": "code",
   "execution_count": null,
   "metadata": {},
   "outputs": [],
   "source": [
    "#!pip install geopandas # <<== This approach did't work, had to run the cells above\n",
    "#!conda install -c conda-forge geopandas # <<== This approach did't work, had to run the cells above\n",
    "import geopandas as gpd"
   ]
  },
  {
   "cell_type": "markdown",
   "metadata": {},
   "source": [
    "### Constructing Geocoder"
   ]
  },
  {
   "cell_type": "code",
   "execution_count": null,
   "metadata": {},
   "outputs": [],
   "source": [
    "locator = Nominatim (user_agent='myGeocoder', timeout=24000) # extended timeout"
   ]
  },
  {
   "cell_type": "markdown",
   "metadata": {},
   "source": [
    "### Reverse geocoding • Pilot test ✔️"
   ]
  },
  {
   "cell_type": "markdown",
   "metadata": {},
   "source": [
    "📝 <i> It took some testing to figure out the administrative organization of the city and to find out how to return results in spite of missing data.\n",
    "    <p> <b>Regarding missing data</b> </i>🕳️<i>: not all the addresses in the reference presented information for all of the queried fields, and when a missing value was reached, the whole fetching was being interrupted. The solution was to fetch the entire address - a dictionary - and then <u>filter</u> the needed data from 'address' in the DF, applying the method <u>setdefault</u> to the dictionaries.</p>\n",
    "    <p> <b>Regarding the division of the city</b> </i>🗺️<i>: the initial intent to dismember the city into neighborhoods led to choosing <u>'neighbourhood'</u> from the geocoder address. It happened that on one side it presented a lot of missing data and, on the other side, there seemed to be too many unique values: dividing into too many districts wouldn't ease the analysis any much. Its bigger container - <u>'suburb'</u> - has been thus added to the study."
   ]
  },
  {
   "cell_type": "code",
   "execution_count": null,
   "metadata": {},
   "outputs": [],
   "source": [
    "df_orders_geo = df_orders_tF[['order_id', 'pickup_latitude', 'pickup_longitude']][0:12]\n",
    "\n",
    "df_orders_geo['address'] = df_orders_geo.apply(lambda row: locator.reverse((row['pickup_latitude'], row['pickup_longitude'])).raw['address'], axis=1)\n",
    "\n",
    "df_orders_geo['neighborhood'] = df_orders_geo['address']\n",
    "df_orders_geo['suburb'] = df_orders_geo['address']\n",
    "\n",
    "for i in range(len(df_orders_geo)):\n",
    "    df_orders_geo['address'][i].setdefault('neighbourhood')\n",
    "    df_orders_geo['neighborhood'][i] = df_orders_geo['address'][i]['neighbourhood']\n",
    "    \n",
    "    df_orders_geo['address'][i].setdefault('suburb')\n",
    "    df_orders_geo['suburb'][i] = df_orders_geo['address'][i]['suburb']\n",
    "    \n",
    "df_orders_geo.head(3)"
   ]
  },
  {
   "cell_type": "code",
   "execution_count": null,
   "metadata": {},
   "outputs": [],
   "source": [
    "100 * df_orders_geo['neighborhood'].value_counts() / len(df_orders_geo)"
   ]
  },
  {
   "cell_type": "code",
   "execution_count": null,
   "metadata": {},
   "outputs": [],
   "source": [
    "100 * df_orders_geo['suburb'].value_counts() / len(df_orders_geo)"
   ]
  },
  {
   "cell_type": "code",
   "execution_count": null,
   "metadata": {
    "scrolled": true
   },
   "outputs": [],
   "source": [
    "100 * df_orders_geo.loc[df_orders_geo['suburb']=='Manhattan', 'neighborhood'].value_counts() / len(df_orders_geo)"
   ]
  },
  {
   "cell_type": "markdown",
   "metadata": {},
   "source": [
    "### Reverse geocoding • Full scale 📈: 1<sup>st</sup> trial with Nominatim, by list ❌"
   ]
  },
  {
   "cell_type": "markdown",
   "metadata": {},
   "source": [
    "<i> The following code has been tried earlier, but kept getting interrupted before completion: </i>"
   ]
  },
  {
   "cell_type": "code",
   "execution_count": null,
   "metadata": {},
   "outputs": [],
   "source": [
    "# rgeocode = RateLimiter(locator.reverse, min_delay_seconds=0.0002)"
   ]
  },
  {
   "cell_type": "code",
   "execution_count": null,
   "metadata": {},
   "outputs": [],
   "source": [
    "# tqdm_notebook.pandas()\n",
    "\n",
    "# df_orders['neighborhood'] = df_orders['pickup_coordinates'].progress_apply(rgeocode)\n",
    "# df_orders.head(2)'''"
   ]
  },
  {
   "cell_type": "markdown",
   "metadata": {},
   "source": [
    "### Reverse geocoding • Full scale 📈: n<sup>th</sup> trial with Nominatim, by list ❌"
   ]
  },
  {
   "cell_type": "markdown",
   "metadata": {},
   "source": [
    "<i> After many trials (and some Kernels lost down the road), decided the following would be the last. <br>\n",
    "    On hitting a missing value, the whole processing for the other rows has been lost (msg in the collapsed cells). </i>"
   ]
  },
  {
   "cell_type": "code",
   "execution_count": null,
   "metadata": {},
   "outputs": [],
   "source": [
    "df_orders_tF['pickup_address'] = df_orders_tF.apply(lambda row: locator.reverse((row['pickup_latitude'], row['pickup_longitude'])).raw['address'], axis=1)"
   ]
  },
  {
   "cell_type": "code",
   "execution_count": null,
   "metadata": {},
   "outputs": [],
   "source": [
    "df_orders_tF['pickup_address'].head()"
   ]
  },
  {
   "cell_type": "markdown",
   "metadata": {},
   "source": [
    "<i> First reaction: 'Yaaay! Just four hours \\o/' </i>😃<i> <br> \n",
    "    After checking with '.head()' </i>😒\n",
    "    <p> <i> Hm... So, fetching was interrupted when a missing value was reached. </i>"
   ]
  },
  {
   "cell_type": "markdown",
   "metadata": {},
   "source": [
    "### ( Resuming after Kernel shut down • Retrieving data: nice it'd been saved! 😅 )"
   ]
  },
  {
   "cell_type": "code",
   "execution_count": null,
   "metadata": {},
   "outputs": [],
   "source": [
    "import pandas as pd"
   ]
  },
  {
   "cell_type": "code",
   "execution_count": null,
   "metadata": {},
   "outputs": [],
   "source": [
    "import warnings\n",
    "warnings.filterwarnings('ignore')"
   ]
  },
  {
   "cell_type": "code",
   "execution_count": null,
   "metadata": {
    "scrolled": true
   },
   "outputs": [],
   "source": [
    "df_orders_tF = pd.read_csv('df_orders_tF.csv', index_col=0) # reading previously transformed data\n",
    "df_orders_tF.head(2)"
   ]
  },
  {
   "cell_type": "markdown",
   "metadata": {},
   "source": [
    "### Reverse geocoding • Full scale 📈 [ try / except ] ❌"
   ]
  },
  {
   "cell_type": "markdown",
   "metadata": {},
   "source": [
    "<i> The following approach adds an 'antidote' for interrupting the query when is to define a 'ignore Exception', the beautiful pair try / except:"
   ]
  },
  {
   "cell_type": "code",
   "execution_count": null,
   "metadata": {},
   "outputs": [],
   "source": [
    "try:\n",
    "    df_orders_tF['pickup_address'] = df_orders_tF.apply(lambda row: locator.reverse((row['pickup_latitude'], row['pickup_longitude'])).raw['address'], axis=1)\n",
    "except Exception:\n",
    "    pass"
   ]
  },
  {
   "cell_type": "markdown",
   "metadata": {},
   "source": [
    "<i> Again, in case the Kernel is gone:"
   ]
  },
  {
   "cell_type": "code",
   "execution_count": null,
   "metadata": {},
   "outputs": [],
   "source": [
    "df_orders_tF.to_csv('df_orders_tF.csv')"
   ]
  },
  {
   "cell_type": "code",
   "execution_count": null,
   "metadata": {},
   "outputs": [],
   "source": [
    "df_orders_tF.head(3)"
   ]
  },
  {
   "cell_type": "code",
   "execution_count": null,
   "metadata": {},
   "outputs": [],
   "source": [
    "df_orders_tF['pickup_address'].head(3)"
   ]
  },
  {
   "cell_type": "code",
   "execution_count": null,
   "metadata": {},
   "outputs": [],
   "source": [
    "df_orders_tF.shape"
   ]
  },
  {
   "cell_type": "markdown",
   "metadata": {},
   "source": [
    "<i> Learning how the combo [ try / expect + apply ] operate, the painful way... Ok, this leads us to the next trial: item by item. </i>"
   ]
  },
  {
   "cell_type": "markdown",
   "metadata": {},
   "source": [
    "### Reverse geocoding • Nominatim [ try / except ] item by item ✔️ (kinda... 90 days!)"
   ]
  },
  {
   "cell_type": "code",
   "execution_count": null,
   "metadata": {},
   "outputs": [],
   "source": [
    "df_orders_tF['address'] = [''] * len(df_orders_tF)\n",
    "\n",
    "for i in range(len(df_orders_tF)):\n",
    "    coordinates = str(df_orders_tF['pickup_latitude'][i]) + ',' + str(df_orders_tF['pickup_longitude'][i])\n",
    "    try:\n",
    "        df_orders_tF['address'][i] = (locator.reverse(coordinates)).raw['address']\n",
    "    except Exception:\n",
    "        pass"
   ]
  },
  {
   "cell_type": "markdown",
   "metadata": {},
   "source": [
    "<i> And, once again: </i>"
   ]
  },
  {
   "cell_type": "code",
   "execution_count": null,
   "metadata": {},
   "outputs": [],
   "source": [
    "df_orders_tF.to_csv('df_orders_tF_218k.csv')"
   ]
  },
  {
   "cell_type": "code",
   "execution_count": null,
   "metadata": {
    "scrolled": false
   },
   "outputs": [],
   "source": [
    "df_orders_tF.head()"
   ]
  },
  {
   "cell_type": "markdown",
   "metadata": {},
   "source": [
    "<i> First results look good!\n",
    "    <p> Let's check if all the 15,000,000 addresses have been retrieved: </i></p>"
   ]
  },
  {
   "cell_type": "code",
   "execution_count": null,
   "metadata": {},
   "outputs": [],
   "source": [
    "df_orders_tF['address'].count()"
   ]
  },
  {
   "cell_type": "code",
   "execution_count": null,
   "metadata": {},
   "outputs": [],
   "source": [
    "i"
   ]
  },
  {
   "cell_type": "markdown",
   "metadata": {},
   "source": [
    "<b><i> Uh oh! Only 218,210 results have been fetched... In 31.5 hours! It means...  <u>90 days</u> for the whole data. Uh oh... </i>"
   ]
  },
  {
   "cell_type": "markdown",
   "metadata": {},
   "source": [
    "#### 90 x 🕛🕐🕑🕒🕓🕔🕕🕖🕗🕘🕙🕚🕛🕐🕑🕒🕓🕔🕕🕖🕗🕘🕙🕚 <br>"
   ]
  },
  {
   "cell_type": "markdown",
   "metadata": {},
   "source": [
    "### Reverse geocoding • Nominatim [ numba / njit / numpy vectorize ] ✔️ (kinda... not fast enough)"
   ]
  },
  {
   "cell_type": "code",
   "execution_count": null,
   "metadata": {
    "scrolled": true
   },
   "outputs": [],
   "source": [
    "! pip install numba"
   ]
  },
  {
   "cell_type": "code",
   "execution_count": null,
   "metadata": {},
   "outputs": [],
   "source": [
    "from numba import njit\n",
    "import numpy as np"
   ]
  },
  {
   "cell_type": "code",
   "execution_count": null,
   "metadata": {},
   "outputs": [],
   "source": [
    "@njit(parallel=True)\n",
    "def get_address(lat, lng):\n",
    "    coordinates = str(lat) + ',' + str(lng)\n",
    "    try:\n",
    "        address = (locator.reverse(coordinates)).raw['address']\n",
    "    except Exception:\n",
    "        pass\n",
    "    return address\n",
    "\n",
    "df_orders_tF_sm = df_orders_tF[i:i+100]\n",
    "df_orders_tF_sm['address'] = get_address(df_orders_tF_sm['pickup_latitude'].values, df_orders_tF_sm['pickup_longitude'].values)"
   ]
  },
  {
   "cell_type": "code",
   "execution_count": null,
   "metadata": {},
   "outputs": [],
   "source": [
    "def get_address(lat, lng):\n",
    "    coordinates = str(lat) + ',' + str(lng)\n",
    "    try:\n",
    "        address = (locator.reverse(coordinates)).raw['address']\n",
    "    except Exception:\n",
    "        pass\n",
    "    return address\n",
    "\n",
    "df_orders_tF_sm = df_orders_tF[i:i+100]\n",
    "df_orders_tF_sm['address'] = np.vectorize(get_address)(df_orders_tF_sm['pickup_latitude'], df_orders_tF_sm['pickup_longitude'])"
   ]
  },
  {
   "cell_type": "code",
   "execution_count": null,
   "metadata": {},
   "outputs": [],
   "source": [
    "df_orders_tF_sm.head(2)"
   ]
  },
  {
   "cell_type": "code",
   "execution_count": null,
   "metadata": {},
   "outputs": [],
   "source": [
    "df_orders_tF_sm.tail(2)"
   ]
  },
  {
   "cell_type": "code",
   "execution_count": null,
   "metadata": {},
   "outputs": [],
   "source": [
    "def get_address(lat, lng):\n",
    "    coordinates = str(lat) + ',' + str(lng)\n",
    "    try:\n",
    "        address = (locator.reverse(coordinates)).raw['address']\n",
    "    except Exception:\n",
    "        pass\n",
    "    return address\n",
    "\n",
    "df_orders_tF['address'] = np.vectorize(get_address)(df_orders_tF['pickup_latitude'], df_orders_tF['pickup_longitude'])"
   ]
  },
  {
   "cell_type": "markdown",
   "metadata": {},
   "source": [
    "### Reverse geocoding • Taking Einstein's advice ✔️✔️✔️"
   ]
  },
  {
   "cell_type": "markdown",
   "metadata": {},
   "source": [
    "#### <i> « As simple as possible... </i>"
   ]
  },
  {
   "cell_type": "markdown",
   "metadata": {},
   "source": [
    "<img src='img/Einstein___as_simple_as_possible.jpg'>"
   ]
  },
  {
   "cell_type": "markdown",
   "metadata": {},
   "source": [
    "#### <i> ... but not simpler » </i>"
   ]
  },
  {
   "cell_type": "markdown",
   "metadata": {},
   "source": [
    "<img src='img/Simplicity-Through-Thoughtful-Reduction.png'>"
   ]
  },
  {
   "cell_type": "markdown",
   "metadata": {},
   "source": [
    "#### Geometrical approach: using points and polynoms to define each borough"
   ]
  },
  {
   "cell_type": "markdown",
   "metadata": {},
   "source": [
    "<img src='img/NYC__Coordinates.png'>"
   ]
  },
  {
   "cell_type": "markdown",
   "metadata": {},
   "source": [
    "#### Getting boroughs coordinates from Google Maps:"
   ]
  },
  {
   "cell_type": "markdown",
   "metadata": {},
   "source": [
    "#### <i><u>Staten Island</u></i>:"
   ]
  },
  {
   "cell_type": "markdown",
   "metadata": {},
   "source": [
    "<img src='img/NYC__Staten_Island.png'>"
   ]
  },
  {
   "cell_type": "markdown",
   "metadata": {},
   "source": [
    "#### <i><u>Bronx</u></i>:"
   ]
  },
  {
   "cell_type": "markdown",
   "metadata": {},
   "source": [
    "<img src='img/NYC__Bronx.png'>"
   ]
  },
  {
   "cell_type": "markdown",
   "metadata": {},
   "source": [
    "#### <i><u>Queens</u></i>:"
   ]
  },
  {
   "cell_type": "markdown",
   "metadata": {},
   "source": [
    "<img src='img/NYC__Queens1.png'>"
   ]
  },
  {
   "cell_type": "markdown",
   "metadata": {},
   "source": [
    "<img src='img/NYC__Queens2.png'>"
   ]
  },
  {
   "cell_type": "markdown",
   "metadata": {},
   "source": [
    "#### ( Resuming after Kernel shut down • Retrieving data: nice it'd been saved! 😅 )"
   ]
  },
  {
   "cell_type": "code",
   "execution_count": null,
   "metadata": {},
   "outputs": [],
   "source": [
    "%load_ext autotime\n",
    "import pandas as pd"
   ]
  },
  {
   "cell_type": "code",
   "execution_count": null,
   "metadata": {},
   "outputs": [],
   "source": [
    "import warnings\n",
    "warnings.filterwarnings('ignore')"
   ]
  },
  {
   "cell_type": "code",
   "execution_count": null,
   "metadata": {
    "scrolled": false
   },
   "outputs": [],
   "source": [
    "df_orders_tF = pd.read_csv('df_orders_tF_218k.csv', index_col=0) # reading previously transformed data\n",
    "df_orders_tF.head(2)"
   ]
  },
  {
   "cell_type": "markdown",
   "metadata": {},
   "source": [
    "#### Defining a « good enough » function to locate the boroughs"
   ]
  },
  {
   "cell_type": "code",
   "execution_count": null,
   "metadata": {},
   "outputs": [],
   "source": [
    "import numpy as np"
   ]
  },
  {
   "cell_type": "code",
   "execution_count": null,
   "metadata": {},
   "outputs": [],
   "source": [
    "def get_borough(lat,lng):\n",
    "    \n",
    "    M_Q_B = np.polyfit([40.794346, 40.739384], [-73.914747, -73.9611989], 1) # Manhattan-Queens-Brooklyn line boundary\n",
    "    Q_B = np.polyfit([40.739384, 40.617010], [-73.9611989, -73.767564], 1) # Queens-Brooklyn line boundary\n",
    "    \n",
    "    if lng < -74.052499:\n",
    "        borough = 'Staten Island'\n",
    "        \n",
    "    elif lng > -73.914747 and lat > 40.794346:\n",
    "        borough = 'Bronx'\n",
    "        \n",
    "    elif ((M_Q_B[0] * lat + M_Q_B[1]) - lng < 0): # points (i) 40.794346, -73.914747 (ii) 40.739384, -73.9611989 [ numpy polyfit ]\n",
    "        if (Q_B[0] * lat + Q_B[1]) - lng < 0: # points (i) 40.739384, -73.9611989 (ii) 40.617010, -73.767564  [ numpy polyfit ]\n",
    "            borough = 'Queens'\n",
    "            \n",
    "        else:\n",
    "            borough = 'Brooklyn'\n",
    "            \n",
    "    else:\n",
    "        borough = 'Manhattan'\n",
    "        \n",
    "    return borough"
   ]
  },
  {
   "cell_type": "code",
   "execution_count": null,
   "metadata": {},
   "outputs": [],
   "source": [
    "# Testing « get_borough() » for each center point\n",
    "print('Should be Staten Island: ', get_borough(40.581785, -74.144932), '✅' if get_borough(40.581785, -74.144932) == 'Staten Island' else '❌')\n",
    "print('Should be Bronx: ', get_borough(40.844984, -73.876748), '✅' if get_borough(40.844984, -73.876748) == 'Bronx' else '❌')\n",
    "print('Should be Queens: ', get_borough(40.716471, -73.799612), '✅' if get_borough(40.716471, -73.799612) == 'Queens' else '❌')\n",
    "print('Should be Brooklyn: ', get_borough(40.636348, -73.951523), '✅' if get_borough(40.636348, -73.951523) == 'Brooklyn' else '❌')\n",
    "print('Should be Manhattan: ', get_borough(40.770309, -73.977383), '✅' if get_borough(40.770309, -73.977383) == 'Manhattan' else '❌')"
   ]
  },
  {
   "cell_type": "markdown",
   "metadata": {},
   "source": [
    "<i> Great! </i> ✔️✔️✔️"
   ]
  },
  {
   "cell_type": "markdown",
   "metadata": {},
   "source": [
    "#### Reverse Geocoding: the light way ✔️✔️✔️"
   ]
  },
  {
   "cell_type": "code",
   "execution_count": null,
   "metadata": {
    "scrolled": false
   },
   "outputs": [],
   "source": [
    "df_orders_tF['pickup_borough'] = np.vectorize(get_borough)(df_orders_tF['pickup_latitude'], df_orders_tF['pickup_longitude'])\n",
    "df_orders_tF['dropoff_borough'] = np.vectorize(get_borough)(df_orders_tF['dropoff_latitude'], df_orders_tF['dropoff_longitude'])\n",
    "df_orders_tF.head(3)"
   ]
  },
  {
   "cell_type": "code",
   "execution_count": null,
   "metadata": {},
   "outputs": [],
   "source": [
    "df_orders_tF.to_csv('df_orders_tF_boroughs.csv')"
   ]
  },
  {
   "cell_type": "code",
   "execution_count": null,
   "metadata": {},
   "outputs": [],
   "source": [
    "df_orders_tF.tail(3)"
   ]
  },
  {
   "cell_type": "code",
   "execution_count": null,
   "metadata": {},
   "outputs": [],
   "source": [
    "pd.DataFrame( ( 100 * (df_orders_tF.groupby('pickup_borough')['order_id'].count() / len(df_orders_tF)).apply(lambda x: round(x, 4)) ).sort_values(ascending=False)).rename(columns={'order_id':'%'})"
   ]
  },
  {
   "cell_type": "code",
   "execution_count": null,
   "metadata": {},
   "outputs": [],
   "source": [
    "pd.DataFrame( ( 100 * (df_orders_tF.groupby('dropoff_borough')['order_id'].count() / len(df_orders_tF)).apply(lambda x: round(x, 4)) ).sort_values(ascending=False)).rename(columns={'order_id':'%'})"
   ]
  },
  {
   "cell_type": "markdown",
   "metadata": {},
   "source": [
    "\n",
    "💡 <b><i> 3/5 boroughs are related to almost all of the trips: ⮚ <u>90%+</u> both originate / end in <u>Manhattan</u> ⮚ <u>99%+</u> in <u>Manhattan-Queens-Brooklyn</u>. </i></b>"
   ]
  },
  {
   "cell_type": "markdown",
   "metadata": {},
   "source": [
    "<i> Well... Given its representativeness, it seems useful to further divide Manhattan.\n",
    "<p> As only 1/5 of the boroughs are being subdivided, instead of creating a new feature, let's just add a suffix to Manhattan. </i>"
   ]
  },
  {
   "cell_type": "markdown",
   "metadata": {},
   "source": [
    "#### ( Resuming after Kernel shut down • Retrieving data: nice it'd been saved! 😅 )"
   ]
  },
  {
   "cell_type": "code",
   "execution_count": null,
   "metadata": {},
   "outputs": [],
   "source": [
    "%load_ext autotime\n",
    "import pandas as pd\n",
    "import numpy as np"
   ]
  },
  {
   "cell_type": "code",
   "execution_count": null,
   "metadata": {},
   "outputs": [],
   "source": [
    "import warnings\n",
    "warnings.filterwarnings('ignore')"
   ]
  },
  {
   "cell_type": "code",
   "execution_count": null,
   "metadata": {
    "scrolled": false
   },
   "outputs": [],
   "source": [
    "df_orders_tF = pd.read_csv('df_orders_tF_boroughs.csv', index_col=0) # reading previously transformed data\n",
    "df_orders_tF.head(2)"
   ]
  },
  {
   "cell_type": "markdown",
   "metadata": {},
   "source": [
    "#### Getting coordinates of Manhattan regions from Google Maps:"
   ]
  },
  {
   "cell_type": "markdown",
   "metadata": {},
   "source": [
    "<img src='img/Manhattan.png'>"
   ]
  },
  {
   "cell_type": "markdown",
   "metadata": {},
   "source": [
    "#### <i><u>Washington Heights - Harlem</u></i>:"
   ]
  },
  {
   "cell_type": "markdown",
   "metadata": {},
   "source": [
    "<img src='img/Manhattan__HH1.png'>"
   ]
  },
  {
   "cell_type": "markdown",
   "metadata": {},
   "source": [
    "<img src='img/Manhattan__HH2.png'>"
   ]
  },
  {
   "cell_type": "markdown",
   "metadata": {},
   "source": [
    "#### <i><u>Harlem - Upper Manhattan</u></i>:"
   ]
  },
  {
   "cell_type": "markdown",
   "metadata": {},
   "source": [
    "<img src='img/Manhattan__HU1.png'>"
   ]
  },
  {
   "cell_type": "markdown",
   "metadata": {},
   "source": [
    "<img src='img/Manhattan__HU2.png'>"
   ]
  },
  {
   "cell_type": "markdown",
   "metadata": {},
   "source": [
    "#### <i><u>Upper Manhattan - Midtown Manhattan</u></i>:"
   ]
  },
  {
   "cell_type": "markdown",
   "metadata": {},
   "source": [
    "<img src='img/Manhattan__UM1.png'>"
   ]
  },
  {
   "cell_type": "markdown",
   "metadata": {},
   "source": [
    "<img src='img/Manhattan__UM2.png'>"
   ]
  },
  {
   "cell_type": "markdown",
   "metadata": {},
   "source": [
    "#### <i><u>Midtown Manhattan - Lower Manhattan</u></i>:"
   ]
  },
  {
   "cell_type": "markdown",
   "metadata": {},
   "source": [
    "<img src='img/Manhattan__ML1.png'>"
   ]
  },
  {
   "cell_type": "markdown",
   "metadata": {},
   "source": [
    "<img src='img/Manhattan__ML2.png'>"
   ]
  },
  {
   "cell_type": "markdown",
   "metadata": {},
   "source": [
    "#### Defining a « good enough » function to locate Manhattan regions"
   ]
  },
  {
   "cell_type": "code",
   "execution_count": null,
   "metadata": {},
   "outputs": [],
   "source": [
    "def get_region(lat,lng,borough):\n",
    "    \n",
    "    if borough != 'Manhattan':\n",
    "        return borough\n",
    "    \n",
    "    else:\n",
    "        H_H = np.polyfit([40.834289, 40.828474], [-73.949542, -73.934876], 1) # The Heights-Harlem line boundary\n",
    "        H_U = np.polyfit([40.819026, 40.783486], [-73.961170, -73.943489], 1) # Harlem-Upper Manhattan line boundary\n",
    "        U_M = np.polyfit([40.77655 , 40.758549], [-73.993623, -73.959891], 1) # Upper Manhattan-Midtown Manhattan line boundary\n",
    "        M_L = np.polyfit([40.742163, 40.726814], [-74.008986, -73.972594], 1) # Midtown Manhattan-Lower Manhattan line boundary\n",
    "        \n",
    "        if ((H_H[0] * lat + H_H[1]) - lng < 0):\n",
    "            region = 'Washington Heights'\n",
    "        \n",
    "        elif ((H_U[0] * lat + H_U[1]) - lng < 0):\n",
    "            region = 'Harlem'\n",
    "            \n",
    "        elif ((U_M[0] * lat + U_M[1]) - lng < 0):\n",
    "            region = 'Upper Manhattan'\n",
    "        \n",
    "        elif ((M_L[0] * lat + M_L[1]) - lng < 0):\n",
    "            region = 'Midtown Manhattan'\n",
    "            \n",
    "        else:\n",
    "            region = 'Lower Manhattan'\n",
    "            \n",
    "        return borough + ' • ' + region"
   ]
  },
  {
   "cell_type": "code",
   "execution_count": null,
   "metadata": {
    "scrolled": true
   },
   "outputs": [],
   "source": [
    "# Testing « get_region() » for geographical coordinates in Manhattan and unchanged for the other boroughs\n",
    "print('Should be Staten Island: ', get_region(40.581785, -74.144932, 'Staten Island'), '✅' if get_region(40.581785, -74.144932, 'Staten Island') == 'Staten Island' else '❌')\n",
    "print('Should be Bronx: ', get_region(40.844984, -73.876748, 'Bronx'), '✅' if get_region(40.844984, -73.876748, 'Bronx') == 'Bronx' else '❌')\n",
    "print('Should be Queens: ', get_region(40.716471, -73.799612, 'Queens'), '✅' if get_region(40.716471, -73.799612, 'Queens') == 'Queens' else '❌')\n",
    "print('Should be Brooklyn: ', get_region(40.636348, -73.951523, 'Brooklyn'), '✅' if get_region(40.636348, -73.951523, 'Brooklyn') == 'Brooklyn' else '❌')\n",
    "print('Should be Manhattan • Washington Heights: ', get_region(40.845676, -73.936621, 'Manhattan'), '✅' if get_region(40.845676, -73.936621, 'Manhattan') == 'Manhattan • Washington Heights' else '❌')\n",
    "print('Should be Manhattan • Harlem: ', get_region(40.814381, -73.942332, 'Manhattan'), '✅' if get_region(40.814381, -73.942332, 'Manhattan') == 'Manhattan • Harlem' else '❌')\n",
    "print('Should be Manhattan • Upper Manhattan: ', get_region(40.774900, -73.964219, 'Manhattan'), '✅' if get_region(40.774900, -73.964219, 'Manhattan') == 'Manhattan • Upper Manhattan' else '❌')\n",
    "print('Should be Manhattan • Midtown Manhattan: ', get_region(40.749566, -73.984354, 'Manhattan'), '✅' if get_region(40.749566, -73.984354, 'Manhattan') == 'Manhattan • Midtown Manhattan' else '❌')\n",
    "print('Should be Manhattan • Lower Manhattan: ', get_region(40.718104, -73.977383, 'Manhattan'), '✅' if get_region(40.718104, -73.977383, 'Manhattan') == 'Manhattan • Lower Manhattan' else '❌')"
   ]
  },
  {
   "cell_type": "markdown",
   "metadata": {},
   "source": [
    "#### (Further) Reverse Geocoding: Manhattan regions ✔️✔️✔️"
   ]
  },
  {
   "cell_type": "code",
   "execution_count": null,
   "metadata": {
    "scrolled": true
   },
   "outputs": [],
   "source": [
    "df_orders_tF['pickup_borough'] = np.vectorize(get_region)(df_orders_tF['pickup_latitude'], df_orders_tF['pickup_longitude'], df_orders_tF['pickup_borough'])\n",
    "df_orders_tF['dropoff_borough'] = np.vectorize(get_region)(df_orders_tF['dropoff_latitude'], df_orders_tF['dropoff_longitude'], df_orders_tF['dropoff_borough'])\n",
    "df_orders_tF.head(3)"
   ]
  },
  {
   "cell_type": "code",
   "execution_count": null,
   "metadata": {
    "scrolled": true
   },
   "outputs": [],
   "source": [
    "df_orders_tF.to_csv('df_orders_tF_boroughs_regions.csv')"
   ]
  },
  {
   "cell_type": "code",
   "execution_count": null,
   "metadata": {},
   "outputs": [],
   "source": [
    "df_orders_tF.tail(3)"
   ]
  },
  {
   "cell_type": "code",
   "execution_count": null,
   "metadata": {},
   "outputs": [],
   "source": [
    "pd.DataFrame( ( 100 * (df_orders_tF.groupby('pickup_borough')['order_id'].count() / len(df_orders_tF)).apply(lambda x: round(x, 4)) ).sort_values(ascending=False)).rename(columns={'order_id':'%'})"
   ]
  },
  {
   "cell_type": "code",
   "execution_count": null,
   "metadata": {},
   "outputs": [],
   "source": [
    "pd.DataFrame( ( 100 * (df_orders_tF.groupby('dropoff_borough')['order_id'].count() / len(df_orders_tF)).apply(lambda x: round(x, 4)) ).sort_values(ascending=False)).rename(columns={'order_id':'%'})"
   ]
  },
  {
   "cell_type": "markdown",
   "metadata": {},
   "source": [
    "\n",
    "💡 <b><i> The Top-3 origins are also the Top-3 destinations, originating slightly more than receiving. </i></b>"
   ]
  },
  {
   "cell_type": "markdown",
   "metadata": {},
   "source": [
    "## Lessons learned"
   ]
  },
  {
   "cell_type": "markdown",
   "metadata": {},
   "source": [
    "<ul>\n",
    "    <li> Volume matters </li>\n",
    "    <li> Performance matters </li>\n",
    "    <li> Strategy matters </li>\n",
    "    <li> This seems not to be the perfect tool </li>\n",
    "    <li> 15,000,000 records for just 3 months... Better have an approach to deal with multiple months and years </li>\n",
    "</ul>"
   ]
  },
  {
   "cell_type": "markdown",
   "metadata": {},
   "source": [
    "## Preparing for the future"
   ]
  },
  {
   "cell_type": "markdown",
   "metadata": {},
   "source": [
    "#### ( Resuming after Kernel shut down • Retrieving data: nice it'd been saved! 😅 )"
   ]
  },
  {
   "cell_type": "code",
   "execution_count": null,
   "metadata": {},
   "outputs": [],
   "source": [
    "%load_ext autotime\n",
    "import pandas as pd\n",
    "import numpy as np"
   ]
  },
  {
   "cell_type": "code",
   "execution_count": null,
   "metadata": {},
   "outputs": [],
   "source": [
    "import warnings\n",
    "warnings.filterwarnings('ignore')"
   ]
  },
  {
   "cell_type": "code",
   "execution_count": null,
   "metadata": {
    "scrolled": false
   },
   "outputs": [],
   "source": [
    "df_orders_tF = pd.read_csv('df_orders_tF_boroughs_regions.csv', index_col=0) # reading previously transformed data\n",
    "df_orders_tF.head(2)"
   ]
  },
  {
   "cell_type": "markdown",
   "metadata": {},
   "source": [
    "#### Creating aggregated data tables"
   ]
  },
  {
   "cell_type": "markdown",
   "metadata": {},
   "source": [
    "<i> Considering the last remark above, on cummulative future data, preparing aggregated dataframes is a way to reduce data while keeping much of information. <br>\n",
    "    Regarding time, <u>daily data</u> is still quite granular in the long run and relatively compact at the same time.<br>\n",
    "    Aggregation by time shadows information on client, let's thus create also an aggregation by <u>passenger</u>.<br><br>\n",
    "    First, as </i>'address'<i> had only 'a few' values fetched and it has already been saved as </i>df_orders_tF_218k.csv<i>, let's drop it from the final transformed dataframe.\n",
    "    <br><i> And let's take a look at all of the columns, without collapsing any: </i>\n",
    "</i>"
   ]
  },
  {
   "cell_type": "code",
   "execution_count": null,
   "metadata": {},
   "outputs": [],
   "source": [
    "pd.set_option('display.max_columns', len(df_orders_tF))\n",
    "df_orders_tF.drop(columns='address', inplace=True)"
   ]
  },
  {
   "cell_type": "code",
   "execution_count": null,
   "metadata": {},
   "outputs": [],
   "source": [
    "df_orders_tF"
   ]
  },
  {
   "cell_type": "markdown",
   "metadata": {},
   "source": [
    "#### Daily data"
   ]
  },
  {
   "cell_type": "code",
   "execution_count": null,
   "metadata": {
    "scrolled": false
   },
   "outputs": [],
   "source": [
    "df_orders_tF_daily = df_orders_tF.groupby('pickup_date').mean()\n",
    "df_orders_tF_daily"
   ]
  },
  {
   "cell_type": "code",
   "execution_count": null,
   "metadata": {},
   "outputs": [],
   "source": [
    "# order_id can become total_orders, and instead of the mean, show the result for .count()\n",
    "df_orders_tF_daily.rename(columns={'order_id':'total_orders'}, inplace=True)\n",
    "df_orders_tF_daily['total_orders'] = df_orders_tF.groupby('pickup_date').count()\n",
    "print('Sum of daily orders: ', sum(df_orders_tF_daily['total_orders']))\n",
    "\n",
    "# similarly, passenger_id gives place to total_trips, by counting any column for coverted orders. Let's take trip_distance\n",
    "df_orders_tF_daily.rename(columns={'passenger_id':'total_trips'}, inplace=True)\n",
    "df_orders_tF_daily['total_trips'] = df_orders_tF.groupby('pickup_date')['trip_distance'].count()\n",
    "print('Sum of daily trips: ', sum(df_orders_tF_daily['total_trips']))\n",
    "\n",
    "# columns pickup_month to pickup_isweekend should be integer\n",
    "df_orders_tF_daily[['pickup_month','pickup_week','pickup_weekinmonth','pickup_isweekend']] = df_orders_tF_daily[['pickup_month','pickup_week','pickup_weekinmonth','pickup_isweekend']].astype('int')\n",
    "\n",
    "# let's see how it looks like\n",
    "df_orders_tF_daily.head(3)"
   ]
  },
  {
   "cell_type": "markdown",
   "metadata": {},
   "source": [
    "<br><i> Categorical data missing are </i>'pickup_dayofweek', 'duration_type', 'rate_type', 'payment_type', 'pickup_borough', 'dropoff_borough'.<br>\n",
    "<i>For the chosen aggregation, 'pickup_dayofweek' is unique, all the others may be broken into their classes, with the values summing up their frequency:</i>"
   ]
  },
  {
   "cell_type": "code",
   "execution_count": null,
   "metadata": {},
   "outputs": [],
   "source": [
    "# pickup_dayofweek\n",
    "dayofweek_dict= {'0': 'Monday'}\n",
    "dayofweek_dict['1'] = 'Tuesday'\n",
    "dayofweek_dict['2'] = 'Wednesday'\n",
    "dayofweek_dict['3'] = 'Thursday'\n",
    "dayofweek_dict['4'] = 'Friday'\n",
    "dayofweek_dict['5'] = 'Saturday'\n",
    "dayofweek_dict['6'] = 'Sunday'\n",
    "\n",
    "dayofweek_value = pd.to_datetime(pd.DatetimeIndex(df_orders_tF_daily.index).dayofweek).astype(str)\n",
    "df_orders_tF_daily.insert(loc=5, column='pickup_dayofweek', value = dayofweek_value)\n",
    "df_orders_tF_daily['pickup_dayofweek'] = df_orders_tF_daily['pickup_dayofweek'].str[-1:]\n",
    "df_orders_tF_daily['pickup_dayofweek'] = df_orders_tF_daily['pickup_dayofweek'].replace(dayofweek_dict)\n",
    "\n",
    "df_orders_tF_daily.head(1)"
   ]
  },
  {
   "cell_type": "code",
   "execution_count": null,
   "metadata": {},
   "outputs": [],
   "source": [
    "# duration_type\n",
    "durationtype_dict= {max(df_orders_tF_daily['duration_minutes']): '>60min'}\n",
    "durationtype_dict[60] = '40-60min'\n",
    "durationtype_dict[40] = '30-40min'\n",
    "durationtype_dict[30] = '20-30min'\n",
    "durationtype_dict[20] = '10-20min'\n",
    "durationtype_dict[10] = '5-10min'\n",
    "durationtype_dict[ 5] = '<=5min'\n",
    "\n",
    "df_orders_tF_daily.insert(loc=14, column='duration_type', value = df_orders_tF_daily['duration_minutes'])\n",
    "\n",
    "for i in range(len(durationtype_dict)):\n",
    "    df_orders_tF_daily.loc[df_orders_tF_daily['duration_minutes'] <= int(list(durationtype_dict)[i]), 'duration_type'] = list(durationtype_dict.values())[i]\n",
    "\n",
    "df_orders_tF_daily.head(1)"
   ]
  },
  {
   "cell_type": "code",
   "execution_count": null,
   "metadata": {},
   "outputs": [],
   "source": [
    "# rate_type\n",
    "\n",
    "rate_types = [\n",
    "    'Standard',\n",
    "    'JFK',\n",
    "    'Newark',\n",
    "    'Nassau / Westchester',\n",
    "    'Negotiated',\n",
    "    'Group ride']\n",
    "\n",
    "total = 0\n",
    "    \n",
    "for rate_type in rate_types:\n",
    "    df_orders_tF_daily[rate_type] = df_orders_tF.loc[df_orders_tF['rate_type'] == rate_type, ['pickup_date','rate_type']].groupby('pickup_date').count()\n",
    "    df_orders_tF_daily[rate_type].fillna(0, inplace=True)\n",
    "    df_orders_tF_daily[rate_type] = df_orders_tF_daily[rate_type].astype('int')\n",
    "    print(rate_type + ': ', df_orders_tF_daily[rate_type].sum())\n",
    "    total += df_orders_tF_daily[rate_type].sum()\n",
    "    \n",
    "print('Total: ', total)\n",
    "\n",
    "df_orders_tF_daily.head(3)"
   ]
  },
  {
   "cell_type": "code",
   "execution_count": null,
   "metadata": {},
   "outputs": [],
   "source": [
    "# payment_type\n",
    "\n",
    "payment_types = [\n",
    "    'CRD', # credit card\n",
    "    'CSH', # cash\n",
    "    'UNK', # unknown\n",
    "    'NOC', # no charge\n",
    "    'DIS'] # dispute\n",
    "\n",
    "total = 0\n",
    "    \n",
    "for payment_type in payment_types:\n",
    "    df_orders_tF_daily[payment_type] = df_orders_tF.loc[df_orders_tF['payment_type'] == payment_type, ['pickup_date','payment_type']].groupby('pickup_date').count()\n",
    "    df_orders_tF_daily[payment_type].fillna(0, inplace=True)\n",
    "    df_orders_tF_daily[payment_type] = df_orders_tF_daily[payment_type].astype('int')\n",
    "    print(payment_type + ': ', df_orders_tF_daily[payment_type].sum())\n",
    "    total += df_orders_tF_daily[payment_type].sum()\n",
    "    \n",
    "print('Total: ', total)\n",
    "\n",
    "df_orders_tF_daily.head(3)"
   ]
  },
  {
   "cell_type": "code",
   "execution_count": null,
   "metadata": {
    "scrolled": false
   },
   "outputs": [],
   "source": [
    "# pickup_borough\n",
    "\n",
    "pickup_boroughs = [\n",
    "    'Manhattan • Lower Manhattan',\n",
    "    'Manhattan • Midtown Manhattan',\n",
    "    'Manhattan • Upper Manhattan',\n",
    "    'Queens',\n",
    "    'Brooklyn',\n",
    "    'Manhattan • Harlem',\n",
    "    'Manhattan • Washington Heights',\n",
    "    'Bronx',\n",
    "    'Staten Island']\n",
    "\n",
    "total = 0\n",
    "    \n",
    "for pickup_borough in pickup_boroughs:\n",
    "    df_orders_tF_daily['pickup ‖ ' + pickup_borough] = df_orders_tF.loc[df_orders_tF['pickup_borough'] == pickup_borough, ['pickup_date','pickup_borough']].groupby('pickup_date').count()\n",
    "    df_orders_tF_daily['pickup ‖ ' + pickup_borough].fillna(0, inplace=True)\n",
    "    df_orders_tF_daily['pickup ‖ ' + pickup_borough] = df_orders_tF_daily['pickup ‖ ' + pickup_borough].astype('int')\n",
    "    print(pickup_borough + ': ', df_orders_tF_daily['pickup ‖ ' + pickup_borough].sum())\n",
    "    total += df_orders_tF_daily['pickup ‖ ' + pickup_borough].sum()\n",
    "    \n",
    "print('Total: ', total)\n",
    "\n",
    "df_orders_tF_daily.head(3)"
   ]
  },
  {
   "cell_type": "code",
   "execution_count": null,
   "metadata": {},
   "outputs": [],
   "source": [
    "# dropoff_borough\n",
    "\n",
    "dropoff_boroughs = [\n",
    "    'Manhattan • Lower Manhattan',\n",
    "    'Manhattan • Midtown Manhattan',\n",
    "    'Manhattan • Upper Manhattan',\n",
    "    'Queens',\n",
    "    'Brooklyn',\n",
    "    'Manhattan • Harlem',\n",
    "    'Manhattan • Washington Heights',\n",
    "    'Bronx',\n",
    "    'Staten Island']\n",
    "\n",
    "total = 0\n",
    "    \n",
    "for dropoff_borough in dropoff_boroughs:\n",
    "    df_orders_tF_daily['dropoff ‖ ' + dropoff_borough] = df_orders_tF.loc[df_orders_tF['dropoff_borough'] == dropoff_borough, ['pickup_date','dropoff_borough']].groupby('pickup_date').count()\n",
    "    df_orders_tF_daily['dropoff ‖ ' + dropoff_borough].fillna(0, inplace=True)\n",
    "    df_orders_tF_daily['dropoff ‖ ' + dropoff_borough] = df_orders_tF_daily['dropoff ‖ ' + dropoff_borough].astype('int')\n",
    "    print(dropoff_borough + ': ', df_orders_tF_daily['dropoff ‖ ' + dropoff_borough].sum())\n",
    "    total += df_orders_tF_daily['dropoff ‖ ' + dropoff_borough].sum()\n",
    "    \n",
    "print('Total: ', total)\n",
    "\n",
    "df_orders_tF_daily.head(3)"
   ]
  },
  {
   "cell_type": "markdown",
   "metadata": {},
   "source": [
    "#### Revising dropoff boroughs"
   ]
  },
  {
   "cell_type": "markdown",
   "metadata": {},
   "source": [
    "<i> As the get_borough and get_region didn't checked for NaN values of latitude and longitude, it has defaulted to else values (Manhattan / Lower Manhattan) for non converted orders. <br><br>\n",
    "    Instead of calling them again, let's just replace at this point and rerun the dropoff_borough aggregation:"
   ]
  },
  {
   "cell_type": "code",
   "execution_count": null,
   "metadata": {},
   "outputs": [],
   "source": [
    "df_orders_tF.loc[np.isnan(df_orders_tF['dropoff_latitude']), 'dropoff_borough'] = float('NaN')\n",
    "df_orders_tF"
   ]
  },
  {
   "cell_type": "code",
   "execution_count": null,
   "metadata": {},
   "outputs": [],
   "source": [
    "df_orders_tF.to_csv('df_orders_tF.csv')"
   ]
  },
  {
   "cell_type": "code",
   "execution_count": null,
   "metadata": {
    "scrolled": false
   },
   "outputs": [],
   "source": [
    "# dropoff_borough\n",
    "\n",
    "dropoff_boroughs = [\n",
    "    'Manhattan • Lower Manhattan',\n",
    "    'Manhattan • Midtown Manhattan',\n",
    "    'Manhattan • Upper Manhattan',\n",
    "    'Queens',\n",
    "    'Brooklyn',\n",
    "    'Manhattan • Harlem',\n",
    "    'Manhattan • Washington Heights',\n",
    "    'Bronx',\n",
    "    'Staten Island']\n",
    "\n",
    "total = 0\n",
    "    \n",
    "for dropoff_borough in dropoff_boroughs:\n",
    "    df_orders_tF_daily['dropoff ‖ ' + dropoff_borough] = df_orders_tF.loc[df_orders_tF['dropoff_borough'] == dropoff_borough, ['pickup_date','dropoff_borough']].groupby('pickup_date').count()\n",
    "    df_orders_tF_daily['dropoff ‖ ' + dropoff_borough].fillna(0, inplace=True)\n",
    "    df_orders_tF_daily['dropoff ‖ ' + dropoff_borough] = df_orders_tF_daily['dropoff ‖ ' + dropoff_borough].astype('int')\n",
    "    print(dropoff_borough + ': ', df_orders_tF_daily['dropoff ‖ ' + dropoff_borough].sum())\n",
    "    total += df_orders_tF_daily['dropoff ‖ ' + dropoff_borough].sum()\n",
    "    \n",
    "print('Total: ', total)\n",
    "\n",
    "df_orders_tF_daily.head(3)"
   ]
  },
  {
   "cell_type": "markdown",
   "metadata": {},
   "source": [
    "<i> Fine!</i> ✔️✔️✔️"
   ]
  },
  {
   "cell_type": "code",
   "execution_count": null,
   "metadata": {},
   "outputs": [],
   "source": [
    "df_orders_tF_daily.to_csv('df_orders_tF_daily.csv')"
   ]
  },
  {
   "cell_type": "markdown",
   "metadata": {},
   "source": [
    "#### Data by passenger"
   ]
  },
  {
   "cell_type": "code",
   "execution_count": null,
   "metadata": {
    "scrolled": false
   },
   "outputs": [],
   "source": [
    "df_orders_tF_passenger = df_orders_tF.groupby('passenger_id').mean()\n",
    "df_orders_tF_passenger"
   ]
  },
  {
   "cell_type": "code",
   "execution_count": null,
   "metadata": {},
   "outputs": [],
   "source": [
    "# order_id can become total_orders, and instead of the mean, show the result for .count()\n",
    "df_orders_tF_passenger.rename(columns={'order_id':'total_orders'}, inplace=True)\n",
    "df_orders_tF_passenger['total_orders'] = df_orders_tF.groupby('passenger_id').count()\n",
    "print('Sum of orders: ', sum(df_orders_tF_passenger['total_orders']))\n",
    "\n",
    "# let's see how it looks like\n",
    "df_orders_tF_passenger.head(3)"
   ]
  },
  {
   "cell_type": "markdown",
   "metadata": {},
   "source": [
    "<i> These aggregated data are a first trial, to be refined after EDA and deep dive analysis, as needed. </i>"
   ]
  },
  {
   "cell_type": "markdown",
   "metadata": {},
   "source": [
    "## Exporting results for retrieval"
   ]
  },
  {
   "cell_type": "code",
   "execution_count": null,
   "metadata": {},
   "outputs": [],
   "source": [
    "df_orders_tF_daily.to_csv('df_orders_tF_daily.csv')"
   ]
  },
  {
   "cell_type": "code",
   "execution_count": null,
   "metadata": {},
   "outputs": [],
   "source": [
    "df_orders_tF_passenger.to_csv('df_orders_tF_passenger.csv')"
   ]
  },
  {
   "cell_type": "code",
   "execution_count": null,
   "metadata": {},
   "outputs": [],
   "source": [
    "df_orders_tF.to_csv('df_orders_tF.csv')"
   ]
  },
  {
   "cell_type": "markdown",
   "metadata": {},
   "source": [
    "<i>Note: This Notebook (Transformation) would entail the whole transforming process, but as some instabilities may interrupt the Kernel requiring a restart from zero, it has been split for a smoothier process.</i>"
   ]
  },
  {
   "cell_type": "markdown",
   "metadata": {},
   "source": [
    "💡 <b><i> Aggregating the data can speed up the saving process from 21min to 5min or even to 5s. </i> 😎"
   ]
  },
  {
   "cell_type": "markdown",
   "metadata": {},
   "source": [
    "# Next: [EDA](99__EDA.ipynb)"
   ]
  }
 ],
 "metadata": {
  "kernelspec": {
   "display_name": "Python 3",
   "language": "python",
   "name": "python3"
  },
  "language_info": {
   "codemirror_mode": {
    "name": "ipython",
    "version": 3
   },
   "file_extension": ".py",
   "mimetype": "text/x-python",
   "name": "python",
   "nbconvert_exporter": "python",
   "pygments_lexer": "ipython3",
   "version": "3.8.5"
  }
 },
 "nbformat": 4,
 "nbformat_minor": 4
}
