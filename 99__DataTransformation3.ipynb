{
 "cells": [
  {
   "cell_type": "markdown",
   "metadata": {},
   "source": [
    "<table style=\"width:100%\">\n",
    "  <tr style=\"background-color:#FFFFFF\">\n",
    "    <td style=\"width:10%\">\n",
    "        <img src=\"https://play-lh.googleusercontent.com/K9FC23HoIYy_idt3LL26zrzMchOGORVzLNmi3L5u-MaghdjpdgHAWv7wQlscNmo9wYjC=s180-rw\" alt=\"DiDi\" width=120></td>\n",
    "    <td style=\"width:10%\">\n",
    "        <img src=\"https://logodownload.org/wp-content/uploads/2019/05/99-app-logo.png\" alt=\"99\" width=120></td>\n",
    "      <td>\n",
    "          <h1 style=\"text-align:left; text-indent :2em;\">DATA TRANSFORMATION • PART 2 (addendum)</h1>\n",
    "          <h2 style=\"text-align:left; text-indent :2.4em;\">ISIS SANTOS COSTA • 2020</h2>\n",
    "      </td>\n",
    "  </tr>\n",
    "</table>"
   ]
  },
  {
   "cell_type": "markdown",
   "metadata": {},
   "source": [
    "## Tʀᴀɴsғᴏʀᴍᴀᴛɪᴏɴ  •  Resuming: retrieving the DFs"
   ]
  },
  {
   "cell_type": "code",
   "execution_count": 1,
   "metadata": {},
   "outputs": [],
   "source": [
    "import pandas as pd"
   ]
  },
  {
   "cell_type": "code",
   "execution_count": 2,
   "metadata": {
    "scrolled": true
   },
   "outputs": [],
   "source": [
    "df_orders = pd.read_csv('df_orders_t2.csv') # reading transformed data\n",
    "df_trips = pd.read_csv('df_trips_t2.csv') # reading transformed data"
   ]
  },
  {
   "cell_type": "code",
   "execution_count": 3,
   "metadata": {
    "scrolled": true
   },
   "outputs": [
    {
     "data": {
      "text/html": [
       "<div>\n",
       "<style scoped>\n",
       "    .dataframe tbody tr th:only-of-type {\n",
       "        vertical-align: middle;\n",
       "    }\n",
       "\n",
       "    .dataframe tbody tr th {\n",
       "        vertical-align: top;\n",
       "    }\n",
       "\n",
       "    .dataframe thead th {\n",
       "        text-align: right;\n",
       "    }\n",
       "</style>\n",
       "<table border=\"1\" class=\"dataframe\">\n",
       "  <thead>\n",
       "    <tr style=\"text-align: right;\">\n",
       "      <th></th>\n",
       "      <th>order_id</th>\n",
       "      <th>passenger_id</th>\n",
       "      <th>pickup_datetime</th>\n",
       "      <th>pickup_longitude</th>\n",
       "      <th>pickup_latitude</th>\n",
       "      <th>payment_type</th>\n",
       "      <th>pickup_date</th>\n",
       "      <th>pickup_dayofweek</th>\n",
       "      <th>pickup_week</th>\n",
       "      <th>pickup_isweekend</th>\n",
       "      <th>pickup_hour</th>\n",
       "      <th>pickup_isrush</th>\n",
       "    </tr>\n",
       "  </thead>\n",
       "  <tbody>\n",
       "    <tr>\n",
       "      <th>0</th>\n",
       "      <td>6433697</td>\n",
       "      <td>5234567816269547</td>\n",
       "      <td>2014-04-11 18:06:45</td>\n",
       "      <td>-74.015684</td>\n",
       "      <td>40.714476</td>\n",
       "      <td>CRD</td>\n",
       "      <td>2014-04-11</td>\n",
       "      <td>Friday</td>\n",
       "      <td>15</td>\n",
       "      <td>0</td>\n",
       "      <td>18</td>\n",
       "      <td>1</td>\n",
       "    </tr>\n",
       "    <tr>\n",
       "      <th>1</th>\n",
       "      <td>6433698</td>\n",
       "      <td>5234567812367422</td>\n",
       "      <td>2014-04-12 00:20:28</td>\n",
       "      <td>-73.958403</td>\n",
       "      <td>40.713247</td>\n",
       "      <td>CRD</td>\n",
       "      <td>2014-04-12</td>\n",
       "      <td>Saturday</td>\n",
       "      <td>15</td>\n",
       "      <td>1</td>\n",
       "      <td>0</td>\n",
       "      <td>0</td>\n",
       "    </tr>\n",
       "  </tbody>\n",
       "</table>\n",
       "</div>"
      ],
      "text/plain": [
       "   order_id      passenger_id      pickup_datetime  pickup_longitude  \\\n",
       "0   6433697  5234567816269547  2014-04-11 18:06:45        -74.015684   \n",
       "1   6433698  5234567812367422  2014-04-12 00:20:28        -73.958403   \n",
       "\n",
       "   pickup_latitude payment_type pickup_date pickup_dayofweek  pickup_week  \\\n",
       "0        40.714476          CRD  2014-04-11           Friday           15   \n",
       "1        40.713247          CRD  2014-04-12         Saturday           15   \n",
       "\n",
       "   pickup_isweekend  pickup_hour  pickup_isrush  \n",
       "0                 0           18              1  \n",
       "1                 1            0              0  "
      ]
     },
     "execution_count": 3,
     "metadata": {},
     "output_type": "execute_result"
    }
   ],
   "source": [
    "df_orders.drop(df_orders.columns[0], axis = 1, inplace = True)\n",
    "df_orders.head(2)"
   ]
  },
  {
   "cell_type": "code",
   "execution_count": 4,
   "metadata": {},
   "outputs": [
    {
     "data": {
      "text/html": [
       "<div>\n",
       "<style scoped>\n",
       "    .dataframe tbody tr th:only-of-type {\n",
       "        vertical-align: middle;\n",
       "    }\n",
       "\n",
       "    .dataframe tbody tr th {\n",
       "        vertical-align: top;\n",
       "    }\n",
       "\n",
       "    .dataframe thead th {\n",
       "        text-align: right;\n",
       "    }\n",
       "</style>\n",
       "<table border=\"1\" class=\"dataframe\">\n",
       "  <thead>\n",
       "    <tr style=\"text-align: right;\">\n",
       "      <th></th>\n",
       "      <th>order_id</th>\n",
       "      <th>pickup_datetime</th>\n",
       "      <th>dropoff_datetime</th>\n",
       "      <th>trip_distance</th>\n",
       "      <th>pickup_longitude</th>\n",
       "      <th>pickup_latitude</th>\n",
       "      <th>rate_type</th>\n",
       "      <th>dropoff_longitude</th>\n",
       "      <th>dropoff_latitude</th>\n",
       "      <th>payment_type</th>\n",
       "      <th>...</th>\n",
       "      <th>passenger_id</th>\n",
       "      <th>pickup_date</th>\n",
       "      <th>pickup_dayofweek</th>\n",
       "      <th>pickup_week</th>\n",
       "      <th>pickup_isweekend</th>\n",
       "      <th>pickup_hour</th>\n",
       "      <th>pickup_isrush</th>\n",
       "      <th>duration</th>\n",
       "      <th>duration_minutes</th>\n",
       "      <th>duration_type</th>\n",
       "    </tr>\n",
       "  </thead>\n",
       "  <tbody>\n",
       "    <tr>\n",
       "      <th>0</th>\n",
       "      <td>718300</td>\n",
       "      <td>2014-05-24 09:08:43</td>\n",
       "      <td>2014-05-24 09:19:06</td>\n",
       "      <td>2.1</td>\n",
       "      <td>-73.967172</td>\n",
       "      <td>40.769851</td>\n",
       "      <td>Standard</td>\n",
       "      <td>-73.995022</td>\n",
       "      <td>40.765441</td>\n",
       "      <td>CRD</td>\n",
       "      <td>...</td>\n",
       "      <td>5234567815585627</td>\n",
       "      <td>2014-05-24 00:00:00</td>\n",
       "      <td>Saturday</td>\n",
       "      <td>21</td>\n",
       "      <td>1</td>\n",
       "      <td>9</td>\n",
       "      <td>1</td>\n",
       "      <td>0 days 00:10:23</td>\n",
       "      <td>10.383333</td>\n",
       "      <td>10-20min</td>\n",
       "    </tr>\n",
       "    <tr>\n",
       "      <th>1</th>\n",
       "      <td>14054197</td>\n",
       "      <td>2014-04-10 15:14:12</td>\n",
       "      <td>2014-04-10 15:49:05</td>\n",
       "      <td>12.4</td>\n",
       "      <td>-73.991044</td>\n",
       "      <td>40.749704</td>\n",
       "      <td>Standard</td>\n",
       "      <td>-73.909173</td>\n",
       "      <td>40.823500</td>\n",
       "      <td>CSH</td>\n",
       "      <td>...</td>\n",
       "      <td>5234567812372271</td>\n",
       "      <td>2014-04-10 00:00:00</td>\n",
       "      <td>Thursday</td>\n",
       "      <td>15</td>\n",
       "      <td>0</td>\n",
       "      <td>15</td>\n",
       "      <td>1</td>\n",
       "      <td>0 days 00:34:53</td>\n",
       "      <td>34.883333</td>\n",
       "      <td>30-40min</td>\n",
       "    </tr>\n",
       "  </tbody>\n",
       "</table>\n",
       "<p>2 rows × 23 columns</p>\n",
       "</div>"
      ],
      "text/plain": [
       "   order_id      pickup_datetime     dropoff_datetime  trip_distance  \\\n",
       "0    718300  2014-05-24 09:08:43  2014-05-24 09:19:06            2.1   \n",
       "1  14054197  2014-04-10 15:14:12  2014-04-10 15:49:05           12.4   \n",
       "\n",
       "   pickup_longitude  pickup_latitude rate_type  dropoff_longitude  \\\n",
       "0        -73.967172        40.769851  Standard         -73.995022   \n",
       "1        -73.991044        40.749704  Standard         -73.909173   \n",
       "\n",
       "   dropoff_latitude payment_type  ...      passenger_id          pickup_date  \\\n",
       "0         40.765441          CRD  ...  5234567815585627  2014-05-24 00:00:00   \n",
       "1         40.823500          CSH  ...  5234567812372271  2014-04-10 00:00:00   \n",
       "\n",
       "   pickup_dayofweek  pickup_week pickup_isweekend pickup_hour  pickup_isrush  \\\n",
       "0          Saturday           21                1           9              1   \n",
       "1          Thursday           15                0          15              1   \n",
       "\n",
       "          duration  duration_minutes  duration_type  \n",
       "0  0 days 00:10:23         10.383333       10-20min  \n",
       "1  0 days 00:34:53         34.883333       30-40min  \n",
       "\n",
       "[2 rows x 23 columns]"
      ]
     },
     "execution_count": 4,
     "metadata": {},
     "output_type": "execute_result"
    }
   ],
   "source": [
    "df_trips.drop(df_trips.columns[0], axis = 1, inplace = True)\n",
    "df_trips.head(2)"
   ]
  },
  {
   "cell_type": "markdown",
   "metadata": {},
   "source": [
    "## Tʀᴀɴsғᴏʀᴍᴀᴛɪᴏɴ  •  Feature engineering: datetime 📅 (cont'd)"
   ]
  },
  {
   "cell_type": "markdown",
   "metadata": {},
   "source": [
    "### 📈 Adding further new features for better analysis"
   ]
  },
  {
   "cell_type": "markdown",
   "metadata": {},
   "source": [
    "<i> Knowing our date span, it is now possible to think of what transformations/binnings could render meaningful insights:\n",
    "    <ul>\n",
    "        <li> Date [without time, may be useful for some visualizations]: gives information on the trend within the period </li>\n",
    "        <li> <b> [New!] Month</b>: gives information on the trend within the period </li>\n",
    "        <li> Day of the week: to get information on the seasonality along the week  </li>\n",
    "        <li> Week: as the time span of data is short, weeks seem a useful aggregation </li>\n",
    "        <li> <b> [New!] Week in the month</b>: gives information on the trend within the period </li>\n",
    "        <li> Working day / Weekend: to get information on these chunks for seasonality </li>\n",
    "        <li style=\"color:gray\"> Period of the day: it would be interesting to have information by period (like 'early morning', 'noon', etc.), but... as NY is always busy, rush/no rush may be more informative. Let's have also the time by just the hour. </li>\n",
    "        <li> Hour of the day </li>\n",
    "        <li> Rush / no rush: reported as morning: 7:00 a.m. to 10:00 a.m., afternoon: 3:00 p.m. to 8:00 p.m.  </li>\n",
    "        <li> Duration of the trip </li>"
   ]
  },
  {
   "cell_type": "markdown",
   "metadata": {},
   "source": [
    "### Orders"
   ]
  },
  {
   "cell_type": "markdown",
   "metadata": {},
   "source": [
    "#### Month"
   ]
  },
  {
   "cell_type": "code",
   "execution_count": 15,
   "metadata": {},
   "outputs": [
    {
     "data": {
      "text/plain": [
       "4    48.729200\n",
       "3    40.914707\n",
       "5    10.356093\n",
       "Name: pickup_month, dtype: float64"
      ]
     },
     "execution_count": 15,
     "metadata": {},
     "output_type": "execute_result"
    }
   ],
   "source": [
    "df_orders['pickup_month'] = pd.DatetimeIndex(df_orders['pickup_datetime']).month\n",
    "100 * df_orders['pickup_month'].value_counts() / len(df_orders)"
   ]
  },
  {
   "cell_type": "markdown",
   "metadata": {},
   "source": [
    "🤔 <i> Hm... the number of orders in May seems too low. What about the trips? And the trend in weeks? Let's check it just below. </i>"
   ]
  },
  {
   "cell_type": "markdown",
   "metadata": {},
   "source": [
    "#### Week in the month"
   ]
  },
  {
   "cell_type": "code",
   "execution_count": 31,
   "metadata": {},
   "outputs": [
    {
     "data": {
      "text/plain": [
       "2    25.114200\n",
       "3    24.640587\n",
       "1    23.455200\n",
       "4    19.902400\n",
       "5     6.887613\n",
       "Name: pickup_weekinmonth, dtype: float64"
      ]
     },
     "execution_count": 31,
     "metadata": {},
     "output_type": "execute_result"
    }
   ],
   "source": [
    "df_orders['pickup_weekinmonth'] = ((pd.DatetimeIndex(df_orders['pickup_datetime']).day - 1) / 7).astype(int) + 1\n",
    "100 * df_orders['pickup_weekinmonth'].value_counts() / len(df_orders)"
   ]
  },
  {
   "cell_type": "markdown",
   "metadata": {},
   "source": [
    "\\[ L I G H T B U L B \\] <i> Interesting: there is a lower demand at the end of the month. To be checked for converted trips. </i>"
   ]
  },
  {
   "cell_type": "markdown",
   "metadata": {},
   "source": [
    "\\[ !!! W A R N I N G !!! \\] <i> Week 5 is affected by having less days, requiring normalization. <br>\n",
    "    In this case, for aggregate, the weighted average for the three months will be applied: <br>\n",
    "    <ul>\n",
    "        <li> Mar 40.914707 %  (w5 = 3d) </li>\n",
    "        <li> Apr 48.729200 %  (w5 = 2d) </li>\n",
    "        <li> May 10.356093 %  (w5 = 3d) </li>\n",
    "    </ul>\n",
    "</i>"
   ]
  },
  {
   "cell_type": "code",
   "execution_count": 40,
   "metadata": {},
   "outputs": [
    {
     "name": "stdout",
     "output_type": "stream",
     "text": [
      " Average days in week 5: 2.512708 \n",
      "\n",
      " Distribution of frequency by week of the month:\n"
     ]
    },
    {
     "data": {
      "text/plain": [
       "2    25.114200\n",
       "3    24.640587\n",
       "1    23.455200\n",
       "4    19.902400\n",
       "5    19.187782\n",
       "Name: pickup_weekinmonth, dtype: float64"
      ]
     },
     "execution_count": 40,
     "metadata": {},
     "output_type": "execute_result"
    }
   ],
   "source": [
    "days_w5 = 3*(0.40914707+0.10356093) + 2*(0.48729200)\n",
    "print(' Average days in week 5:', days_w5, '\\n\\n Distribution of frequency by week of the month:')\n",
    "100 * df_orders['pickup_weekinmonth'].value_counts() / len(df_orders) * [1,1,1,1,7/days_w5]"
   ]
  },
  {
   "cell_type": "markdown",
   "metadata": {},
   "source": [
    "### Trips"
   ]
  },
  {
   "cell_type": "markdown",
   "metadata": {},
   "source": [
    "#### Month"
   ]
  },
  {
   "cell_type": "code",
   "execution_count": 41,
   "metadata": {},
   "outputs": [
    {
     "data": {
      "text/plain": [
       "4    48.734797\n",
       "3    40.906627\n",
       "5    10.358576\n",
       "Name: pickup_month, dtype: float64"
      ]
     },
     "execution_count": 41,
     "metadata": {},
     "output_type": "execute_result"
    }
   ],
   "source": [
    "df_trips['pickup_month'] = pd.DatetimeIndex(df_trips['pickup_datetime']).month\n",
    "100 * df_trips['pickup_month'].value_counts() / len(df_trips)"
   ]
  },
  {
   "cell_type": "markdown",
   "metadata": {},
   "source": [
    "<i> For trips, also a low the number of orders in May as seen for orders. Really too low. To be better checked in EDA. </i> \\[ !!! W A R N I N G !!! \\] "
   ]
  },
  {
   "cell_type": "markdown",
   "metadata": {},
   "source": [
    "#### Week in the month"
   ]
  },
  {
   "cell_type": "code",
   "execution_count": 42,
   "metadata": {},
   "outputs": [
    {
     "data": {
      "text/plain": [
       "2    25.101702\n",
       "3    24.640975\n",
       "1    23.453716\n",
       "4    19.908946\n",
       "5     6.894661\n",
       "Name: pickup_weekinmonth, dtype: float64"
      ]
     },
     "execution_count": 42,
     "metadata": {},
     "output_type": "execute_result"
    }
   ],
   "source": [
    "df_trips['pickup_weekinmonth'] = ((pd.DatetimeIndex(df_trips['pickup_datetime']).day - 1) / 7).astype(int) + 1\n",
    "100 * df_trips['pickup_weekinmonth'].value_counts() / len(df_trips)"
   ]
  },
  {
   "cell_type": "code",
   "execution_count": 44,
   "metadata": {},
   "outputs": [
    {
     "name": "stdout",
     "output_type": "stream",
     "text": [
      " Normalized \n",
      "\n",
      " Average days in week 5: 2.5126520300000004 \n",
      "\n",
      " Distribution of frequency by week of the month:\n"
     ]
    },
    {
     "data": {
      "text/plain": [
       "2    25.101702\n",
       "3    24.640975\n",
       "1    23.453716\n",
       "4    19.908946\n",
       "5    19.207843\n",
       "Name: pickup_weekinmonth, dtype: float64"
      ]
     },
     "execution_count": 44,
     "metadata": {},
     "output_type": "execute_result"
    }
   ],
   "source": [
    "days_w5 = 3*(0.40906627+0.10358576) + 2*(0.48734797)\n",
    "print(' Normalized \\n\\n Average days in week 5:', days_w5, '\\n\\n Distribution of frequency by week of the month:')\n",
    "100 * df_trips['pickup_weekinmonth'].value_counts() / len(df_trips) * [1,1,1,1,7/days_w5]"
   ]
  },
  {
   "cell_type": "markdown",
   "metadata": {},
   "source": [
    "## Exporting results for retrieval"
   ]
  },
  {
   "cell_type": "code",
   "execution_count": 46,
   "metadata": {},
   "outputs": [],
   "source": [
    "df_orders.to_csv('df_orders_t3.csv')"
   ]
  },
  {
   "cell_type": "code",
   "execution_count": 47,
   "metadata": {},
   "outputs": [],
   "source": [
    "df_trips.to_csv('df_trips_t3.csv')"
   ]
  },
  {
   "cell_type": "markdown",
   "metadata": {},
   "source": [
    "<i>Note: This Notebook would entail the whole transforming process, but as some instabilities may interrupt the Kernel requiring a restart from zero, it has been split for a smoothier process.</i>"
   ]
  },
  {
   "cell_type": "markdown",
   "metadata": {},
   "source": [
    "# Next: [Continues as Transformation, part 3](99__DataTransformation3F.ipynb)"
   ]
  }
 ],
 "metadata": {
  "kernelspec": {
   "display_name": "Python 3",
   "language": "python",
   "name": "python3"
  },
  "language_info": {
   "codemirror_mode": {
    "name": "ipython",
    "version": 3
   },
   "file_extension": ".py",
   "mimetype": "text/x-python",
   "name": "python",
   "nbconvert_exporter": "python",
   "pygments_lexer": "ipython3",
   "version": "3.8.5"
  }
 },
 "nbformat": 4,
 "nbformat_minor": 4
}
