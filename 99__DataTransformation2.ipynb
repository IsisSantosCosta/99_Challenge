{
 "cells": [
  {
   "cell_type": "markdown",
   "metadata": {},
   "source": [
    "<table style=\"width:100%\">\n",
    "  <tr style=\"background-color:#FFFFFF\">\n",
    "    <td style=\"width:10%\">\n",
    "        <img src=\"https://play-lh.googleusercontent.com/K9FC23HoIYy_idt3LL26zrzMchOGORVzLNmi3L5u-MaghdjpdgHAWv7wQlscNmo9wYjC=s180-rw\" alt=\"DiDi\" width=120></td>\n",
    "    <td style=\"width:10%\">\n",
    "        <img src=\"https://logodownload.org/wp-content/uploads/2019/05/99-app-logo.png\" alt=\"99\" width=120></td>\n",
    "      <td>\n",
    "          <h1 style=\"text-align:left; text-indent :2em;\">DATA TRANSFORMATION • PART 2</h1>\n",
    "          <h2 style=\"text-align:left; text-indent :2.4em;\">ISIS SANTOS COSTA • 2020</h2>\n",
    "      </td>\n",
    "  </tr>\n",
    "</table>"
   ]
  },
  {
   "cell_type": "markdown",
   "metadata": {},
   "source": [
    "## Tʀᴀɴsғᴏʀᴍᴀᴛɪᴏɴ  •  Resuming: retrieving the DFs"
   ]
  },
  {
   "cell_type": "code",
   "execution_count": 1,
   "metadata": {},
   "outputs": [],
   "source": [
    "import pandas as pd"
   ]
  },
  {
   "cell_type": "code",
   "execution_count": 2,
   "metadata": {},
   "outputs": [],
   "source": [
    "df_orders_orig = pd.read_csv('orders.csv') # original data\n",
    "df_trips_orig = pd.read_csv('trips.csv') # original data"
   ]
  },
  {
   "cell_type": "code",
   "execution_count": 3,
   "metadata": {
    "scrolled": true
   },
   "outputs": [],
   "source": [
    "df_orders = pd.read_csv('df_orders.csv') # transformed data\n",
    "df_trips = pd.read_csv('df_trips.csv') # transformed data"
   ]
  },
  {
   "cell_type": "code",
   "execution_count": 4,
   "metadata": {
    "scrolled": true
   },
   "outputs": [
    {
     "data": {
      "text/html": [
       "<div>\n",
       "<style scoped>\n",
       "    .dataframe tbody tr th:only-of-type {\n",
       "        vertical-align: middle;\n",
       "    }\n",
       "\n",
       "    .dataframe tbody tr th {\n",
       "        vertical-align: top;\n",
       "    }\n",
       "\n",
       "    .dataframe thead th {\n",
       "        text-align: right;\n",
       "    }\n",
       "</style>\n",
       "<table border=\"1\" class=\"dataframe\">\n",
       "  <thead>\n",
       "    <tr style=\"text-align: right;\">\n",
       "      <th></th>\n",
       "      <th>order_id</th>\n",
       "      <th>passenger_id</th>\n",
       "      <th>pickup_datetime</th>\n",
       "      <th>pickup_longitude</th>\n",
       "      <th>pickup_latitude</th>\n",
       "      <th>payment_type</th>\n",
       "    </tr>\n",
       "  </thead>\n",
       "  <tbody>\n",
       "    <tr>\n",
       "      <th>0</th>\n",
       "      <td>6433697</td>\n",
       "      <td>5234567816269547</td>\n",
       "      <td>2014-04-11 18:06:45</td>\n",
       "      <td>-74.015684</td>\n",
       "      <td>40.714476</td>\n",
       "      <td>CRD</td>\n",
       "    </tr>\n",
       "    <tr>\n",
       "      <th>1</th>\n",
       "      <td>6433698</td>\n",
       "      <td>5234567812367422</td>\n",
       "      <td>2014-04-12 00:20:28</td>\n",
       "      <td>-73.958403</td>\n",
       "      <td>40.713247</td>\n",
       "      <td>CRD</td>\n",
       "    </tr>\n",
       "  </tbody>\n",
       "</table>\n",
       "</div>"
      ],
      "text/plain": [
       "   order_id      passenger_id      pickup_datetime  pickup_longitude  \\\n",
       "0   6433697  5234567816269547  2014-04-11 18:06:45        -74.015684   \n",
       "1   6433698  5234567812367422  2014-04-12 00:20:28        -73.958403   \n",
       "\n",
       "   pickup_latitude payment_type  \n",
       "0        40.714476          CRD  \n",
       "1        40.713247          CRD  "
      ]
     },
     "execution_count": 4,
     "metadata": {},
     "output_type": "execute_result"
    }
   ],
   "source": [
    "df_orders.drop(df_orders.columns[0], axis = 1, inplace = True)\n",
    "df_orders.head(2)"
   ]
  },
  {
   "cell_type": "code",
   "execution_count": 5,
   "metadata": {},
   "outputs": [
    {
     "data": {
      "text/html": [
       "<div>\n",
       "<style scoped>\n",
       "    .dataframe tbody tr th:only-of-type {\n",
       "        vertical-align: middle;\n",
       "    }\n",
       "\n",
       "    .dataframe tbody tr th {\n",
       "        vertical-align: top;\n",
       "    }\n",
       "\n",
       "    .dataframe thead th {\n",
       "        text-align: right;\n",
       "    }\n",
       "</style>\n",
       "<table border=\"1\" class=\"dataframe\">\n",
       "  <thead>\n",
       "    <tr style=\"text-align: right;\">\n",
       "      <th></th>\n",
       "      <th>order_id</th>\n",
       "      <th>pickup_datetime</th>\n",
       "      <th>dropoff_datetime</th>\n",
       "      <th>trip_distance</th>\n",
       "      <th>pickup_longitude</th>\n",
       "      <th>pickup_latitude</th>\n",
       "      <th>rate_code</th>\n",
       "      <th>dropoff_longitude</th>\n",
       "      <th>dropoff_latitude</th>\n",
       "      <th>payment_type</th>\n",
       "      <th>fare_amount</th>\n",
       "      <th>tip_amount</th>\n",
       "      <th>total_amount</th>\n",
       "      <th>passenger_id</th>\n",
       "    </tr>\n",
       "  </thead>\n",
       "  <tbody>\n",
       "    <tr>\n",
       "      <th>0</th>\n",
       "      <td>718300</td>\n",
       "      <td>2014-05-24 09:08:43</td>\n",
       "      <td>2014-05-24 09:19:06</td>\n",
       "      <td>2.1</td>\n",
       "      <td>-73.967172</td>\n",
       "      <td>40.769851</td>\n",
       "      <td>1</td>\n",
       "      <td>-73.995022</td>\n",
       "      <td>40.765441</td>\n",
       "      <td>CRD</td>\n",
       "      <td>9.5</td>\n",
       "      <td>2.5</td>\n",
       "      <td>12.5</td>\n",
       "      <td>5234567815585627</td>\n",
       "    </tr>\n",
       "    <tr>\n",
       "      <th>1</th>\n",
       "      <td>14054197</td>\n",
       "      <td>2014-04-10 15:14:12</td>\n",
       "      <td>2014-04-10 15:49:05</td>\n",
       "      <td>12.4</td>\n",
       "      <td>-73.991044</td>\n",
       "      <td>40.749704</td>\n",
       "      <td>1</td>\n",
       "      <td>-73.909173</td>\n",
       "      <td>40.823500</td>\n",
       "      <td>CSH</td>\n",
       "      <td>39.0</td>\n",
       "      <td>0.0</td>\n",
       "      <td>39.5</td>\n",
       "      <td>5234567812372271</td>\n",
       "    </tr>\n",
       "  </tbody>\n",
       "</table>\n",
       "</div>"
      ],
      "text/plain": [
       "   order_id      pickup_datetime     dropoff_datetime  trip_distance  \\\n",
       "0    718300  2014-05-24 09:08:43  2014-05-24 09:19:06            2.1   \n",
       "1  14054197  2014-04-10 15:14:12  2014-04-10 15:49:05           12.4   \n",
       "\n",
       "   pickup_longitude  pickup_latitude  rate_code  dropoff_longitude  \\\n",
       "0        -73.967172        40.769851          1         -73.995022   \n",
       "1        -73.991044        40.749704          1         -73.909173   \n",
       "\n",
       "   dropoff_latitude payment_type  fare_amount  tip_amount  total_amount  \\\n",
       "0         40.765441          CRD          9.5         2.5          12.5   \n",
       "1         40.823500          CSH         39.0         0.0          39.5   \n",
       "\n",
       "       passenger_id  \n",
       "0  5234567815585627  \n",
       "1  5234567812372271  "
      ]
     },
     "execution_count": 5,
     "metadata": {},
     "output_type": "execute_result"
    }
   ],
   "source": [
    "df_trips.drop(df_trips.columns[0], axis = 1, inplace = True)\n",
    "df_trips.head(2)"
   ]
  },
  {
   "cell_type": "markdown",
   "metadata": {},
   "source": [
    "## Tʀᴀɴsғᴏʀᴍᴀᴛɪᴏɴ  •  Checking & improving the data structure (cont'd.)"
   ]
  },
  {
   "cell_type": "markdown",
   "metadata": {},
   "source": [
    "### Rate type (cont'd.)"
   ]
  },
  {
   "cell_type": "markdown",
   "metadata": {},
   "source": [
    "<i> Rate type has been previously cleaned given to records extraneous to the data range.</i> 🧹 <br>\n",
    "🔄 <i> A further useful step is to convert the codes into readable information, as follows: </i>"
   ]
  },
  {
   "cell_type": "code",
   "execution_count": 6,
   "metadata": {},
   "outputs": [
    {
     "data": {
      "text/plain": [
       "{'1': 'Standard',\n",
       " '2': 'JFK',\n",
       " '3': 'Newark',\n",
       " '4': 'Nassau / Westchester',\n",
       " '5': 'Negotiated',\n",
       " '6': 'Group ride'}"
      ]
     },
     "execution_count": 6,
     "metadata": {},
     "output_type": "execute_result"
    }
   ],
   "source": [
    "replace_dict = {'1': 'Standard'}\n",
    "replace_dict['2'] = 'JFK'\n",
    "replace_dict['3'] = 'Newark'\n",
    "replace_dict['4'] = 'Nassau / Westchester'\n",
    "replace_dict['5'] = 'Negotiated'\n",
    "replace_dict['6'] = 'Group ride'\n",
    "replace_dict"
   ]
  },
  {
   "cell_type": "code",
   "execution_count": 7,
   "metadata": {},
   "outputs": [
    {
     "data": {
      "text/html": [
       "<div>\n",
       "<style scoped>\n",
       "    .dataframe tbody tr th:only-of-type {\n",
       "        vertical-align: middle;\n",
       "    }\n",
       "\n",
       "    .dataframe tbody tr th {\n",
       "        vertical-align: top;\n",
       "    }\n",
       "\n",
       "    .dataframe thead th {\n",
       "        text-align: right;\n",
       "    }\n",
       "</style>\n",
       "<table border=\"1\" class=\"dataframe\">\n",
       "  <thead>\n",
       "    <tr style=\"text-align: right;\">\n",
       "      <th></th>\n",
       "      <th>order_id</th>\n",
       "      <th>pickup_datetime</th>\n",
       "      <th>dropoff_datetime</th>\n",
       "      <th>trip_distance</th>\n",
       "      <th>pickup_longitude</th>\n",
       "      <th>pickup_latitude</th>\n",
       "      <th>rate_type</th>\n",
       "      <th>dropoff_longitude</th>\n",
       "      <th>dropoff_latitude</th>\n",
       "      <th>payment_type</th>\n",
       "      <th>fare_amount</th>\n",
       "      <th>tip_amount</th>\n",
       "      <th>total_amount</th>\n",
       "      <th>passenger_id</th>\n",
       "    </tr>\n",
       "  </thead>\n",
       "  <tbody>\n",
       "    <tr>\n",
       "      <th>0</th>\n",
       "      <td>718300</td>\n",
       "      <td>2014-05-24 09:08:43</td>\n",
       "      <td>2014-05-24 09:19:06</td>\n",
       "      <td>2.10</td>\n",
       "      <td>-73.967172</td>\n",
       "      <td>40.769851</td>\n",
       "      <td>Standard</td>\n",
       "      <td>-73.995022</td>\n",
       "      <td>40.765441</td>\n",
       "      <td>CRD</td>\n",
       "      <td>9.5</td>\n",
       "      <td>2.5</td>\n",
       "      <td>12.5</td>\n",
       "      <td>5234567815585627</td>\n",
       "    </tr>\n",
       "    <tr>\n",
       "      <th>1</th>\n",
       "      <td>14054197</td>\n",
       "      <td>2014-04-10 15:14:12</td>\n",
       "      <td>2014-04-10 15:49:05</td>\n",
       "      <td>12.40</td>\n",
       "      <td>-73.991044</td>\n",
       "      <td>40.749704</td>\n",
       "      <td>Standard</td>\n",
       "      <td>-73.909173</td>\n",
       "      <td>40.823500</td>\n",
       "      <td>CSH</td>\n",
       "      <td>39.0</td>\n",
       "      <td>0.0</td>\n",
       "      <td>39.5</td>\n",
       "      <td>5234567812372271</td>\n",
       "    </tr>\n",
       "    <tr>\n",
       "      <th>2</th>\n",
       "      <td>2961792</td>\n",
       "      <td>2014-03-21 19:05:00</td>\n",
       "      <td>2014-03-21 19:33:00</td>\n",
       "      <td>12.37</td>\n",
       "      <td>-73.971610</td>\n",
       "      <td>40.743485</td>\n",
       "      <td>JFK</td>\n",
       "      <td>-73.810440</td>\n",
       "      <td>40.691472</td>\n",
       "      <td>CRD</td>\n",
       "      <td>52.0</td>\n",
       "      <td>10.4</td>\n",
       "      <td>62.9</td>\n",
       "      <td>5234567813993786</td>\n",
       "    </tr>\n",
       "    <tr>\n",
       "      <th>3</th>\n",
       "      <td>4561755</td>\n",
       "      <td>2014-04-02 20:14:00</td>\n",
       "      <td>2014-04-02 20:23:00</td>\n",
       "      <td>1.63</td>\n",
       "      <td>-73.987733</td>\n",
       "      <td>40.743752</td>\n",
       "      <td>Standard</td>\n",
       "      <td>-74.006530</td>\n",
       "      <td>40.731562</td>\n",
       "      <td>CRD</td>\n",
       "      <td>8.5</td>\n",
       "      <td>1.0</td>\n",
       "      <td>10.5</td>\n",
       "      <td>5234567812381379</td>\n",
       "    </tr>\n",
       "    <tr>\n",
       "      <th>4</th>\n",
       "      <td>3298376</td>\n",
       "      <td>2014-03-25 22:24:00</td>\n",
       "      <td>2014-03-25 22:28:00</td>\n",
       "      <td>0.83</td>\n",
       "      <td>-73.979562</td>\n",
       "      <td>40.737337</td>\n",
       "      <td>Standard</td>\n",
       "      <td>-73.988807</td>\n",
       "      <td>40.731392</td>\n",
       "      <td>CSH</td>\n",
       "      <td>5.0</td>\n",
       "      <td>0.0</td>\n",
       "      <td>6.0</td>\n",
       "      <td>5234567819313166</td>\n",
       "    </tr>\n",
       "  </tbody>\n",
       "</table>\n",
       "</div>"
      ],
      "text/plain": [
       "   order_id      pickup_datetime     dropoff_datetime  trip_distance  \\\n",
       "0    718300  2014-05-24 09:08:43  2014-05-24 09:19:06           2.10   \n",
       "1  14054197  2014-04-10 15:14:12  2014-04-10 15:49:05          12.40   \n",
       "2   2961792  2014-03-21 19:05:00  2014-03-21 19:33:00          12.37   \n",
       "3   4561755  2014-04-02 20:14:00  2014-04-02 20:23:00           1.63   \n",
       "4   3298376  2014-03-25 22:24:00  2014-03-25 22:28:00           0.83   \n",
       "\n",
       "   pickup_longitude  pickup_latitude rate_type  dropoff_longitude  \\\n",
       "0        -73.967172        40.769851  Standard         -73.995022   \n",
       "1        -73.991044        40.749704  Standard         -73.909173   \n",
       "2        -73.971610        40.743485       JFK         -73.810440   \n",
       "3        -73.987733        40.743752  Standard         -74.006530   \n",
       "4        -73.979562        40.737337  Standard         -73.988807   \n",
       "\n",
       "   dropoff_latitude payment_type  fare_amount  tip_amount  total_amount  \\\n",
       "0         40.765441          CRD          9.5         2.5          12.5   \n",
       "1         40.823500          CSH         39.0         0.0          39.5   \n",
       "2         40.691472          CRD         52.0        10.4          62.9   \n",
       "3         40.731562          CRD          8.5         1.0          10.5   \n",
       "4         40.731392          CSH          5.0         0.0           6.0   \n",
       "\n",
       "       passenger_id  \n",
       "0  5234567815585627  \n",
       "1  5234567812372271  \n",
       "2  5234567813993786  \n",
       "3  5234567812381379  \n",
       "4  5234567819313166  "
      ]
     },
     "execution_count": 7,
     "metadata": {},
     "output_type": "execute_result"
    }
   ],
   "source": [
    "df_trips['rate_code'] = df_trips['rate_code'].astype(str)\n",
    "df_trips['rate_code'] = df_trips['rate_code'].replace(replace_dict)\n",
    "df_trips = df_trips.rename(columns = {'rate_code': 'rate_type'})\n",
    "df_trips.head()"
   ]
  },
  {
   "cell_type": "markdown",
   "metadata": {},
   "source": [
    "## Tʀᴀɴsғᴏʀᴍᴀᴛɪᴏɴ  •  Basic information"
   ]
  },
  {
   "cell_type": "code",
   "execution_count": 8,
   "metadata": {},
   "outputs": [
    {
     "name": "stdout",
     "output_type": "stream",
     "text": [
      "<class 'pandas.core.frame.DataFrame'>\n",
      "RangeIndex: 15000000 entries, 0 to 14999999\n",
      "Data columns (total 6 columns):\n",
      " #   Column            Dtype  \n",
      "---  ------            -----  \n",
      " 0   order_id          int64  \n",
      " 1   passenger_id      int64  \n",
      " 2   pickup_datetime   object \n",
      " 3   pickup_longitude  float64\n",
      " 4   pickup_latitude   float64\n",
      " 5   payment_type      object \n",
      "dtypes: float64(2), int64(2), object(2)\n",
      "memory usage: 686.6+ MB\n"
     ]
    }
   ],
   "source": [
    "df_orders.info()"
   ]
  },
  {
   "cell_type": "code",
   "execution_count": 9,
   "metadata": {},
   "outputs": [
    {
     "name": "stdout",
     "output_type": "stream",
     "text": [
      "<class 'pandas.core.frame.DataFrame'>\n",
      "RangeIndex: 11456227 entries, 0 to 11456226\n",
      "Data columns (total 14 columns):\n",
      " #   Column             Dtype  \n",
      "---  ------             -----  \n",
      " 0   order_id           int64  \n",
      " 1   pickup_datetime    object \n",
      " 2   dropoff_datetime   object \n",
      " 3   trip_distance      float64\n",
      " 4   pickup_longitude   float64\n",
      " 5   pickup_latitude    float64\n",
      " 6   rate_type          object \n",
      " 7   dropoff_longitude  float64\n",
      " 8   dropoff_latitude   float64\n",
      " 9   payment_type       object \n",
      " 10  fare_amount        float64\n",
      " 11  tip_amount         float64\n",
      " 12  total_amount       float64\n",
      " 13  passenger_id       int64  \n",
      "dtypes: float64(8), int64(2), object(4)\n",
      "memory usage: 1.2+ GB\n"
     ]
    }
   ],
   "source": [
    "df_trips.info()"
   ]
  },
  {
   "cell_type": "code",
   "execution_count": 10,
   "metadata": {},
   "outputs": [
    {
     "data": {
      "text/html": [
       "<div>\n",
       "<style scoped>\n",
       "    .dataframe tbody tr th:only-of-type {\n",
       "        vertical-align: middle;\n",
       "    }\n",
       "\n",
       "    .dataframe tbody tr th {\n",
       "        vertical-align: top;\n",
       "    }\n",
       "\n",
       "    .dataframe thead th {\n",
       "        text-align: right;\n",
       "    }\n",
       "</style>\n",
       "<table border=\"1\" class=\"dataframe\">\n",
       "  <thead>\n",
       "    <tr style=\"text-align: right;\">\n",
       "      <th></th>\n",
       "      <th>order_id</th>\n",
       "      <th>passenger_id</th>\n",
       "      <th>pickup_longitude</th>\n",
       "      <th>pickup_latitude</th>\n",
       "    </tr>\n",
       "  </thead>\n",
       "  <tbody>\n",
       "    <tr>\n",
       "      <th>count</th>\n",
       "      <td>1.500000e+07</td>\n",
       "      <td>1.500000e+07</td>\n",
       "      <td>1.500000e+07</td>\n",
       "      <td>1.500000e+07</td>\n",
       "    </tr>\n",
       "    <tr>\n",
       "      <th>mean</th>\n",
       "      <td>7.500000e+06</td>\n",
       "      <td>5.234568e+15</td>\n",
       "      <td>-7.262919e+01</td>\n",
       "      <td>4.000893e+01</td>\n",
       "    </tr>\n",
       "    <tr>\n",
       "      <th>std</th>\n",
       "      <td>4.330127e+06</td>\n",
       "      <td>3.870524e+06</td>\n",
       "      <td>9.889962e+00</td>\n",
       "      <td>5.448031e+00</td>\n",
       "    </tr>\n",
       "    <tr>\n",
       "      <th>min</th>\n",
       "      <td>1.000000e+00</td>\n",
       "      <td>5.234568e+15</td>\n",
       "      <td>-1.714464e+02</td>\n",
       "      <td>0.000000e+00</td>\n",
       "    </tr>\n",
       "    <tr>\n",
       "      <th>25%</th>\n",
       "      <td>3.750001e+06</td>\n",
       "      <td>5.234568e+15</td>\n",
       "      <td>-7.399212e+01</td>\n",
       "      <td>4.073476e+01</td>\n",
       "    </tr>\n",
       "    <tr>\n",
       "      <th>50%</th>\n",
       "      <td>7.500000e+06</td>\n",
       "      <td>5.234568e+15</td>\n",
       "      <td>-7.398188e+01</td>\n",
       "      <td>4.075263e+01</td>\n",
       "    </tr>\n",
       "    <tr>\n",
       "      <th>75%</th>\n",
       "      <td>1.125000e+07</td>\n",
       "      <td>5.234568e+15</td>\n",
       "      <td>-7.396731e+01</td>\n",
       "      <td>4.076701e+01</td>\n",
       "    </tr>\n",
       "    <tr>\n",
       "      <th>max</th>\n",
       "      <td>1.500000e+07</td>\n",
       "      <td>5.234568e+15</td>\n",
       "      <td>1.213851e+00</td>\n",
       "      <td>6.312818e+01</td>\n",
       "    </tr>\n",
       "  </tbody>\n",
       "</table>\n",
       "</div>"
      ],
      "text/plain": [
       "           order_id  passenger_id  pickup_longitude  pickup_latitude\n",
       "count  1.500000e+07  1.500000e+07      1.500000e+07     1.500000e+07\n",
       "mean   7.500000e+06  5.234568e+15     -7.262919e+01     4.000893e+01\n",
       "std    4.330127e+06  3.870524e+06      9.889962e+00     5.448031e+00\n",
       "min    1.000000e+00  5.234568e+15     -1.714464e+02     0.000000e+00\n",
       "25%    3.750001e+06  5.234568e+15     -7.399212e+01     4.073476e+01\n",
       "50%    7.500000e+06  5.234568e+15     -7.398188e+01     4.075263e+01\n",
       "75%    1.125000e+07  5.234568e+15     -7.396731e+01     4.076701e+01\n",
       "max    1.500000e+07  5.234568e+15      1.213851e+00     6.312818e+01"
      ]
     },
     "execution_count": 10,
     "metadata": {},
     "output_type": "execute_result"
    }
   ],
   "source": [
    "df_orders.describe()"
   ]
  },
  {
   "cell_type": "code",
   "execution_count": 11,
   "metadata": {},
   "outputs": [
    {
     "data": {
      "text/html": [
       "<div>\n",
       "<style scoped>\n",
       "    .dataframe tbody tr th:only-of-type {\n",
       "        vertical-align: middle;\n",
       "    }\n",
       "\n",
       "    .dataframe tbody tr th {\n",
       "        vertical-align: top;\n",
       "    }\n",
       "\n",
       "    .dataframe thead th {\n",
       "        text-align: right;\n",
       "    }\n",
       "</style>\n",
       "<table border=\"1\" class=\"dataframe\">\n",
       "  <thead>\n",
       "    <tr style=\"text-align: right;\">\n",
       "      <th></th>\n",
       "      <th>order_id</th>\n",
       "      <th>trip_distance</th>\n",
       "      <th>pickup_longitude</th>\n",
       "      <th>pickup_latitude</th>\n",
       "      <th>dropoff_longitude</th>\n",
       "      <th>dropoff_latitude</th>\n",
       "      <th>fare_amount</th>\n",
       "      <th>tip_amount</th>\n",
       "      <th>total_amount</th>\n",
       "      <th>passenger_id</th>\n",
       "    </tr>\n",
       "  </thead>\n",
       "  <tbody>\n",
       "    <tr>\n",
       "      <th>count</th>\n",
       "      <td>1.145623e+07</td>\n",
       "      <td>1.145623e+07</td>\n",
       "      <td>1.145623e+07</td>\n",
       "      <td>1.145623e+07</td>\n",
       "      <td>1.145623e+07</td>\n",
       "      <td>1.145623e+07</td>\n",
       "      <td>1.145623e+07</td>\n",
       "      <td>1.145623e+07</td>\n",
       "      <td>1.145623e+07</td>\n",
       "      <td>1.145623e+07</td>\n",
       "    </tr>\n",
       "    <tr>\n",
       "      <th>mean</th>\n",
       "      <td>7.500133e+06</td>\n",
       "      <td>2.909636e+00</td>\n",
       "      <td>-7.262986e+01</td>\n",
       "      <td>4.000929e+01</td>\n",
       "      <td>-7.256022e+01</td>\n",
       "      <td>3.997215e+01</td>\n",
       "      <td>1.242631e+01</td>\n",
       "      <td>1.481080e+00</td>\n",
       "      <td>1.499246e+01</td>\n",
       "      <td>5.234568e+15</td>\n",
       "    </tr>\n",
       "    <tr>\n",
       "      <th>std</th>\n",
       "      <td>4.329823e+06</td>\n",
       "      <td>1.438006e+01</td>\n",
       "      <td>9.887587e+00</td>\n",
       "      <td>5.446732e+00</td>\n",
       "      <td>1.012975e+01</td>\n",
       "      <td>5.581360e+00</td>\n",
       "      <td>1.021169e+01</td>\n",
       "      <td>2.276245e+00</td>\n",
       "      <td>1.237402e+01</td>\n",
       "      <td>3.867525e+06</td>\n",
       "    </tr>\n",
       "    <tr>\n",
       "      <th>min</th>\n",
       "      <td>2.000000e+00</td>\n",
       "      <td>0.000000e+00</td>\n",
       "      <td>-1.714464e+02</td>\n",
       "      <td>0.000000e+00</td>\n",
       "      <td>-1.714464e+02</td>\n",
       "      <td>0.000000e+00</td>\n",
       "      <td>0.000000e+00</td>\n",
       "      <td>0.000000e+00</td>\n",
       "      <td>0.000000e+00</td>\n",
       "      <td>5.234568e+15</td>\n",
       "    </tr>\n",
       "    <tr>\n",
       "      <th>25%</th>\n",
       "      <td>3.750708e+06</td>\n",
       "      <td>1.020000e+00</td>\n",
       "      <td>-7.399212e+01</td>\n",
       "      <td>4.073477e+01</td>\n",
       "      <td>-7.399138e+01</td>\n",
       "      <td>4.073346e+01</td>\n",
       "      <td>6.500000e+00</td>\n",
       "      <td>0.000000e+00</td>\n",
       "      <td>8.000000e+00</td>\n",
       "      <td>5.234568e+15</td>\n",
       "    </tr>\n",
       "    <tr>\n",
       "      <th>50%</th>\n",
       "      <td>7.500416e+06</td>\n",
       "      <td>1.770000e+00</td>\n",
       "      <td>-7.398188e+01</td>\n",
       "      <td>4.075263e+01</td>\n",
       "      <td>-7.397991e+01</td>\n",
       "      <td>4.075306e+01</td>\n",
       "      <td>9.500000e+00</td>\n",
       "      <td>1.000000e+00</td>\n",
       "      <td>1.130000e+01</td>\n",
       "      <td>5.234568e+15</td>\n",
       "    </tr>\n",
       "    <tr>\n",
       "      <th>75%</th>\n",
       "      <td>1.125000e+07</td>\n",
       "      <td>3.200000e+00</td>\n",
       "      <td>-7.396731e+01</td>\n",
       "      <td>4.076701e+01</td>\n",
       "      <td>-7.396281e+01</td>\n",
       "      <td>4.076830e+01</td>\n",
       "      <td>1.400000e+01</td>\n",
       "      <td>2.000000e+00</td>\n",
       "      <td>1.680000e+01</td>\n",
       "      <td>5.234568e+15</td>\n",
       "    </tr>\n",
       "    <tr>\n",
       "      <th>max</th>\n",
       "      <td>1.500000e+07</td>\n",
       "      <td>3.318000e+04</td>\n",
       "      <td>1.213851e+00</td>\n",
       "      <td>6.312818e+01</td>\n",
       "      <td>1.218270e+02</td>\n",
       "      <td>4.009167e+02</td>\n",
       "      <td>5.000000e+02</td>\n",
       "      <td>2.000000e+02</td>\n",
       "      <td>6.266700e+02</td>\n",
       "      <td>5.234568e+15</td>\n",
       "    </tr>\n",
       "  </tbody>\n",
       "</table>\n",
       "</div>"
      ],
      "text/plain": [
       "           order_id  trip_distance  pickup_longitude  pickup_latitude  \\\n",
       "count  1.145623e+07   1.145623e+07      1.145623e+07     1.145623e+07   \n",
       "mean   7.500133e+06   2.909636e+00     -7.262986e+01     4.000929e+01   \n",
       "std    4.329823e+06   1.438006e+01      9.887587e+00     5.446732e+00   \n",
       "min    2.000000e+00   0.000000e+00     -1.714464e+02     0.000000e+00   \n",
       "25%    3.750708e+06   1.020000e+00     -7.399212e+01     4.073477e+01   \n",
       "50%    7.500416e+06   1.770000e+00     -7.398188e+01     4.075263e+01   \n",
       "75%    1.125000e+07   3.200000e+00     -7.396731e+01     4.076701e+01   \n",
       "max    1.500000e+07   3.318000e+04      1.213851e+00     6.312818e+01   \n",
       "\n",
       "       dropoff_longitude  dropoff_latitude   fare_amount    tip_amount  \\\n",
       "count       1.145623e+07      1.145623e+07  1.145623e+07  1.145623e+07   \n",
       "mean       -7.256022e+01      3.997215e+01  1.242631e+01  1.481080e+00   \n",
       "std         1.012975e+01      5.581360e+00  1.021169e+01  2.276245e+00   \n",
       "min        -1.714464e+02      0.000000e+00  0.000000e+00  0.000000e+00   \n",
       "25%        -7.399138e+01      4.073346e+01  6.500000e+00  0.000000e+00   \n",
       "50%        -7.397991e+01      4.075306e+01  9.500000e+00  1.000000e+00   \n",
       "75%        -7.396281e+01      4.076830e+01  1.400000e+01  2.000000e+00   \n",
       "max         1.218270e+02      4.009167e+02  5.000000e+02  2.000000e+02   \n",
       "\n",
       "       total_amount  passenger_id  \n",
       "count  1.145623e+07  1.145623e+07  \n",
       "mean   1.499246e+01  5.234568e+15  \n",
       "std    1.237402e+01  3.867525e+06  \n",
       "min    0.000000e+00  5.234568e+15  \n",
       "25%    8.000000e+00  5.234568e+15  \n",
       "50%    1.130000e+01  5.234568e+15  \n",
       "75%    1.680000e+01  5.234568e+15  \n",
       "max    6.266700e+02  5.234568e+15  "
      ]
     },
     "execution_count": 11,
     "metadata": {},
     "output_type": "execute_result"
    }
   ],
   "source": [
    "df_trips.describe()"
   ]
  },
  {
   "cell_type": "markdown",
   "metadata": {},
   "source": [
    "🕒 <i> From 'info' we see that pickup/dropoff datetime have been recorded as 'object', let's convert to a handable format."
   ]
  },
  {
   "cell_type": "markdown",
   "metadata": {},
   "source": [
    "## Tʀᴀɴsғᴏʀᴍᴀᴛɪᴏɴ  •  Converting strings into datetime"
   ]
  },
  {
   "cell_type": "code",
   "execution_count": 12,
   "metadata": {},
   "outputs": [
    {
     "data": {
      "text/plain": [
       "dtype('O')"
      ]
     },
     "execution_count": 12,
     "metadata": {},
     "output_type": "execute_result"
    }
   ],
   "source": [
    "df_orders['pickup_datetime'].dtype"
   ]
  },
  {
   "cell_type": "code",
   "execution_count": 13,
   "metadata": {},
   "outputs": [
    {
     "data": {
      "text/plain": [
       "dtype('<M8[ns]')"
      ]
     },
     "execution_count": 13,
     "metadata": {},
     "output_type": "execute_result"
    }
   ],
   "source": [
    "df_orders['pickup_datetime'] = pd.to_datetime(df_orders['pickup_datetime'])\n",
    "df_orders['pickup_datetime'].dtype"
   ]
  },
  {
   "cell_type": "code",
   "execution_count": 14,
   "metadata": {
    "scrolled": true
   },
   "outputs": [
    {
     "data": {
      "text/plain": [
       "dtype('O')"
      ]
     },
     "execution_count": 14,
     "metadata": {},
     "output_type": "execute_result"
    }
   ],
   "source": [
    "df_trips['pickup_datetime'].dtype"
   ]
  },
  {
   "cell_type": "code",
   "execution_count": 15,
   "metadata": {},
   "outputs": [
    {
     "data": {
      "text/plain": [
       "dtype('<M8[ns]')"
      ]
     },
     "execution_count": 15,
     "metadata": {},
     "output_type": "execute_result"
    }
   ],
   "source": [
    "df_trips['pickup_datetime'] = pd.to_datetime(df_trips['pickup_datetime'])\n",
    "df_trips['pickup_datetime'].dtype"
   ]
  },
  {
   "cell_type": "code",
   "execution_count": 16,
   "metadata": {},
   "outputs": [
    {
     "data": {
      "text/plain": [
       "dtype('O')"
      ]
     },
     "execution_count": 16,
     "metadata": {},
     "output_type": "execute_result"
    }
   ],
   "source": [
    "df_trips['dropoff_datetime'].dtype"
   ]
  },
  {
   "cell_type": "code",
   "execution_count": 17,
   "metadata": {},
   "outputs": [
    {
     "data": {
      "text/plain": [
       "dtype('<M8[ns]')"
      ]
     },
     "execution_count": 17,
     "metadata": {},
     "output_type": "execute_result"
    }
   ],
   "source": [
    "df_trips['dropoff_datetime'] = pd.to_datetime(df_trips['dropoff_datetime'])\n",
    "df_trips['dropoff_datetime'].dtype"
   ]
  },
  {
   "cell_type": "markdown",
   "metadata": {},
   "source": [
    "📏 <i> Now we can have a description for the pickup / dropoff datetimes as well"
   ]
  },
  {
   "cell_type": "code",
   "execution_count": 18,
   "metadata": {},
   "outputs": [
    {
     "name": "stderr",
     "output_type": "stream",
     "text": [
      "<ipython-input-18-2dd06f8f2381>:1: FutureWarning: Treating datetime data as categorical rather than numeric in `.describe` is deprecated and will be removed in a future version of pandas. Specify `datetime_is_numeric=True` to silence this warning and adopt the future behavior now.\n",
      "  df_orders['pickup_datetime'].describe()\n"
     ]
    },
    {
     "data": {
      "text/plain": [
       "count                15000000\n",
       "unique                2608032\n",
       "top       2014-03-13 20:10:00\n",
       "freq                      214\n",
       "first     2014-03-01 00:00:00\n",
       "last      2014-05-31 18:45:00\n",
       "Name: pickup_datetime, dtype: object"
      ]
     },
     "execution_count": 18,
     "metadata": {},
     "output_type": "execute_result"
    }
   ],
   "source": [
    "df_orders['pickup_datetime'].describe()"
   ]
  },
  {
   "cell_type": "code",
   "execution_count": 19,
   "metadata": {},
   "outputs": [
    {
     "data": {
      "text/plain": [
       "count                         15000000\n",
       "mean     2014-04-06 02:47:43.160677632\n",
       "min                2014-03-01 00:00:00\n",
       "25%         2014-03-15 20:39:51.500000\n",
       "50%                2014-04-06 11:28:00\n",
       "75%      2014-04-22 06:21:17.249999872\n",
       "max                2014-05-31 18:45:00\n",
       "Name: pickup_datetime, dtype: object"
      ]
     },
     "execution_count": 19,
     "metadata": {},
     "output_type": "execute_result"
    }
   ],
   "source": [
    "df_orders['pickup_datetime'].describe(datetime_is_numeric=True)"
   ]
  },
  {
   "cell_type": "code",
   "execution_count": 20,
   "metadata": {
    "scrolled": true
   },
   "outputs": [
    {
     "data": {
      "text/plain": [
       "count                         11456227\n",
       "mean     2014-04-06 02:56:01.900459520\n",
       "min                2014-03-01 00:00:00\n",
       "25%                2014-03-15 20:45:00\n",
       "50%                2014-04-06 11:32:49\n",
       "75%                2014-04-22 06:40:00\n",
       "max                2014-05-31 18:45:00\n",
       "Name: pickup_datetime, dtype: object"
      ]
     },
     "execution_count": 20,
     "metadata": {},
     "output_type": "execute_result"
    }
   ],
   "source": [
    "df_trips['pickup_datetime'].describe(datetime_is_numeric=True)"
   ]
  },
  {
   "cell_type": "code",
   "execution_count": 21,
   "metadata": {},
   "outputs": [
    {
     "data": {
      "text/plain": [
       "count                         11456227\n",
       "mean     2014-04-06 03:08:54.517428992\n",
       "min                2014-03-01 00:01:00\n",
       "25%                2014-03-15 20:56:56\n",
       "50%                2014-04-06 11:43:03\n",
       "75%                2014-04-22 06:49:00\n",
       "max                2014-05-31 18:57:00\n",
       "Name: dropoff_datetime, dtype: object"
      ]
     },
     "execution_count": 21,
     "metadata": {},
     "output_type": "execute_result"
    }
   ],
   "source": [
    "df_trips['dropoff_datetime'].describe(datetime_is_numeric=True)"
   ]
  },
  {
   "cell_type": "markdown",
   "metadata": {},
   "source": [
    "📅 <i> Now we know we have data from March to May 2014.</i> 🧐"
   ]
  },
  {
   "cell_type": "markdown",
   "metadata": {},
   "source": [
    "## Tʀᴀɴsғᴏʀᴍᴀᴛɪᴏɴ  •  Feature engineering: datetime 📅"
   ]
  },
  {
   "cell_type": "markdown",
   "metadata": {},
   "source": [
    "<i> Knowing our date span, it is now possible to think of what transformations/binnings could render meaningful insights:\n",
    "    <ul>\n",
    "        <li> Date [without time, may be useful for some visualizations]: gives information on the trend within the period </li>\n",
    "        <li> Day of the week: to get information on the seasonality along the week  </li>\n",
    "        <li> Week: as the time span of data is short, weeks seem a useful aggregation </li>\n",
    "        <li> Working day / Weekend: to get information on these chunks for seasonality </li>\n",
    "        <li style=\"color:gray\"> Period of the day: it would be interesting to have information by period (like 'early morning', 'noon', etc.), but... as NY is always busy, rush/no rush may be more informative. Let's have also the time by just the hour. </li>\n",
    "        <li> Hour of the day </li>\n",
    "        <li> Rush / no rush: reported as morning: 7:00 a.m. to 10:00 a.m., afternoon: 3:00 p.m. to 8:00 p.m.  </li>\n",
    "        <li> Duration of the trip </li>"
   ]
  },
  {
   "cell_type": "markdown",
   "metadata": {},
   "source": [
    "### Orders"
   ]
  },
  {
   "cell_type": "code",
   "execution_count": 22,
   "metadata": {},
   "outputs": [
    {
     "data": {
      "text/plain": [
       "0   2014-04-11\n",
       "1   2014-04-12\n",
       "Name: pickup_date, dtype: datetime64[ns]"
      ]
     },
     "execution_count": 22,
     "metadata": {},
     "output_type": "execute_result"
    }
   ],
   "source": [
    "df_orders['pickup_date'] = pd.to_datetime(pd.DatetimeIndex(df_orders['pickup_datetime']).date)\n",
    "df_orders['pickup_date'].head(2)"
   ]
  },
  {
   "cell_type": "code",
   "execution_count": 23,
   "metadata": {},
   "outputs": [
    {
     "data": {
      "text/plain": [
       "{'0': 'Monday',\n",
       " '1': 'Tuesday',\n",
       " '2': 'Wednesday',\n",
       " '3': 'Thursday',\n",
       " '4': 'Friday',\n",
       " '5': 'Saturday',\n",
       " '6': 'Sunday'}"
      ]
     },
     "execution_count": 23,
     "metadata": {},
     "output_type": "execute_result"
    }
   ],
   "source": [
    "dayofweek_dict= {'0': 'Monday'}\n",
    "dayofweek_dict['1'] = 'Tuesday'\n",
    "dayofweek_dict['2'] = 'Wednesday'\n",
    "dayofweek_dict['3'] = 'Thursday'\n",
    "dayofweek_dict['4'] = 'Friday'\n",
    "dayofweek_dict['5'] = 'Saturday'\n",
    "dayofweek_dict['6'] = 'Sunday'\n",
    "dayofweek_dict"
   ]
  },
  {
   "cell_type": "code",
   "execution_count": 24,
   "metadata": {},
   "outputs": [
    {
     "data": {
      "text/plain": [
       "0      Friday\n",
       "1    Saturday\n",
       "Name: pickup_dayofweek, dtype: object"
      ]
     },
     "execution_count": 24,
     "metadata": {},
     "output_type": "execute_result"
    }
   ],
   "source": [
    "df_orders['pickup_dayofweek'] = pd.to_datetime(pd.DatetimeIndex(df_orders['pickup_datetime']).dayofweek).astype(str)\n",
    "df_orders['pickup_dayofweek'] = [x.strip()[-1] for x in df_orders['pickup_dayofweek']]\n",
    "df_orders['pickup_dayofweek'] = df_orders['pickup_dayofweek'].replace(dayofweek_dict)\n",
    "df_orders['pickup_dayofweek'].head(2)"
   ]
  },
  {
   "cell_type": "code",
   "execution_count": 25,
   "metadata": {},
   "outputs": [
    {
     "data": {
      "text/plain": [
       "0      Friday\n",
       "1    Saturday\n",
       "Name: pickup_dayofweek, dtype: object"
      ]
     },
     "execution_count": 25,
     "metadata": {},
     "output_type": "execute_result"
    }
   ],
   "source": [
    "df_orders['pickup_dayofweek'] = pd.to_datetime(pd.DatetimeIndex(df_orders['pickup_datetime']).dayofweek).astype(str)\n",
    "df_orders['pickup_dayofweek'] = df_orders['pickup_dayofweek'].str[-1:]\n",
    "df_orders['pickup_dayofweek'] = df_orders['pickup_dayofweek'].replace(dayofweek_dict)\n",
    "df_orders['pickup_dayofweek'].head(2)"
   ]
  },
  {
   "cell_type": "code",
   "execution_count": 26,
   "metadata": {},
   "outputs": [
    {
     "data": {
      "text/plain": [
       "Saturday     15.996093\n",
       "Wednesday    14.747733\n",
       "Tuesday      14.210333\n",
       "Friday       14.005933\n",
       "Sunday       13.931160\n",
       "Thursday     13.635200\n",
       "Monday       13.473547\n",
       "Name: pickup_dayofweek, dtype: float64"
      ]
     },
     "execution_count": 26,
     "metadata": {},
     "output_type": "execute_result"
    }
   ],
   "source": [
    "100 * df_orders['pickup_dayofweek'].value_counts() / len(df_orders)"
   ]
  },
  {
   "cell_type": "code",
   "execution_count": 27,
   "metadata": {
    "scrolled": false
   },
   "outputs": [
    {
     "data": {
      "text/plain": [
       "10    11.917600\n",
       "11    11.675867\n",
       "14    11.470160\n",
       "17    11.435653\n",
       "15    11.432467\n",
       "16    11.108400\n",
       "13     6.279707\n",
       "12     6.210000\n",
       "20     5.427427\n",
       "21     4.921507\n",
       "18     4.723733\n",
       "9      3.390320\n",
       "19     0.006707\n",
       "22     0.000453\n",
       "Name: pickup_week, dtype: float64"
      ]
     },
     "execution_count": 27,
     "metadata": {},
     "output_type": "execute_result"
    }
   ],
   "source": [
    "df_orders['pickup_week'] = df_orders['pickup_datetime'].dt.isocalendar().week\n",
    "100 * df_orders['pickup_week'].value_counts() / len(df_orders)"
   ]
  },
  {
   "cell_type": "code",
   "execution_count": 28,
   "metadata": {},
   "outputs": [
    {
     "data": {
      "text/plain": [
       "0    70.072747\n",
       "1    29.927253\n",
       "Name: pickup_isweekend, dtype: float64"
      ]
     },
     "execution_count": 28,
     "metadata": {},
     "output_type": "execute_result"
    }
   ],
   "source": [
    "df_orders['pickup_isweekend'] = df_orders['pickup_dayofweek'].apply(lambda x: 1 if (x == 'Saturday' or x == 'Sunday') else 0)\n",
    "100 * df_orders['pickup_isweekend'].value_counts() / len(df_orders)"
   ]
  },
  {
   "cell_type": "code",
   "execution_count": 29,
   "metadata": {},
   "outputs": [
    {
     "data": {
      "text/plain": [
       "19    6.290800\n",
       "20    6.049227\n",
       "18    6.030213\n",
       "21    5.883387\n",
       "22    5.673133\n",
       "14    4.970333\n",
       "23    4.934867\n",
       "17    4.913173\n",
       "12    4.877427\n",
       "13    4.817840\n",
       "15    4.728493\n",
       "11    4.706893\n",
       "9     4.702560\n",
       "10    4.552213\n",
       "8     4.549787\n",
       "16    3.970867\n",
       "0     3.901160\n",
       "7     3.724280\n",
       "1     2.819600\n",
       "6     2.166507\n",
       "2     2.029747\n",
       "3     1.540280\n",
       "4     1.152107\n",
       "5     1.015107\n",
       "Name: pickup_hour, dtype: float64"
      ]
     },
     "execution_count": 29,
     "metadata": {},
     "output_type": "execute_result"
    }
   ],
   "source": [
    "df_orders['pickup_hour'] = pd.DatetimeIndex(df_orders['pickup_datetime']).hour\n",
    "100 * df_orders['pickup_hour'].value_counts() / len(df_orders)"
   ]
  },
  {
   "cell_type": "code",
   "execution_count": 30,
   "metadata": {},
   "outputs": [
    {
     "data": {
      "text/plain": [
       "0    50.488387\n",
       "1    49.511613\n",
       "Name: pickup_isrush, dtype: float64"
      ]
     },
     "execution_count": 30,
     "metadata": {},
     "output_type": "execute_result"
    }
   ],
   "source": [
    "df_orders['pickup_isrush'] = df_orders['pickup_hour'].apply(lambda x: 1 if ((x >= 7 and x <= 10) or (x >= 15 and x <= 20)) else 0)\n",
    "100 * df_orders['pickup_isrush'].value_counts() / len(df_orders)"
   ]
  },
  {
   "cell_type": "markdown",
   "metadata": {},
   "source": [
    "### Trips"
   ]
  },
  {
   "cell_type": "code",
   "execution_count": 31,
   "metadata": {},
   "outputs": [
    {
     "data": {
      "text/plain": [
       "0   2014-05-24\n",
       "1   2014-04-10\n",
       "Name: pickup_date, dtype: datetime64[ns]"
      ]
     },
     "execution_count": 31,
     "metadata": {},
     "output_type": "execute_result"
    }
   ],
   "source": [
    "df_trips['pickup_date'] = pd.to_datetime(pd.DatetimeIndex(df_trips['pickup_datetime']).date)\n",
    "df_trips['pickup_date'].head(2)"
   ]
  },
  {
   "cell_type": "code",
   "execution_count": 32,
   "metadata": {},
   "outputs": [
    {
     "data": {
      "text/plain": [
       "0    Saturday\n",
       "1    Thursday\n",
       "Name: pickup_dayofweek, dtype: object"
      ]
     },
     "execution_count": 32,
     "metadata": {},
     "output_type": "execute_result"
    }
   ],
   "source": [
    "df_trips['pickup_dayofweek'] = pd.to_datetime(pd.DatetimeIndex(df_trips['pickup_datetime']).dayofweek).astype(str)\n",
    "df_trips['pickup_dayofweek'] = df_trips['pickup_dayofweek'].str[-1:]\n",
    "df_trips['pickup_dayofweek'] = df_trips['pickup_dayofweek'].replace(dayofweek_dict)\n",
    "df_trips['pickup_dayofweek'].head(2)"
   ]
  },
  {
   "cell_type": "code",
   "execution_count": 33,
   "metadata": {},
   "outputs": [
    {
     "data": {
      "text/plain": [
       "Saturday     16.004527\n",
       "Wednesday    14.739303\n",
       "Tuesday      14.208413\n",
       "Friday       14.006339\n",
       "Sunday       13.931716\n",
       "Thursday     13.633782\n",
       "Monday       13.475920\n",
       "Name: pickup_dayofweek, dtype: float64"
      ]
     },
     "execution_count": 33,
     "metadata": {},
     "output_type": "execute_result"
    }
   ],
   "source": [
    "100 * df_trips['pickup_dayofweek'].value_counts() / len(df_trips)"
   ]
  },
  {
   "cell_type": "code",
   "execution_count": 34,
   "metadata": {},
   "outputs": [
    {
     "data": {
      "text/plain": [
       "10    11.915241\n",
       "11    11.669942\n",
       "14    11.472878\n",
       "17    11.437413\n",
       "15    11.430657\n",
       "16    11.104363\n",
       "13     6.279781\n",
       "12     6.212386\n",
       "20     5.425573\n",
       "21     4.925758\n",
       "18     4.731069\n",
       "9      3.387695\n",
       "19     0.006809\n",
       "22     0.000436\n",
       "Name: pickup_week, dtype: float64"
      ]
     },
     "execution_count": 34,
     "metadata": {},
     "output_type": "execute_result"
    }
   ],
   "source": [
    "df_trips['pickup_week'] = df_trips['pickup_datetime'].dt.isocalendar().week\n",
    "100 * df_trips['pickup_week'].value_counts() / len(df_trips)"
   ]
  },
  {
   "cell_type": "code",
   "execution_count": 35,
   "metadata": {},
   "outputs": [
    {
     "data": {
      "text/plain": [
       "0    70.063757\n",
       "1    29.936243\n",
       "Name: pickup_isweekend, dtype: float64"
      ]
     },
     "execution_count": 35,
     "metadata": {},
     "output_type": "execute_result"
    }
   ],
   "source": [
    "df_trips['pickup_isweekend'] = df_trips['pickup_dayofweek'].apply(lambda x: 1 if (x == 'Saturday' or x == 'Sunday') else 0)\n",
    "100 * df_trips['pickup_isweekend'].value_counts() / len(df_trips)"
   ]
  },
  {
   "cell_type": "code",
   "execution_count": 36,
   "metadata": {},
   "outputs": [
    {
     "data": {
      "text/plain": [
       "19    6.290666\n",
       "20    6.044678\n",
       "18    6.037119\n",
       "21    5.882862\n",
       "22    5.669249\n",
       "14    4.971637\n",
       "23    4.935168\n",
       "17    4.914855\n",
       "12    4.875637\n",
       "13    4.817982\n",
       "15    4.732500\n",
       "11    4.703521\n",
       "9     4.699985\n",
       "8     4.553541\n",
       "10    4.550661\n",
       "16    3.969719\n",
       "0     3.903982\n",
       "7     3.723390\n",
       "1     2.819183\n",
       "6     2.167913\n",
       "2     2.026339\n",
       "3     1.540551\n",
       "4     1.153739\n",
       "5     1.015125\n",
       "Name: pickup_hour, dtype: float64"
      ]
     },
     "execution_count": 36,
     "metadata": {},
     "output_type": "execute_result"
    }
   ],
   "source": [
    "df_trips['pickup_hour'] = pd.DatetimeIndex(df_trips['pickup_datetime']).hour\n",
    "100 * df_trips['pickup_hour'].value_counts() / len(df_trips)"
   ]
  },
  {
   "cell_type": "code",
   "execution_count": 37,
   "metadata": {},
   "outputs": [
    {
     "data": {
      "text/plain": [
       "0    50.482886\n",
       "1    49.517114\n",
       "Name: pickup_isrush, dtype: float64"
      ]
     },
     "execution_count": 37,
     "metadata": {},
     "output_type": "execute_result"
    }
   ],
   "source": [
    "df_trips['pickup_isrush'] = df_trips['pickup_hour'].apply(lambda x: 1 if ((x >= 7 and x <= 10) or (x >= 15 and x <= 20)) else 0)\n",
    "100 * df_trips['pickup_isrush'].value_counts() / len(df_trips)"
   ]
  },
  {
   "cell_type": "code",
   "execution_count": 38,
   "metadata": {},
   "outputs": [
    {
     "data": {
      "text/plain": [
       "0   0 days 00:10:23\n",
       "1   0 days 00:34:53\n",
       "Name: duration, dtype: timedelta64[ns]"
      ]
     },
     "execution_count": 38,
     "metadata": {},
     "output_type": "execute_result"
    }
   ],
   "source": [
    "df_trips['duration'] = df_trips['dropoff_datetime'] - df_trips['pickup_datetime']\n",
    "df_trips['duration'].head(2)"
   ]
  },
  {
   "cell_type": "code",
   "execution_count": 39,
   "metadata": {},
   "outputs": [
    {
     "data": {
      "text/plain": [
       "count                     11456227\n",
       "mean     0 days 00:12:52.617283159\n",
       "std      0 days 00:23:29.733588487\n",
       "min             -25 days +23:53:21\n",
       "25%                0 days 00:06:10\n",
       "50%                0 days 00:10:22\n",
       "75%                0 days 00:16:46\n",
       "max                3 days 23:57:04\n",
       "Name: duration, dtype: object"
      ]
     },
     "execution_count": 39,
     "metadata": {},
     "output_type": "execute_result"
    }
   ],
   "source": [
    "df_trips['duration'].describe()"
   ]
  },
  {
   "cell_type": "code",
   "execution_count": 40,
   "metadata": {},
   "outputs": [
    {
     "data": {
      "text/plain": [
       "0    10.383333\n",
       "1    34.883333\n",
       "Name: duration_minutes, dtype: float64"
      ]
     },
     "execution_count": 40,
     "metadata": {},
     "output_type": "execute_result"
    }
   ],
   "source": [
    "df_trips['duration_minutes'] = df_trips['duration'].dt.seconds / 60\n",
    "df_trips['duration_minutes'].head(2)"
   ]
  },
  {
   "cell_type": "code",
   "execution_count": 41,
   "metadata": {},
   "outputs": [
    {
     "data": {
      "text/plain": [
       "count    1.145623e+07\n",
       "mean     1.295463e+01\n",
       "std      1.339357e+01\n",
       "min      0.000000e+00\n",
       "25%      6.166667e+00\n",
       "50%      1.036667e+01\n",
       "75%      1.678333e+01\n",
       "max      1.439833e+03\n",
       "Name: duration_minutes, dtype: float64"
      ]
     },
     "execution_count": 41,
     "metadata": {},
     "output_type": "execute_result"
    }
   ],
   "source": [
    "df_trips['duration_minutes'].describe()"
   ]
  },
  {
   "cell_type": "code",
   "execution_count": 42,
   "metadata": {},
   "outputs": [
    {
     "data": {
      "text/plain": [
       "{1439.8333333333333: '>60min',\n",
       " 60: '40-60min',\n",
       " 40: '30-40min',\n",
       " 30: '20-30min',\n",
       " 20: '10-20min',\n",
       " 10: '5-10min',\n",
       " 5: '<=5min'}"
      ]
     },
     "execution_count": 42,
     "metadata": {},
     "output_type": "execute_result"
    }
   ],
   "source": [
    "durationtype_dict= {max(df_trips['duration_minutes']): '>60min'}\n",
    "durationtype_dict[60] = '40-60min'\n",
    "durationtype_dict[40] = '30-40min'\n",
    "durationtype_dict[30] = '20-30min'\n",
    "durationtype_dict[20] = '10-20min'\n",
    "durationtype_dict[10] = '5-10min'\n",
    "durationtype_dict[ 5] = '<=5min'\n",
    "durationtype_dict"
   ]
  },
  {
   "cell_type": "code",
   "execution_count": 43,
   "metadata": {},
   "outputs": [
    {
     "data": {
      "text/html": [
       "<div>\n",
       "<style scoped>\n",
       "    .dataframe tbody tr th:only-of-type {\n",
       "        vertical-align: middle;\n",
       "    }\n",
       "\n",
       "    .dataframe tbody tr th {\n",
       "        vertical-align: top;\n",
       "    }\n",
       "\n",
       "    .dataframe thead th {\n",
       "        text-align: right;\n",
       "    }\n",
       "</style>\n",
       "<table border=\"1\" class=\"dataframe\">\n",
       "  <thead>\n",
       "    <tr style=\"text-align: right;\">\n",
       "      <th></th>\n",
       "      <th>0</th>\n",
       "    </tr>\n",
       "  </thead>\n",
       "  <tbody>\n",
       "    <tr>\n",
       "      <th>1439.833333</th>\n",
       "      <td>&gt;60min</td>\n",
       "    </tr>\n",
       "    <tr>\n",
       "      <th>60.000000</th>\n",
       "      <td>40-60min</td>\n",
       "    </tr>\n",
       "    <tr>\n",
       "      <th>40.000000</th>\n",
       "      <td>30-40min</td>\n",
       "    </tr>\n",
       "    <tr>\n",
       "      <th>30.000000</th>\n",
       "      <td>20-30min</td>\n",
       "    </tr>\n",
       "    <tr>\n",
       "      <th>20.000000</th>\n",
       "      <td>10-20min</td>\n",
       "    </tr>\n",
       "    <tr>\n",
       "      <th>10.000000</th>\n",
       "      <td>5-10min</td>\n",
       "    </tr>\n",
       "    <tr>\n",
       "      <th>5.000000</th>\n",
       "      <td>&lt;=5min</td>\n",
       "    </tr>\n",
       "  </tbody>\n",
       "</table>\n",
       "</div>"
      ],
      "text/plain": [
       "                    0\n",
       "1439.833333    >60min\n",
       "60.000000    40-60min\n",
       "40.000000    30-40min\n",
       "30.000000    20-30min\n",
       "20.000000    10-20min\n",
       "10.000000     5-10min\n",
       "5.000000       <=5min"
      ]
     },
     "execution_count": 43,
     "metadata": {},
     "output_type": "execute_result"
    }
   ],
   "source": [
    "df_durationtype = pd.DataFrame.from_dict(durationtype_dict, orient='index')\n",
    "df_durationtype"
   ]
  },
  {
   "cell_type": "code",
   "execution_count": 44,
   "metadata": {},
   "outputs": [
    {
     "data": {
      "text/html": [
       "<div>\n",
       "<style scoped>\n",
       "    .dataframe tbody tr th:only-of-type {\n",
       "        vertical-align: middle;\n",
       "    }\n",
       "\n",
       "    .dataframe tbody tr th {\n",
       "        vertical-align: top;\n",
       "    }\n",
       "\n",
       "    .dataframe thead th {\n",
       "        text-align: right;\n",
       "    }\n",
       "</style>\n",
       "<table border=\"1\" class=\"dataframe\">\n",
       "  <thead>\n",
       "    <tr style=\"text-align: right;\">\n",
       "      <th></th>\n",
       "      <th>0</th>\n",
       "    </tr>\n",
       "  </thead>\n",
       "  <tbody>\n",
       "    <tr>\n",
       "      <th>1439.833333</th>\n",
       "      <td>&gt;60min</td>\n",
       "    </tr>\n",
       "    <tr>\n",
       "      <th>60.000000</th>\n",
       "      <td>40-60min</td>\n",
       "    </tr>\n",
       "    <tr>\n",
       "      <th>40.000000</th>\n",
       "      <td>30-40min</td>\n",
       "    </tr>\n",
       "    <tr>\n",
       "      <th>30.000000</th>\n",
       "      <td>20-30min</td>\n",
       "    </tr>\n",
       "    <tr>\n",
       "      <th>20.000000</th>\n",
       "      <td>10-20min</td>\n",
       "    </tr>\n",
       "    <tr>\n",
       "      <th>10.000000</th>\n",
       "      <td>5-10min</td>\n",
       "    </tr>\n",
       "    <tr>\n",
       "      <th>5.000000</th>\n",
       "      <td>&lt;=5min</td>\n",
       "    </tr>\n",
       "  </tbody>\n",
       "</table>\n",
       "</div>"
      ],
      "text/plain": [
       "                    0\n",
       "1439.833333    >60min\n",
       "60.000000    40-60min\n",
       "40.000000    30-40min\n",
       "30.000000    20-30min\n",
       "20.000000    10-20min\n",
       "10.000000     5-10min\n",
       "5.000000       <=5min"
      ]
     },
     "execution_count": 44,
     "metadata": {},
     "output_type": "execute_result"
    }
   ],
   "source": [
    "# df_durationtype.reset_index(inplace = True)\n",
    "df_durationtype"
   ]
  },
  {
   "cell_type": "code",
   "execution_count": 57,
   "metadata": {},
   "outputs": [
    {
     "data": {
      "text/html": [
       "<div>\n",
       "<style scoped>\n",
       "    .dataframe tbody tr th:only-of-type {\n",
       "        vertical-align: middle;\n",
       "    }\n",
       "\n",
       "    .dataframe tbody tr th {\n",
       "        vertical-align: top;\n",
       "    }\n",
       "\n",
       "    .dataframe thead th {\n",
       "        text-align: right;\n",
       "    }\n",
       "</style>\n",
       "<table border=\"1\" class=\"dataframe\">\n",
       "  <thead>\n",
       "    <tr style=\"text-align: right;\">\n",
       "      <th></th>\n",
       "      <th>duration_minutes</th>\n",
       "      <th>duration_type</th>\n",
       "    </tr>\n",
       "  </thead>\n",
       "  <tbody>\n",
       "    <tr>\n",
       "      <th>0</th>\n",
       "      <td>1439.833333</td>\n",
       "      <td>&gt;60min</td>\n",
       "    </tr>\n",
       "    <tr>\n",
       "      <th>1</th>\n",
       "      <td>60.000000</td>\n",
       "      <td>40-60min</td>\n",
       "    </tr>\n",
       "    <tr>\n",
       "      <th>2</th>\n",
       "      <td>40.000000</td>\n",
       "      <td>30-40min</td>\n",
       "    </tr>\n",
       "    <tr>\n",
       "      <th>3</th>\n",
       "      <td>30.000000</td>\n",
       "      <td>20-30min</td>\n",
       "    </tr>\n",
       "    <tr>\n",
       "      <th>4</th>\n",
       "      <td>20.000000</td>\n",
       "      <td>10-20min</td>\n",
       "    </tr>\n",
       "    <tr>\n",
       "      <th>5</th>\n",
       "      <td>10.000000</td>\n",
       "      <td>5-10min</td>\n",
       "    </tr>\n",
       "    <tr>\n",
       "      <th>6</th>\n",
       "      <td>5.000000</td>\n",
       "      <td>&lt;=5min</td>\n",
       "    </tr>\n",
       "  </tbody>\n",
       "</table>\n",
       "</div>"
      ],
      "text/plain": [
       "   duration_minutes duration_type\n",
       "0       1439.833333        >60min\n",
       "1         60.000000      40-60min\n",
       "2         40.000000      30-40min\n",
       "3         30.000000      20-30min\n",
       "4         20.000000      10-20min\n",
       "5         10.000000       5-10min\n",
       "6          5.000000        <=5min"
      ]
     },
     "execution_count": 57,
     "metadata": {},
     "output_type": "execute_result"
    }
   ],
   "source": [
    "df_durationtype.reset_index(inplace = True)\n",
    "df_durationtype.rename(columns = {'index': 'duration_minutes', 0: 'duration_type'}, inplace = True)\n",
    "df_durationtype"
   ]
  },
  {
   "cell_type": "code",
   "execution_count": 69,
   "metadata": {},
   "outputs": [
    {
     "data": {
      "text/plain": [
       "0    1439.833333\n",
       "1      60.000000\n",
       "2      40.000000\n",
       "3      30.000000\n",
       "4      20.000000\n",
       "5      10.000000\n",
       "6       5.000000\n",
       "Name: duration_minutes, dtype: float64"
      ]
     },
     "execution_count": 69,
     "metadata": {},
     "output_type": "execute_result"
    }
   ],
   "source": [
    "duration_minutes = df_durationtype['duration_minutes']\n",
    "duration_minutes"
   ]
  },
  {
   "cell_type": "code",
   "execution_count": 70,
   "metadata": {},
   "outputs": [
    {
     "data": {
      "text/plain": [
       "0      >60min\n",
       "1    40-60min\n",
       "2    30-40min\n",
       "3    20-30min\n",
       "4    10-20min\n",
       "5     5-10min\n",
       "6      <=5min\n",
       "Name: duration_type, dtype: object"
      ]
     },
     "execution_count": 70,
     "metadata": {},
     "output_type": "execute_result"
    }
   ],
   "source": [
    "duration_type = df_durationtype['duration_type']\n",
    "duration_type"
   ]
  },
  {
   "cell_type": "code",
   "execution_count": 96,
   "metadata": {},
   "outputs": [],
   "source": [
    "df_trips['duration_type'] = df_trips['duration_minutes']\n",
    "\n",
    "for i in range(len(duration_type)):\n",
    "    df_trips.loc[df_trips['duration_minutes'] <= duration_minutes[i], 'duration_type'] = duration_type[i]"
   ]
  },
  {
   "cell_type": "code",
   "execution_count": 97,
   "metadata": {},
   "outputs": [
    {
     "data": {
      "text/plain": [
       "0    10-20min\n",
       "1    30-40min\n",
       "2    20-30min\n",
       "3     5-10min\n",
       "4      <=5min\n",
       "Name: duration_type, dtype: object"
      ]
     },
     "execution_count": 97,
     "metadata": {},
     "output_type": "execute_result"
    }
   ],
   "source": [
    "df_trips['duration_type'].head()"
   ]
  },
  {
   "cell_type": "code",
   "execution_count": 100,
   "metadata": {},
   "outputs": [
    {
     "data": {
      "text/plain": [
       "10-20min    34.494428\n",
       "5-10min     30.983159\n",
       "<=5min      18.059445\n",
       "20-30min    11.040712\n",
       "30-40min     3.369382\n",
       "40-60min     1.675569\n",
       ">60min       0.377306\n",
       "Name: duration_type, dtype: float64"
      ]
     },
     "execution_count": 100,
     "metadata": {},
     "output_type": "execute_result"
    }
   ],
   "source": [
    "100 * df_trips['duration_type'].value_counts() / len(df_trips)"
   ]
  },
  {
   "cell_type": "code",
   "execution_count": 101,
   "metadata": {},
   "outputs": [
    {
     "data": {
      "text/plain": [
       "10-20min    34.494428\n",
       "5-10min     30.983159\n",
       "<=5min      18.059445\n",
       "20-30min    11.040712\n",
       "30-40min     3.369382\n",
       "40-60min     1.675569\n",
       ">60min       0.377306\n",
       "Name: duration_type, dtype: float64"
      ]
     },
     "execution_count": 101,
     "metadata": {},
     "output_type": "execute_result"
    }
   ],
   "source": [
    "df_trips_duration = 100 * df_trips['duration_type'].value_counts() / len(df_trips)\n",
    "df_trips_duration"
   ]
  },
  {
   "cell_type": "code",
   "execution_count": 104,
   "metadata": {},
   "outputs": [],
   "source": [
    "%matplotlib inline \n",
    "\n",
    "import matplotlib as mpl\n",
    "import matplotlib.pyplot as plt\n",
    "\n",
    "mpl.style.use('ggplot')"
   ]
  },
  {
   "cell_type": "code",
   "execution_count": 105,
   "metadata": {},
   "outputs": [
    {
     "data": {
      "image/png": "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\n",
      "text/plain": [
       "<Figure size 864x576 with 1 Axes>"
      ]
     },
     "metadata": {},
     "output_type": "display_data"
    }
   ],
   "source": [
    "## Distribution %\n",
    "\n",
    "df_trips_duration.sort_values(ascending=True, inplace=True)\n",
    "df_trips_duration.plot(kind='barh', figsize=(12, 8), color='steelblue')\n",
    "plt.xlabel('% Trips')\n",
    "plt.ylabel('Duration of the trip')\n",
    "plt.title('Distribution frequency by duration of the trip (%)')\n",
    "\n",
    "for i, value in enumerate(df_trips_duration): \n",
    "    label = format(int(value), ',') # format int with commas\n",
    "    \n",
    "    # place text at the end of bar (subtracting 47000 from x, and 0.1 from y to make it fit within the bar)\n",
    "    plt.annotate(label, xy=(value - 0.8, i - 0), color='white')\n",
    "    \n",
    "plt.show()"
   ]
  },
  {
   "cell_type": "markdown",
   "metadata": {},
   "source": [
    "💡 <b><i> 82% of trips take 20 min or less</i></b>"
   ]
  },
  {
   "cell_type": "markdown",
   "metadata": {},
   "source": [
    "## Tʀᴀɴsғᴏʀᴍᴀᴛɪᴏɴ  •  Treating missing data"
   ]
  },
  {
   "cell_type": "code",
   "execution_count": 106,
   "metadata": {},
   "outputs": [
    {
     "data": {
      "text/plain": [
       "order_id            0\n",
       "passenger_id        0\n",
       "pickup_datetime     0\n",
       "pickup_longitude    0\n",
       "pickup_latitude     0\n",
       "payment_type        0\n",
       "pickup_date         0\n",
       "pickup_dayofweek    0\n",
       "pickup_week         0\n",
       "pickup_isweekend    0\n",
       "pickup_hour         0\n",
       "pickup_isrush       0\n",
       "dtype: int64"
      ]
     },
     "execution_count": 106,
     "metadata": {},
     "output_type": "execute_result"
    }
   ],
   "source": [
    "df_orders.isnull().sum()"
   ]
  },
  {
   "cell_type": "code",
   "execution_count": 107,
   "metadata": {
    "scrolled": true
   },
   "outputs": [
    {
     "data": {
      "text/plain": [
       "order_id             0\n",
       "pickup_datetime      0\n",
       "dropoff_datetime     0\n",
       "trip_distance        0\n",
       "pickup_longitude     0\n",
       "pickup_latitude      0\n",
       "rate_type            0\n",
       "dropoff_longitude    0\n",
       "dropoff_latitude     0\n",
       "payment_type         0\n",
       "fare_amount          0\n",
       "tip_amount           0\n",
       "total_amount         0\n",
       "passenger_id         0\n",
       "pickup_date          0\n",
       "pickup_dayofweek     0\n",
       "pickup_week          0\n",
       "pickup_isweekend     0\n",
       "pickup_hour          0\n",
       "pickup_isrush        0\n",
       "duration             0\n",
       "duration_minutes     0\n",
       "duration_type        0\n",
       "dtype: int64"
      ]
     },
     "execution_count": 107,
     "metadata": {},
     "output_type": "execute_result"
    }
   ],
   "source": [
    "df_trips.isnull().sum()"
   ]
  },
  {
   "cell_type": "markdown",
   "metadata": {},
   "source": [
    "🥳 <i> No missing data, yay!!! </i> 🎉"
   ]
  },
  {
   "cell_type": "markdown",
   "metadata": {},
   "source": [
    "## Exporting results for retrieval"
   ]
  },
  {
   "cell_type": "code",
   "execution_count": 108,
   "metadata": {},
   "outputs": [],
   "source": [
    "df_orders.to_csv('df_orders_t2.csv')"
   ]
  },
  {
   "cell_type": "code",
   "execution_count": 109,
   "metadata": {},
   "outputs": [],
   "source": [
    "df_trips.to_csv('df_trips_t2.csv')"
   ]
  },
  {
   "cell_type": "markdown",
   "metadata": {},
   "source": [
    "<i>Note: This Notebook would entail the whole transforming process, but as some instabilities may interrupt the Kernel requiring a restart from zero, it has been split for a smoothier process.</i>"
   ]
  },
  {
   "cell_type": "markdown",
   "metadata": {},
   "source": [
    "# Continues as: [DATA TRANSFORMATION, part 2 (addendum)](99__DataTransformation3.ipynb)
   ]
  }
 ],
 "metadata": {
  "kernelspec": {
   "display_name": "Python 3",
   "language": "python",
   "name": "python3"
  },
  "language_info": {
   "codemirror_mode": {
    "name": "ipython",
    "version": 3
   },
   "file_extension": ".py",
   "mimetype": "text/x-python",
   "name": "python",
   "nbconvert_exporter": "python",
   "pygments_lexer": "ipython3",
   "version": "3.8.5"
  }
 },
 "nbformat": 4,
 "nbformat_minor": 4
}
