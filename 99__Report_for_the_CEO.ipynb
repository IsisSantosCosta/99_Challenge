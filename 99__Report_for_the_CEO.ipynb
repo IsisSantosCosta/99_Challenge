{
 "cells": [
  {
   "cell_type": "markdown",
   "metadata": {},
   "source": [
    "<table style=\"width:100%\">\n",
    "  <tr style=\"background-color:#FFFFFF\">\n",
    "    <td style=\"width:10%\">\n",
    "        <img src=\"https://play-lh.googleusercontent.com/K9FC23HoIYy_idt3LL26zrzMchOGORVzLNmi3L5u-MaghdjpdgHAWv7wQlscNmo9wYjC=s180-rw\" alt=\"DiDi\" width=120></td>\n",
    "    <td style=\"width:10%\">\n",
    "        <img src=\"https://logodownload.org/wp-content/uploads/2019/05/99-app-logo.png\" alt=\"99\" width=120></td>\n",
    "      <td>\n",
    "          <h1 style=\"text-align:left; text-indent :2em\">Rᴇᴘᴏʀᴛ ғᴏʀ ᴛʜᴇ CEO</h1>\n",
    "          <h2 style=\"text-align:left; text-indent :2.4em;\">ISIS SANTOS COSTA • 2021</h2>\n",
    "      </td>\n",
    "  </tr>\n",
    "</table>"
   ]
  },
  {
   "cell_type": "markdown",
   "metadata": {},
   "source": [
    "## (soon!)"
   ]
  },
  {
   "cell_type": "code",
   "execution_count": 1,
   "metadata": {},
   "outputs": [],
   "source": [
    "import pandas as pd"
   ]
  },
  {
   "cell_type": "code",
   "execution_count": 2,
   "metadata": {},
   "outputs": [],
   "source": [
    "import warnings\n",
    "warnings.filterwarnings('ignore')"
   ]
  },
  {
   "cell_type": "code",
   "execution_count": 3,
   "metadata": {},
   "outputs": [
    {
     "name": "stdout",
     "output_type": "stream",
     "text": [
      "time: 0 ns\n"
     ]
    }
   ],
   "source": [
    "#!pip install ipython-autotime\n",
    "%load_ext autotime"
   ]
  },
  {
   "cell_type": "code",
   "execution_count": 4,
   "metadata": {},
   "outputs": [
    {
     "name": "stdout",
     "output_type": "stream",
     "text": [
      "time: 32 ms\n"
     ]
    }
   ],
   "source": [
    "pd.set_option('display.max_columns', None)"
   ]
  },
  {
   "cell_type": "code",
   "execution_count": 6,
   "metadata": {},
   "outputs": [
    {
     "data": {
      "text/html": [
       "<div>\n",
       "<style scoped>\n",
       "    .dataframe tbody tr th:only-of-type {\n",
       "        vertical-align: middle;\n",
       "    }\n",
       "\n",
       "    .dataframe tbody tr th {\n",
       "        vertical-align: top;\n",
       "    }\n",
       "\n",
       "    .dataframe thead th {\n",
       "        text-align: right;\n",
       "    }\n",
       "</style>\n",
       "<table border=\"1\" class=\"dataframe\">\n",
       "  <thead>\n",
       "    <tr style=\"text-align: right;\">\n",
       "      <th></th>\n",
       "      <th>order_id</th>\n",
       "      <th>passenger_id</th>\n",
       "      <th>pickup_datetime</th>\n",
       "      <th>pickup_month</th>\n",
       "      <th>pickup_week</th>\n",
       "      <th>pickup_weekinmonth</th>\n",
       "      <th>pickup_date</th>\n",
       "      <th>pickup_dayofweek</th>\n",
       "      <th>pickup_isweekend</th>\n",
       "      <th>pickup_hour</th>\n",
       "      <th>pickup_isrush</th>\n",
       "      <th>pickup_latitude</th>\n",
       "      <th>pickup_longitude</th>\n",
       "      <th>dropoff_latitude</th>\n",
       "      <th>dropoff_longitude</th>\n",
       "      <th>dropoff_datetime</th>\n",
       "      <th>duration</th>\n",
       "      <th>duration_minutes</th>\n",
       "      <th>duration_type</th>\n",
       "      <th>trip_distance</th>\n",
       "      <th>total_amount</th>\n",
       "      <th>fare_amount</th>\n",
       "      <th>tip_amount</th>\n",
       "      <th>rate_type</th>\n",
       "      <th>payment_type</th>\n",
       "      <th>pickup_borough</th>\n",
       "      <th>dropoff_borough</th>\n",
       "    </tr>\n",
       "  </thead>\n",
       "  <tbody>\n",
       "    <tr>\n",
       "      <th>0</th>\n",
       "      <td>6433697</td>\n",
       "      <td>5234567816269547</td>\n",
       "      <td>2014-04-11 18:06:45</td>\n",
       "      <td>4</td>\n",
       "      <td>15</td>\n",
       "      <td>2</td>\n",
       "      <td>2014-04-11</td>\n",
       "      <td>Friday</td>\n",
       "      <td>0</td>\n",
       "      <td>18</td>\n",
       "      <td>1</td>\n",
       "      <td>40.714476</td>\n",
       "      <td>-74.015684</td>\n",
       "      <td>40.718173</td>\n",
       "      <td>-74.000814</td>\n",
       "      <td>2014-04-11 18:18:19</td>\n",
       "      <td>0 days 00:11:34</td>\n",
       "      <td>11.566667</td>\n",
       "      <td>10-20min</td>\n",
       "      <td>1.6</td>\n",
       "      <td>13.2</td>\n",
       "      <td>9.5</td>\n",
       "      <td>2.2</td>\n",
       "      <td>Standard</td>\n",
       "      <td>CRD</td>\n",
       "      <td>Manhattan • Lower Manhattan</td>\n",
       "      <td>Manhattan • Lower Manhattan</td>\n",
       "    </tr>\n",
       "    <tr>\n",
       "      <th>1</th>\n",
       "      <td>6433698</td>\n",
       "      <td>5234567812367422</td>\n",
       "      <td>2014-04-12 00:20:28</td>\n",
       "      <td>4</td>\n",
       "      <td>15</td>\n",
       "      <td>2</td>\n",
       "      <td>2014-04-12</td>\n",
       "      <td>Saturday</td>\n",
       "      <td>1</td>\n",
       "      <td>0</td>\n",
       "      <td>0</td>\n",
       "      <td>40.713247</td>\n",
       "      <td>-73.958403</td>\n",
       "      <td>40.758526</td>\n",
       "      <td>-73.991395</td>\n",
       "      <td>2014-04-12 00:47:19</td>\n",
       "      <td>0 days 00:26:51</td>\n",
       "      <td>26.850000</td>\n",
       "      <td>20-30min</td>\n",
       "      <td>5.5</td>\n",
       "      <td>27.0</td>\n",
       "      <td>22.0</td>\n",
       "      <td>4.0</td>\n",
       "      <td>Standard</td>\n",
       "      <td>CRD</td>\n",
       "      <td>Brooklyn</td>\n",
       "      <td>Manhattan • Midtown Manhattan</td>\n",
       "    </tr>\n",
       "  </tbody>\n",
       "</table>\n",
       "</div>"
      ],
      "text/plain": [
       "   order_id      passenger_id      pickup_datetime  pickup_month  pickup_week  \\\n",
       "0   6433697  5234567816269547  2014-04-11 18:06:45             4           15   \n",
       "1   6433698  5234567812367422  2014-04-12 00:20:28             4           15   \n",
       "\n",
       "   pickup_weekinmonth pickup_date pickup_dayofweek  pickup_isweekend  \\\n",
       "0                   2  2014-04-11           Friday                 0   \n",
       "1                   2  2014-04-12         Saturday                 1   \n",
       "\n",
       "   pickup_hour  pickup_isrush  pickup_latitude  pickup_longitude  \\\n",
       "0           18              1        40.714476        -74.015684   \n",
       "1            0              0        40.713247        -73.958403   \n",
       "\n",
       "   dropoff_latitude  dropoff_longitude     dropoff_datetime         duration  \\\n",
       "0         40.718173         -74.000814  2014-04-11 18:18:19  0 days 00:11:34   \n",
       "1         40.758526         -73.991395  2014-04-12 00:47:19  0 days 00:26:51   \n",
       "\n",
       "   duration_minutes duration_type  trip_distance  total_amount  fare_amount  \\\n",
       "0         11.566667      10-20min            1.6          13.2          9.5   \n",
       "1         26.850000      20-30min            5.5          27.0         22.0   \n",
       "\n",
       "   tip_amount rate_type payment_type               pickup_borough  \\\n",
       "0         2.2  Standard          CRD  Manhattan • Lower Manhattan   \n",
       "1         4.0  Standard          CRD                     Brooklyn   \n",
       "\n",
       "                 dropoff_borough  \n",
       "0    Manhattan • Lower Manhattan  \n",
       "1  Manhattan • Midtown Manhattan  "
      ]
     },
     "execution_count": 6,
     "metadata": {},
     "output_type": "execute_result"
    },
    {
     "name": "stdout",
     "output_type": "stream",
     "text": [
      "time: 3min 6s\n"
     ]
    }
   ],
   "source": [
    "with open('df_EDA.csv') as f: cols = f.readline().split(',')\n",
    "del cols[0]\n",
    "cols[-1] = cols[-1].replace('\\n','')\n",
    "df = pd.read_csv('df_EDA.csv', usecols=cols) # reading previously transformed data\n",
    "# df.head(2)"
   ]
  }
 ],
 "metadata": {
  "kernelspec": {
   "display_name": "Python 3",
   "language": "python",
   "name": "python3"
  },
  "language_info": {
   "codemirror_mode": {
    "name": "ipython",
    "version": 3
   },
   "file_extension": ".py",
   "mimetype": "text/x-python",
   "name": "python",
   "nbconvert_exporter": "python",
   "pygments_lexer": "ipython3",
   "version": "3.8.5"
  }
 },
 "nbformat": 4,
 "nbformat_minor": 4
}
