{
 "cells": [
  {
   "cell_type": "markdown",
   "metadata": {},
   "source": [
    "<table style=\"width:100%\">\n",
    "  <tr style=\"background-color:#FFFFFF\">\n",
    "    <td style=\"width:10%\">\n",
    "        <img src=\"https://play-lh.googleusercontent.com/K9FC23HoIYy_idt3LL26zrzMchOGORVzLNmi3L5u-MaghdjpdgHAWv7wQlscNmo9wYjC=s180-rw\" alt=\"DiDi\" width=120></td>\n",
    "    <td style=\"width:10%\">\n",
    "        <img src=\"https://logodownload.org/wp-content/uploads/2019/05/99-app-logo.png\" alt=\"99\" width=120></td>\n",
    "      <td>\n",
    "          <h1 style=\"text-align:left; text-indent :2em\"> Rᴇᴘᴏʀᴛ ғᴏʀ ᴛʜᴇ CEO &nbsp;‖&nbsp; Mar-May 2014 Operations (WIP)</h1> \n",
    "          <h2 style=\"text-align:left; text-indent :2.4em;\">ISIS SANTOS COSTA • 2021</h2>\n",
    "      </td>\n",
    "  </tr>\n",
    "</table>"
   ]
  },
  {
   "cell_type": "markdown",
   "metadata": {},
   "source": [
    "## Cᴏɴᴄᴇᴘᴛᴜᴀʟ Fʀᴀᴍᴇᴡᴏʀᴋ • Vɪsɪᴏɴᴀʀʏ"
   ]
  },
  {
   "cell_type": "markdown",
   "metadata": {},
   "source": [
    "<ul>\n",
    "    <li>What is our <b>impact</b>? How is the world different because of our existence?</b></li>\n",
    "    <li>What <b>value</b> are we able to create <b>now</b>? What would we like it to be in the <b>future</b>?</b></li>\n",
    "    <li>Unrestrained of resources, what would be our <b>dream delivery</b>?</b></li>\n",
    "</ul><br>"
   ]
  },
  {
   "cell_type": "markdown",
   "metadata": {},
   "source": [
    "## Dʀɪᴠɪɴɢ Qᴜᴇsᴛɪᴏɴs"
   ]
  },
  {
   "cell_type": "markdown",
   "metadata": {},
   "source": [
    "<b> BUSINESS SUSTAINABILITY • PROFIT 📈 </b>\n",
    "<ul>\n",
    "    <li>How to <b>attract, keep & grow</b> our base of <b>passengers</b>?</li>\n",
    "    <li>What does the passenger <b>value</b> in their transportation experience?</li>\n",
    "    <li>In which areas are our <b>biggest gains</b> for an <b>increase in efficiency</b>?</li>\n",
    "</ul><br>\n",
    "<b> BUSINESS SUSTAINABILITY • PEOPLE 👥 </b>\n",
    "<ul>\n",
    "    <li>Which are the <b>company's, passengers' and drivers' values</b>, and how do they <b>converge</b>?</li>\n",
    "    <li>What does the <b>passenger value</b> in their transportation experience?</li>\n",
    "    <li>What makes the <b>drives' life</b> happier and easier?</li>\n",
    "</ul><br>\n",
    "<b> BUSINESS SUSTAINABILITY • PLANET 🌎 </b>\n",
    "<ul>\n",
    "    <li>How do our operations <b>impact the planet</b>?</li>\n",
    "    <li>How can we consume <b>less resources</b>?</li>\n",
    "    <li>Which are the other ways we can reduce our emissions?</li>\n",
    "</ul><br>"
   ]
  },
  {
   "cell_type": "markdown",
   "metadata": {},
   "source": [
    "## EDA"
   ]
  },
  {
   "cell_type": "markdown",
   "metadata": {},
   "source": [
    "<img src='./img/COO__Freq_by_trip_duration.png'>\n",
    "<img src='./img/COO__Freq_by_trip_distance.png'>\n",
    "\n",
    "\n",
    "<img src='./img/CEO__revenue__Freq_by_total_amount.png'>\n",
    "<img src='./img/CEO__happiness__Freq_by_tip_amount.png'>\n",
    "\n",
    "\n",
    "<img src='./img/CEO__Freq_by_payment_type.png'>\n",
    "<img src='./img/CEO__Freq_by_rate_type.png'>\n",
    "\n",
    "\n",
    "<img src='./img/CEO__happiness__tip_amount_x_pickup_datetime.png'>\n",
    "<img src='./img/CEO__happiness__tip_amount_x_trip_distance.png'>\n",
    "\n",
    "\n",
    "<img src='./img/CEO__happiness__tip_amount_x_trip_duration.png'>\n",
    "<img src='./img/CEO__revenue__total_amount_x_pickup_datetime.png'>\n",
    "\n",
    "\n",
    "<img src='./img/CEO__revenue__total_amount_x_trip_distance.png'>\n",
    "<img src='./img/CEO__revenue__total_amount_x_trip_duration.png'>"
   ]
  },
  {
   "cell_type": "markdown",
   "metadata": {},
   "source": [
    "<center><h1>End of Report</h1</center>"
   ]
  },
  {
   "cell_type": "markdown",
   "metadata": {},
   "source": [
    "# See also:\n",
    "# • [Rᴇᴘᴏʀᴛ ғᴏʀ ᴛʜᴇ CFO](99__Report_for_the_CFO.ipynb)\n",
    "# • [Rᴇᴘᴏʀᴛ ғᴏʀ ᴛʜᴇ COO](99__Report_for_the_COO.ipynb)"
   ]
  },
  {
   "cell_type": "markdown",
   "metadata": {},
   "source": [
    "<center><h1>~ - ~</h1</center>"
   ]
  },
  {
   "cell_type": "markdown",
   "metadata": {},
   "source": [
    "## Lᴏᴀᴅᴇᴅ Dᴀᴛᴀ"
   ]
  },
  {
   "cell_type": "code",
   "execution_count": 1,
   "metadata": {},
   "outputs": [],
   "source": [
    "import pandas as pd\n",
    "df = pd.read_csv('df_EDA.csv') # reading previously transformed data"
   ]
  }
 ],
 "metadata": {
  "kernelspec": {
   "display_name": "Python 3",
   "language": "python",
   "name": "python3"
  },
  "language_info": {
   "codemirror_mode": {
    "name": "ipython",
    "version": 3
   },
   "file_extension": ".py",
   "mimetype": "text/x-python",
   "name": "python",
   "nbconvert_exporter": "python",
   "pygments_lexer": "ipython3",
   "version": "3.8.5"
  }
 },
 "nbformat": 4,
 "nbformat_minor": 4
}
