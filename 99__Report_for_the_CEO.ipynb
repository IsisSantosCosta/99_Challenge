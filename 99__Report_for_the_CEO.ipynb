{
 "cells": [
  {
   "cell_type": "markdown",
   "metadata": {},
   "source": [
    "<table style=\"width:100%\">\n",
    "  <tr style=\"background-color:#FFFFFF\">\n",
    "    <td style=\"width:10%\">\n",
    "        <img src=\"https://play-lh.googleusercontent.com/K9FC23HoIYy_idt3LL26zrzMchOGORVzLNmi3L5u-MaghdjpdgHAWv7wQlscNmo9wYjC=s180-rw\" alt=\"DiDi\" width=120></td>\n",
    "    <td style=\"width:10%\">\n",
    "        <img src=\"https://logodownload.org/wp-content/uploads/2019/05/99-app-logo.png\" alt=\"99\" width=120></td>\n",
    "      <td>\n",
    "          <h1 style=\"text-align:left; text-indent :2em\"> Rᴇᴘᴏʀᴛ ғᴏʀ ᴛʜᴇ CEO &nbsp;‖&nbsp; Mar-May 2014 Operations (WIP)</h1> \n",
    "          <h2 style=\"text-align:left; text-indent :2.4em;\">ISIS SANTOS COSTA • 2021</h2>\n",
    "      </td>\n",
    "  </tr>\n",
    "</table>"
   ]
  },
  {
   "cell_type": "markdown",
   "metadata": {},
   "source": [
    "## Cᴏɴᴄᴇᴘᴛᴜᴀʟ Fʀᴀᴍᴇᴡᴏʀᴋ • Vɪsɪᴏɴᴀʀʏ"
   ]
  },
  {
   "cell_type": "markdown",
   "metadata": {},
   "source": [
    "<ul>\n",
    "    <li>What is our <b>impact</b>? How is the world different because of our existence?</b></li>\n",
    "    <li>What <b>value</b> are we able to create <b>now</b>? What would we like it to be in the <b>future</b>?</b></li>\n",
    "    <li>Unrestrained of resources, what would be our <b>dream delivery</b>?</b></li>\n",
    "</ul><br>"
   ]
  },
  {
   "cell_type": "markdown",
   "metadata": {},
   "source": [
    "## Dʀɪᴠɪɴɢ Qᴜᴇsᴛɪᴏɴs"
   ]
  },
  {
   "cell_type": "markdown",
   "metadata": {},
   "source": [
    "<b> BUSINESS SUSTAINABILITY • PROFIT 📈 </b>\n",
    "<ul>\n",
    "    <li>Are we <b>growing</b>? Why?</li>\n",
    "    <li>Where do we have <b>potential growth/creation</b> of <b>recurring revenues</b>?</li>\n",
    "    <li>In which areas are our <b>biggest gains</b> for an <b>increase in efficiency</b>?</li>\n",
    "</ul><br>\n",
    "<b> BUSINESS SUSTAINABILITY • PEOPLE 👥 </b>\n",
    "<ul>\n",
    "    <li>How to <b>attract, keep & grow</b> our base of <b>passengers</b>?</li>\n",
    "    <li>What are the <b>passenger's habits</b> / what does the <b>passenger value</b> in their transportation experience?</li>\n",
    "    <li>Which are the <b>company's, passengers' </b>and<b> drivers' values</b>, and where do they <b>converge</b>?</li>\n",
    "    \n",
    "</ul><br>\n",
    "<b> BUSINESS SUSTAINABILITY • PLANET 🌎 </b>\n",
    "<ul>\n",
    "    <li>How do our operations <b>impact the planet</b>?</li>\n",
    "    <li>How can we consume <b>less resources</b>?</li>\n",
    "    <li>Which are the other ways we can <b>reduce</b> our <b>emissions</b>?</li>\n",
    "</ul><br>"
   ]
  },
  {
   "cell_type": "markdown",
   "metadata": {},
   "source": [
    "## Hɪɢʜʟɪɢʜᴛs"
   ]
  },
  {
   "cell_type": "markdown",
   "metadata": {},
   "source": [
    "<b>PROFIT 📈: REVENUE PROFILE</b><br><br>\n",
    "⚠️ <b>SHARP DROP IN MAY:<i> Revenue (Trips): \\\\$ 172 MM (11 MM) &nbsp;&nbsp; ‖ &nbsp;&nbsp; Average: <ins>\\\\$ 57 MM</ins> &nbsp;&nbsp; ‖ &nbsp;&nbsp; Mar-Abr-May \\\\$ 69-84-19 MM (5-6-1 MM)</i></b><br>\n",
    "⚠️ <b>NOT GROWING IN THE PERIOD: <i>CWGR (Compound Weekly Growth Rate) within the period: <ins>-50%</ins></i></b><br><br>\n",
    "    \n",
    "<b>PEOPLE 👥: PASSENGERS' ROUTINE</b><br><br>\n",
    "💡 <b>QUICK TRIPS:<i> <ins>82%</ins> of trips take <ins>20 min or less</ins>, \n",
    "    <ins>48%</ins> take <ins>up to 10 min</ins></i></b><br>\n",
    "💡 <b>SHORT TRIPS: <i><b> <ins>85% </ins>take less than <ins> 5 miles</ins>, \n",
    "    <ins>24%</ins> <ins>up to 1 mile</ins> </b></i> <br>\n",
    "💡 <b>GOING HOME: <i><b> <ins>Highest</ins> demand on evenings <ins>17:00 to 20:00</ins> </b></i> <br><br>"
   ]
  },
  {
   "cell_type": "markdown",
   "metadata": {},
   "source": [
    "## Sᴜᴘᴘᴏʀᴛɪɴɢ Dᴀᴛᴀ: BUSINESS SUSTAINABILITY • PROFIT 📈"
   ]
  },
  {
   "cell_type": "markdown",
   "metadata": {},
   "source": [
    "<b> CWGR </b>"
   ]
  },
  {
   "cell_type": "markdown",
   "metadata": {},
   "source": [
    "<table>\n",
    "    <tr>\n",
    "        <td><img src='./img/CFO__CWGR.png'></td>\n",
    "    </tr>\n",
    "</table>"
   ]
  },
  {
   "cell_type": "markdown",
   "metadata": {},
   "source": [
    "<b> WEEKLY PROFILE </b>"
   ]
  },
  {
   "cell_type": "markdown",
   "metadata": {},
   "source": [
    "<table>\n",
    "    <tr>\n",
    "        <td><img src='./img/CEO__weekly_profile.png'></td>\n",
    "    </tr>\n",
    "</table>"
   ]
  },
  {
   "cell_type": "markdown",
   "metadata": {},
   "source": [
    "<b> DAILY PROFILE </b>"
   ]
  },
  {
   "cell_type": "markdown",
   "metadata": {},
   "source": [
    "<table>\n",
    "    <tr>\n",
    "        <td><img src='./img/CEO__daily_profile.png'></td>\n",
    "    </tr>\n",
    "</table>"
   ]
  },
  {
   "cell_type": "markdown",
   "metadata": {},
   "source": [
    "## Sᴜᴘᴘᴏʀᴛɪɴɢ Dᴀᴛᴀ: BUSINESS SUSTAINABILITY • PEOPLE 👥"
   ]
  },
  {
   "cell_type": "markdown",
   "metadata": {},
   "source": [
    "<b> % TRIPS BY DURATION </b> ⏲️"
   ]
  },
  {
   "cell_type": "markdown",
   "metadata": {},
   "source": [
    "<table>\n",
    "    <tr>\n",
    "        <td><img src='./img/COO__Freq_by_trip_duration.png'></td>\n",
    "    </tr>\n",
    "</table>"
   ]
  },
  {
   "cell_type": "markdown",
   "metadata": {},
   "source": [
    "<b> % TRIPS BY DISTANCE </b>"
   ]
  },
  {
   "cell_type": "markdown",
   "metadata": {},
   "source": [
    "<table>\n",
    "    <tr>\n",
    "        <td><img src='./img/COO__Freq_by_trip_distance.png'></td>\n",
    "    </tr>\n",
    "</table>"
   ]
  },
  {
   "cell_type": "markdown",
   "metadata": {},
   "source": [
    "<b> % TRIPS BY TIME OF THE DAY</b> 🌃"
   ]
  },
  {
   "cell_type": "markdown",
   "metadata": {},
   "source": [
    "<table>\n",
    "    <tr>\n",
    "        <td><img src='./img/COO__Freq_by_time_of_the_day.png'></td>\n",
    "    </tr>\n",
    "</table>"
   ]
  },
  {
   "cell_type": "markdown",
   "metadata": {},
   "source": [
    "## Sᴜᴘᴘᴏʀᴛɪɴɢ Dᴀᴛᴀ: BUSINESS SUSTAINABILITY • PLANET 🌎"
   ]
  },
  {
   "cell_type": "markdown",
   "metadata": {},
   "source": [
    "### SOON!"
   ]
  },
  {
   "cell_type": "markdown",
   "metadata": {},
   "source": [
    "<center><h1>End of Report</h1</center>"
   ]
  },
  {
   "cell_type": "markdown",
   "metadata": {},
   "source": [
    "# See also:\n",
    "# • [Rᴇᴘᴏʀᴛ ғᴏʀ ᴛʜᴇ CFO](99__Report_for_the_CFO.ipynb)\n",
    "# • [Rᴇᴘᴏʀᴛ ғᴏʀ ᴛʜᴇ COO](99__Report_for_the_COO.ipynb)"
   ]
  },
  {
   "cell_type": "markdown",
   "metadata": {},
   "source": [
    "<center><h1>~ - ~</h1</center>"
   ]
  },
  {
   "cell_type": "markdown",
   "metadata": {},
   "source": [
    "## Dᴀᴛᴀ Pʀᴇᴘ"
   ]
  },
  {
   "cell_type": "code",
   "execution_count": 1,
   "metadata": {},
   "outputs": [],
   "source": [
    "import pandas as pd\n",
    "df = pd.read_csv('df_EDA.csv') # reading previously transformed data"
   ]
  },
  {
   "cell_type": "code",
   "execution_count": 2,
   "metadata": {},
   "outputs": [],
   "source": [
    "df_daily = pd.read_csv('df_orders_tF_daily.csv') # reading previously transformed data: aggregate"
   ]
  },
  {
   "cell_type": "code",
   "execution_count": 3,
   "metadata": {},
   "outputs": [],
   "source": [
    "df_passenger = pd.read_csv('df_orders_tF_passenger.csv') # reading previously transformed data: aggregate"
   ]
  },
  {
   "cell_type": "code",
   "execution_count": 4,
   "metadata": {},
   "outputs": [],
   "source": [
    "import matplotlib.pyplot as plt\n",
    "%matplotlib inline\n",
    "import seaborn as sns"
   ]
  },
  {
   "cell_type": "code",
   "execution_count": 5,
   "metadata": {},
   "outputs": [
    {
     "data": {
      "text/html": [
       "<div>\n",
       "<style scoped>\n",
       "    .dataframe tbody tr th:only-of-type {\n",
       "        vertical-align: middle;\n",
       "    }\n",
       "\n",
       "    .dataframe tbody tr th {\n",
       "        vertical-align: top;\n",
       "    }\n",
       "\n",
       "    .dataframe thead th {\n",
       "        text-align: right;\n",
       "    }\n",
       "</style>\n",
       "<table border=\"1\" class=\"dataframe\">\n",
       "  <thead>\n",
       "    <tr style=\"text-align: right;\">\n",
       "      <th></th>\n",
       "      <th>pickup_date</th>\n",
       "      <th>total_orders</th>\n",
       "      <th>total_trips</th>\n",
       "      <th>pickup_month</th>\n",
       "      <th>pickup_week</th>\n",
       "      <th>pickup_weekinmonth</th>\n",
       "      <th>pickup_dayofweek</th>\n",
       "      <th>pickup_isweekend</th>\n",
       "      <th>pickup_hour</th>\n",
       "      <th>pickup_isrush</th>\n",
       "      <th>...</th>\n",
       "      <th>pickup ‖ Staten Island</th>\n",
       "      <th>dropoff ‖ Manhattan • Lower Manhattan</th>\n",
       "      <th>dropoff ‖ Manhattan • Midtown Manhattan</th>\n",
       "      <th>dropoff ‖ Manhattan • Upper Manhattan</th>\n",
       "      <th>dropoff ‖ Queens</th>\n",
       "      <th>dropoff ‖ Brooklyn</th>\n",
       "      <th>dropoff ‖ Manhattan • Harlem</th>\n",
       "      <th>dropoff ‖ Manhattan • Washington Heights</th>\n",
       "      <th>dropoff ‖ Bronx</th>\n",
       "      <th>dropoff ‖ Staten Island</th>\n",
       "    </tr>\n",
       "  </thead>\n",
       "  <tbody>\n",
       "    <tr>\n",
       "      <th>0</th>\n",
       "      <td>2014-03-01</td>\n",
       "      <td>277284</td>\n",
       "      <td>211545</td>\n",
       "      <td>3</td>\n",
       "      <td>9</td>\n",
       "      <td>1</td>\n",
       "      <td>Saturday</td>\n",
       "      <td>1</td>\n",
       "      <td>13.127753</td>\n",
       "      <td>0.425838</td>\n",
       "      <td>...</td>\n",
       "      <td>52</td>\n",
       "      <td>45280</td>\n",
       "      <td>84961</td>\n",
       "      <td>44495</td>\n",
       "      <td>12251</td>\n",
       "      <td>16583</td>\n",
       "      <td>5226</td>\n",
       "      <td>1426</td>\n",
       "      <td>1030</td>\n",
       "      <td>293</td>\n",
       "    </tr>\n",
       "    <tr>\n",
       "      <th>1</th>\n",
       "      <td>2014-03-02</td>\n",
       "      <td>231264</td>\n",
       "      <td>176557</td>\n",
       "      <td>3</td>\n",
       "      <td>9</td>\n",
       "      <td>1</td>\n",
       "      <td>Sunday</td>\n",
       "      <td>1</td>\n",
       "      <td>11.634141</td>\n",
       "      <td>0.409126</td>\n",
       "      <td>...</td>\n",
       "      <td>60</td>\n",
       "      <td>32934</td>\n",
       "      <td>69577</td>\n",
       "      <td>38391</td>\n",
       "      <td>13171</td>\n",
       "      <td>14763</td>\n",
       "      <td>4806</td>\n",
       "      <td>1602</td>\n",
       "      <td>951</td>\n",
       "      <td>362</td>\n",
       "    </tr>\n",
       "  </tbody>\n",
       "</table>\n",
       "<p>2 rows × 49 columns</p>\n",
       "</div>"
      ],
      "text/plain": [
       "  pickup_date  total_orders  total_trips  pickup_month  pickup_week  \\\n",
       "0  2014-03-01        277284       211545             3            9   \n",
       "1  2014-03-02        231264       176557             3            9   \n",
       "\n",
       "   pickup_weekinmonth pickup_dayofweek  pickup_isweekend  pickup_hour  \\\n",
       "0                   1         Saturday                 1    13.127753   \n",
       "1                   1           Sunday                 1    11.634141   \n",
       "\n",
       "   pickup_isrush  ...  pickup ‖ Staten Island  \\\n",
       "0       0.425838  ...                      52   \n",
       "1       0.409126  ...                      60   \n",
       "\n",
       "   dropoff ‖ Manhattan • Lower Manhattan  \\\n",
       "0                                  45280   \n",
       "1                                  32934   \n",
       "\n",
       "   dropoff ‖ Manhattan • Midtown Manhattan  \\\n",
       "0                                    84961   \n",
       "1                                    69577   \n",
       "\n",
       "   dropoff ‖ Manhattan • Upper Manhattan  dropoff ‖ Queens dropoff ‖ Brooklyn  \\\n",
       "0                                  44495             12251              16583   \n",
       "1                                  38391             13171              14763   \n",
       "\n",
       "   dropoff ‖ Manhattan • Harlem  dropoff ‖ Manhattan • Washington Heights  \\\n",
       "0                          5226                                      1426   \n",
       "1                          4806                                      1602   \n",
       "\n",
       "   dropoff ‖ Bronx  dropoff ‖ Staten Island  \n",
       "0             1030                      293  \n",
       "1              951                      362  \n",
       "\n",
       "[2 rows x 49 columns]"
      ]
     },
     "execution_count": 5,
     "metadata": {},
     "output_type": "execute_result"
    }
   ],
   "source": [
    "df_daily.head(2)"
   ]
  },
  {
   "cell_type": "code",
   "execution_count": 6,
   "metadata": {},
   "outputs": [
    {
     "data": {
      "text/html": [
       "<div>\n",
       "<style scoped>\n",
       "    .dataframe tbody tr th:only-of-type {\n",
       "        vertical-align: middle;\n",
       "    }\n",
       "\n",
       "    .dataframe tbody tr th {\n",
       "        vertical-align: top;\n",
       "    }\n",
       "\n",
       "    .dataframe thead th {\n",
       "        text-align: right;\n",
       "    }\n",
       "</style>\n",
       "<table border=\"1\" class=\"dataframe\">\n",
       "  <thead>\n",
       "    <tr style=\"text-align: right;\">\n",
       "      <th></th>\n",
       "      <th>passenger_id</th>\n",
       "      <th>total_orders</th>\n",
       "      <th>pickup_month</th>\n",
       "      <th>pickup_week</th>\n",
       "      <th>pickup_weekinmonth</th>\n",
       "      <th>pickup_isweekend</th>\n",
       "      <th>pickup_hour</th>\n",
       "      <th>pickup_isrush</th>\n",
       "      <th>pickup_latitude</th>\n",
       "      <th>pickup_longitude</th>\n",
       "      <th>dropoff_latitude</th>\n",
       "      <th>dropoff_longitude</th>\n",
       "      <th>duration_minutes</th>\n",
       "      <th>trip_distance</th>\n",
       "      <th>total_amount</th>\n",
       "      <th>fare_amount</th>\n",
       "      <th>tip_amount</th>\n",
       "    </tr>\n",
       "  </thead>\n",
       "  <tbody>\n",
       "    <tr>\n",
       "      <th>0</th>\n",
       "      <td>5234567812345678</td>\n",
       "      <td>160</td>\n",
       "      <td>3.693750</td>\n",
       "      <td>14.468750</td>\n",
       "      <td>2.718750</td>\n",
       "      <td>0.250000</td>\n",
       "      <td>13.493750</td>\n",
       "      <td>0.481250</td>\n",
       "      <td>40.242022</td>\n",
       "      <td>-73.052296</td>\n",
       "      <td>40.404677</td>\n",
       "      <td>-73.347880</td>\n",
       "      <td>12.556356</td>\n",
       "      <td>2.509576</td>\n",
       "      <td>13.457712</td>\n",
       "      <td>11.368644</td>\n",
       "      <td>1.065169</td>\n",
       "    </tr>\n",
       "    <tr>\n",
       "      <th>1</th>\n",
       "      <td>5234567812345679</td>\n",
       "      <td>132</td>\n",
       "      <td>3.689394</td>\n",
       "      <td>14.484848</td>\n",
       "      <td>2.727273</td>\n",
       "      <td>0.295455</td>\n",
       "      <td>14.469697</td>\n",
       "      <td>0.469697</td>\n",
       "      <td>40.443271</td>\n",
       "      <td>-73.415126</td>\n",
       "      <td>40.355975</td>\n",
       "      <td>-73.257267</td>\n",
       "      <td>13.465372</td>\n",
       "      <td>3.031456</td>\n",
       "      <td>16.101359</td>\n",
       "      <td>13.218447</td>\n",
       "      <td>1.701845</td>\n",
       "    </tr>\n",
       "  </tbody>\n",
       "</table>\n",
       "</div>"
      ],
      "text/plain": [
       "       passenger_id  total_orders  pickup_month  pickup_week  \\\n",
       "0  5234567812345678           160      3.693750    14.468750   \n",
       "1  5234567812345679           132      3.689394    14.484848   \n",
       "\n",
       "   pickup_weekinmonth  pickup_isweekend  pickup_hour  pickup_isrush  \\\n",
       "0            2.718750          0.250000    13.493750       0.481250   \n",
       "1            2.727273          0.295455    14.469697       0.469697   \n",
       "\n",
       "   pickup_latitude  pickup_longitude  dropoff_latitude  dropoff_longitude  \\\n",
       "0        40.242022        -73.052296         40.404677         -73.347880   \n",
       "1        40.443271        -73.415126         40.355975         -73.257267   \n",
       "\n",
       "   duration_minutes  trip_distance  total_amount  fare_amount  tip_amount  \n",
       "0         12.556356       2.509576     13.457712    11.368644    1.065169  \n",
       "1         13.465372       3.031456     16.101359    13.218447    1.701845  "
      ]
     },
     "execution_count": 6,
     "metadata": {},
     "output_type": "execute_result"
    }
   ],
   "source": [
    "df_passenger.head(2)"
   ]
  },
  {
   "cell_type": "code",
   "execution_count": 7,
   "metadata": {},
   "outputs": [
    {
     "data": {
      "text/plain": [
       "1232.8799802563874"
      ]
     },
     "execution_count": 7,
     "metadata": {},
     "output_type": "execute_result"
    }
   ],
   "source": [
    "sum(df_daily['total_amount'])"
   ]
  },
  {
   "cell_type": "code",
   "execution_count": 20,
   "metadata": {},
   "outputs": [
    {
     "name": "stdout",
     "output_type": "stream",
     "text": [
      "Total revenue: $ 171,756,999 | Total trips: 11,456,221\n",
      "Average revenue: $ 57,252,333 / month | Average trips: 3,818,740  / month\n"
     ]
    }
   ],
   "source": [
    "total_revenue = sum(df.loc[df['total_amount'].notna(), 'total_amount'])\n",
    "total_trips = df['total_amount'].count()\n",
    "avg_m_revenue = total_revenue / 3\n",
    "avg_m_trips = total_trips / 3\n",
    "\n",
    "print('Total revenue: $ {:,.0f} | Total trips: {:,.0f}'.format( total_revenue, total_trips))\n",
    "print('Average revenue: $ {:,.0f} / month | Average trips: {:,.0f}  / month'.format( avg_m_revenue, avg_m_trips))"
   ]
  },
  {
   "cell_type": "code",
   "execution_count": 193,
   "metadata": {},
   "outputs": [
    {
     "name": "stdout",
     "output_type": "stream",
     "text": [
      "Mar revenue: $ 69,228,400 | Mar trips: 4,686,350\n",
      "Apr revenue: $ 83,993,007 | Apr trips: 5,583,169\n",
      "May revenue: $ 18,535,592 | May trips: 1,186,702\n"
     ]
    }
   ],
   "source": [
    "m1_revenue = sum(df.loc[(df['total_amount'].notna()) & (df['pickup_month'] == 3), 'total_amount'])\n",
    "m2_revenue = sum(df.loc[(df['total_amount'].notna()) & (df['pickup_month'] == 4), 'total_amount'])\n",
    "m3_revenue = sum(df.loc[(df['total_amount'].notna()) & (df['pickup_month'] == 5), 'total_amount'])\n",
    "m1_trips = df.loc[(df['pickup_month'] == 3), 'total_amount'].count()\n",
    "m2_trips = df.loc[(df['pickup_month'] == 4), 'total_amount'].count()\n",
    "m3_trips = df.loc[(df['pickup_month'] == 5), 'total_amount'].count()\n",
    "print('Mar revenue: $ {:,.0f} | Mar trips: {:,.0f}'.format( m1_revenue, m1_trips))\n",
    "print('Apr revenue: $ {:,.0f} | Apr trips: {:,.0f}'.format( m2_revenue, m2_trips))\n",
    "print('May revenue: $ {:,.0f} | May trips: {:,.0f}'.format( m3_revenue, m3_trips))"
   ]
  },
  {
   "cell_type": "code",
   "execution_count": 198,
   "metadata": {},
   "outputs": [
    {
     "name": "stdout",
     "output_type": "stream",
     "text": [
      "Total revenue: $ 172 MM | Total trips: 11 MM\n",
      "Average revenue: $ 57 MM / month | Average trips: 4 MM  / month\n",
      "Mar revenue: $ 69 MM | Mar trips: 5 MM\n",
      "Apr revenue: $ 84 MM | Apr trips: 6 MM\n",
      "May revenue: $ 19 MM | May trips: 1 MM\n"
     ]
    }
   ],
   "source": [
    "print('Total revenue: $ {:,.0f} MM | Total trips: {:,.0f} MM'.format( total_revenue/10**6, total_trips/10**6))\n",
    "print('Average revenue: $ {:,.0f} MM / month | Average trips: {:,.0f} MM  / month'.format( avg_m_revenue/10**6, avg_m_trips/10**6))\n",
    "print('Mar revenue: $ {:,.0f} MM | Mar trips: {:,.0f} MM'.format( m1_revenue/10**6, m1_trips/10**6))\n",
    "print('Apr revenue: $ {:,.0f} MM | Apr trips: {:,.0f} MM'.format( m2_revenue/10**6, m2_trips/10**6))\n",
    "print('May revenue: $ {:,.0f} MM | May trips: {:,.0f} MM'.format( m3_revenue/10**6, m3_trips/10**6))"
   ]
  },
  {
   "cell_type": "code",
   "execution_count": 22,
   "metadata": {},
   "outputs": [],
   "source": [
    "daily_revenue = df[['pickup_date', 'total_amount']].groupby(by='pickup_date', dropna=True).sum()\n",
    "daily_trips   = df[['pickup_date', 'total_amount']].groupby(by='pickup_date', dropna=True).count()"
   ]
  },
  {
   "cell_type": "code",
   "execution_count": 23,
   "metadata": {},
   "outputs": [
    {
     "data": {
      "text/html": [
       "<div>\n",
       "<style scoped>\n",
       "    .dataframe tbody tr th:only-of-type {\n",
       "        vertical-align: middle;\n",
       "    }\n",
       "\n",
       "    .dataframe tbody tr th {\n",
       "        vertical-align: top;\n",
       "    }\n",
       "\n",
       "    .dataframe thead th {\n",
       "        text-align: right;\n",
       "    }\n",
       "</style>\n",
       "<table border=\"1\" class=\"dataframe\">\n",
       "  <thead>\n",
       "    <tr style=\"text-align: right;\">\n",
       "      <th></th>\n",
       "      <th>total_amount</th>\n",
       "    </tr>\n",
       "    <tr>\n",
       "      <th>pickup_date</th>\n",
       "      <th></th>\n",
       "    </tr>\n",
       "  </thead>\n",
       "  <tbody>\n",
       "    <tr>\n",
       "      <th>2014-03-01</th>\n",
       "      <td>2974089.21</td>\n",
       "    </tr>\n",
       "    <tr>\n",
       "      <th>2014-03-02</th>\n",
       "      <td>2585101.27</td>\n",
       "    </tr>\n",
       "    <tr>\n",
       "      <th>2014-03-03</th>\n",
       "      <td>2448407.57</td>\n",
       "    </tr>\n",
       "  </tbody>\n",
       "</table>\n",
       "</div>"
      ],
      "text/plain": [
       "             total_amount\n",
       "pickup_date              \n",
       "2014-03-01     2974089.21\n",
       "2014-03-02     2585101.27\n",
       "2014-03-03     2448407.57"
      ]
     },
     "execution_count": 23,
     "metadata": {},
     "output_type": "execute_result"
    }
   ],
   "source": [
    "daily_revenue.head(3)"
   ]
  },
  {
   "cell_type": "code",
   "execution_count": 151,
   "metadata": {},
   "outputs": [
    {
     "data": {
      "image/png": "[encoded data removed]",
      "text/plain": [
       "<Figure size 1440x432 with 2 Axes>"
      ]
     },
     "metadata": {
      "needs_background": "light"
     },
     "output_type": "display_data"
    }
   ],
   "source": [
    "plt.figure(figsize=(20,6))\n",
    "plt.title('Total Revenue & Trips  ‖  Mar-May 2014')\n",
    "ax = sns.lineplot(data=daily_revenue['total_amount'], legend=False, color='b')\n",
    "ax2 = plt.twinx()\n",
    "sns.lineplot(data=daily_trips['total_amount'], ax=ax2, legend=False, color='g')\n",
    "ax.figure.legend(['Revenue', 'Trips'])\n",
    "\n",
    "xlabels = ''\n",
    "ax.set_xticklabels(xlabels)\n",
    "\n",
    "plt.show()"
   ]
  },
  {
   "cell_type": "code",
   "execution_count": 152,
   "metadata": {},
   "outputs": [
    {
     "data": {
      "image/png": "[encoded data removed]",
      "text/plain": [
       "<Figure size 1440x432 with 2 Axes>"
      ]
     },
     "metadata": {
      "needs_background": "light"
     },
     "output_type": "display_data"
    }
   ],
   "source": [
    "weekly_revenue = df[['pickup_week', 'total_amount']].groupby(by='pickup_week', dropna=True).sum()\n",
    "weekly_trips   = df[['pickup_week', 'total_amount']].groupby(by='pickup_week', dropna=True).count()\n",
    "\n",
    "plt.figure(figsize=(20,6))\n",
    "plt.title('Total Revenue & Trips  ‖  Mar-May 2014')\n",
    "ax = sns.lineplot(data=weekly_revenue['total_amount'], legend=False, color='b')\n",
    "ax2 = plt.twinx()\n",
    "sns.lineplot(data=weekly_trips['total_amount'], ax=ax2, legend=False, color='g')\n",
    "ax.figure.legend(['Revenue', 'Trips'])\n",
    "\n",
    "#xlabels = ''\n",
    "#ax.set_xticklabels(xlabels)\n",
    "\n",
    "plt.show()"
   ]
  },
  {
   "cell_type": "code",
   "execution_count": 109,
   "metadata": {},
   "outputs": [
    {
     "data": {
      "text/html": [
       "<div>\n",
       "<style scoped>\n",
       "    .dataframe tbody tr th:only-of-type {\n",
       "        vertical-align: middle;\n",
       "    }\n",
       "\n",
       "    .dataframe tbody tr th {\n",
       "        vertical-align: top;\n",
       "    }\n",
       "\n",
       "    .dataframe thead th {\n",
       "        text-align: right;\n",
       "    }\n",
       "</style>\n",
       "<table border=\"1\" class=\"dataframe\">\n",
       "  <thead>\n",
       "    <tr style=\"text-align: right;\">\n",
       "      <th></th>\n",
       "      <th>total_amount</th>\n",
       "    </tr>\n",
       "    <tr>\n",
       "      <th>pickup_week</th>\n",
       "      <th></th>\n",
       "    </tr>\n",
       "  </thead>\n",
       "  <tbody>\n",
       "    <tr>\n",
       "      <th>9</th>\n",
       "      <td>388102</td>\n",
       "    </tr>\n",
       "    <tr>\n",
       "      <th>10</th>\n",
       "      <td>1365037</td>\n",
       "    </tr>\n",
       "    <tr>\n",
       "      <th>11</th>\n",
       "      <td>1336935</td>\n",
       "    </tr>\n",
       "    <tr>\n",
       "      <th>12</th>\n",
       "      <td>711705</td>\n",
       "    </tr>\n",
       "    <tr>\n",
       "      <th>13</th>\n",
       "      <td>719426</td>\n",
       "    </tr>\n",
       "    <tr>\n",
       "      <th>14</th>\n",
       "      <td>1314353</td>\n",
       "    </tr>\n",
       "    <tr>\n",
       "      <th>15</th>\n",
       "      <td>1309522</td>\n",
       "    </tr>\n",
       "    <tr>\n",
       "      <th>16</th>\n",
       "      <td>1272141</td>\n",
       "    </tr>\n",
       "    <tr>\n",
       "      <th>17</th>\n",
       "      <td>1310296</td>\n",
       "    </tr>\n",
       "    <tr>\n",
       "      <th>18</th>\n",
       "      <td>542002</td>\n",
       "    </tr>\n",
       "    <tr>\n",
       "      <th>19</th>\n",
       "      <td>780</td>\n",
       "    </tr>\n",
       "    <tr>\n",
       "      <th>20</th>\n",
       "      <td>621566</td>\n",
       "    </tr>\n",
       "    <tr>\n",
       "      <th>21</th>\n",
       "      <td>564306</td>\n",
       "    </tr>\n",
       "    <tr>\n",
       "      <th>22</th>\n",
       "      <td>50</td>\n",
       "    </tr>\n",
       "  </tbody>\n",
       "</table>\n",
       "</div>"
      ],
      "text/plain": [
       "             total_amount\n",
       "pickup_week              \n",
       "9                  388102\n",
       "10                1365037\n",
       "11                1336935\n",
       "12                 711705\n",
       "13                 719426\n",
       "14                1314353\n",
       "15                1309522\n",
       "16                1272141\n",
       "17                1310296\n",
       "18                 542002\n",
       "19                    780\n",
       "20                 621566\n",
       "21                 564306\n",
       "22                     50"
      ]
     },
     "execution_count": 109,
     "metadata": {},
     "output_type": "execute_result"
    }
   ],
   "source": [
    "weekly_trips"
   ]
  },
  {
   "cell_type": "code",
   "execution_count": 115,
   "metadata": {},
   "outputs": [
    {
     "data": {
      "text/html": [
       "<div>\n",
       "<style scoped>\n",
       "    .dataframe tbody tr th:only-of-type {\n",
       "        vertical-align: middle;\n",
       "    }\n",
       "\n",
       "    .dataframe tbody tr th {\n",
       "        vertical-align: top;\n",
       "    }\n",
       "\n",
       "    .dataframe thead th {\n",
       "        text-align: right;\n",
       "    }\n",
       "</style>\n",
       "<table border=\"1\" class=\"dataframe\">\n",
       "  <thead>\n",
       "    <tr style=\"text-align: right;\">\n",
       "      <th></th>\n",
       "      <th>total_amount</th>\n",
       "    </tr>\n",
       "    <tr>\n",
       "      <th>pickup_week</th>\n",
       "      <th></th>\n",
       "    </tr>\n",
       "  </thead>\n",
       "  <tbody>\n",
       "    <tr>\n",
       "      <th>9</th>\n",
       "      <td>5.559190e+06</td>\n",
       "    </tr>\n",
       "    <tr>\n",
       "      <th>10</th>\n",
       "      <td>1.990943e+07</td>\n",
       "    </tr>\n",
       "    <tr>\n",
       "      <th>11</th>\n",
       "      <td>1.978056e+07</td>\n",
       "    </tr>\n",
       "    <tr>\n",
       "      <th>12</th>\n",
       "      <td>1.087013e+07</td>\n",
       "    </tr>\n",
       "    <tr>\n",
       "      <th>13</th>\n",
       "      <td>1.058316e+07</td>\n",
       "    </tr>\n",
       "    <tr>\n",
       "      <th>14</th>\n",
       "      <td>1.969189e+07</td>\n",
       "    </tr>\n",
       "    <tr>\n",
       "      <th>15</th>\n",
       "      <td>1.975716e+07</td>\n",
       "    </tr>\n",
       "    <tr>\n",
       "      <th>16</th>\n",
       "      <td>1.877402e+07</td>\n",
       "    </tr>\n",
       "    <tr>\n",
       "      <th>17</th>\n",
       "      <td>2.004373e+07</td>\n",
       "    </tr>\n",
       "    <tr>\n",
       "      <th>18</th>\n",
       "      <td>8.252139e+06</td>\n",
       "    </tr>\n",
       "    <tr>\n",
       "      <th>19</th>\n",
       "      <td>9.862850e+03</td>\n",
       "    </tr>\n",
       "    <tr>\n",
       "      <th>20</th>\n",
       "      <td>9.700851e+06</td>\n",
       "    </tr>\n",
       "    <tr>\n",
       "      <th>21</th>\n",
       "      <td>8.824011e+06</td>\n",
       "    </tr>\n",
       "    <tr>\n",
       "      <th>22</th>\n",
       "      <td>8.670900e+02</td>\n",
       "    </tr>\n",
       "  </tbody>\n",
       "</table>\n",
       "</div>"
      ],
      "text/plain": [
       "             total_amount\n",
       "pickup_week              \n",
       "9            5.559190e+06\n",
       "10           1.990943e+07\n",
       "11           1.978056e+07\n",
       "12           1.087013e+07\n",
       "13           1.058316e+07\n",
       "14           1.969189e+07\n",
       "15           1.975716e+07\n",
       "16           1.877402e+07\n",
       "17           2.004373e+07\n",
       "18           8.252139e+06\n",
       "19           9.862850e+03\n",
       "20           9.700851e+06\n",
       "21           8.824011e+06\n",
       "22           8.670900e+02"
      ]
     },
     "execution_count": 115,
     "metadata": {},
     "output_type": "execute_result"
    }
   ],
   "source": [
    "weekly_revenue"
   ]
  },
  {
   "cell_type": "code",
   "execution_count": 118,
   "metadata": {},
   "outputs": [],
   "source": [
    "first_week = min(weekly_revenue.index)\n",
    "first_week_revenue = weekly_revenue['total_amount'][first_week]\n",
    "first_week_trips   = weekly_trips['total_amount'][first_week]"
   ]
  },
  {
   "cell_type": "code",
   "execution_count": 120,
   "metadata": {},
   "outputs": [
    {
     "data": {
      "text/plain": [
       "Float64Index([                inf,                 1.0,                 0.5,\n",
       "               0.3333333333333333,                0.25,                 0.2,\n",
       "              0.16666666666666666, 0.14285714285714285,               0.125,\n",
       "               0.1111111111111111,                 0.1, 0.09090909090909091,\n",
       "              0.08333333333333333, 0.07692307692307693],\n",
       "             dtype='float64', name='pickup_week')"
      ]
     },
     "execution_count": 120,
     "metadata": {},
     "output_type": "execute_result"
    }
   ],
   "source": [
    "1 / (weekly_revenue.index - first_week)"
   ]
  },
  {
   "cell_type": "code",
   "execution_count": 122,
   "metadata": {},
   "outputs": [
    {
     "data": {
      "text/html": [
       "<div>\n",
       "<style scoped>\n",
       "    .dataframe tbody tr th:only-of-type {\n",
       "        vertical-align: middle;\n",
       "    }\n",
       "\n",
       "    .dataframe tbody tr th {\n",
       "        vertical-align: top;\n",
       "    }\n",
       "\n",
       "    .dataframe thead th {\n",
       "        text-align: right;\n",
       "    }\n",
       "</style>\n",
       "<table border=\"1\" class=\"dataframe\">\n",
       "  <thead>\n",
       "    <tr style=\"text-align: right;\">\n",
       "      <th></th>\n",
       "      <th>total_amount</th>\n",
       "    </tr>\n",
       "    <tr>\n",
       "      <th>pickup_week</th>\n",
       "      <th></th>\n",
       "    </tr>\n",
       "  </thead>\n",
       "  <tbody>\n",
       "    <tr>\n",
       "      <th>9</th>\n",
       "      <td>1.000000</td>\n",
       "    </tr>\n",
       "    <tr>\n",
       "      <th>10</th>\n",
       "      <td>3.581354</td>\n",
       "    </tr>\n",
       "    <tr>\n",
       "      <th>11</th>\n",
       "      <td>3.558173</td>\n",
       "    </tr>\n",
       "    <tr>\n",
       "      <th>12</th>\n",
       "      <td>1.955343</td>\n",
       "    </tr>\n",
       "    <tr>\n",
       "      <th>13</th>\n",
       "      <td>1.903724</td>\n",
       "    </tr>\n",
       "    <tr>\n",
       "      <th>14</th>\n",
       "      <td>3.542222</td>\n",
       "    </tr>\n",
       "    <tr>\n",
       "      <th>15</th>\n",
       "      <td>3.553964</td>\n",
       "    </tr>\n",
       "    <tr>\n",
       "      <th>16</th>\n",
       "      <td>3.377114</td>\n",
       "    </tr>\n",
       "    <tr>\n",
       "      <th>17</th>\n",
       "      <td>3.605512</td>\n",
       "    </tr>\n",
       "    <tr>\n",
       "      <th>18</th>\n",
       "      <td>1.484414</td>\n",
       "    </tr>\n",
       "    <tr>\n",
       "      <th>19</th>\n",
       "      <td>0.001774</td>\n",
       "    </tr>\n",
       "    <tr>\n",
       "      <th>20</th>\n",
       "      <td>1.745011</td>\n",
       "    </tr>\n",
       "    <tr>\n",
       "      <th>21</th>\n",
       "      <td>1.587283</td>\n",
       "    </tr>\n",
       "    <tr>\n",
       "      <th>22</th>\n",
       "      <td>0.000156</td>\n",
       "    </tr>\n",
       "  </tbody>\n",
       "</table>\n",
       "</div>"
      ],
      "text/plain": [
       "             total_amount\n",
       "pickup_week              \n",
       "9                1.000000\n",
       "10               3.581354\n",
       "11               3.558173\n",
       "12               1.955343\n",
       "13               1.903724\n",
       "14               3.542222\n",
       "15               3.553964\n",
       "16               3.377114\n",
       "17               3.605512\n",
       "18               1.484414\n",
       "19               0.001774\n",
       "20               1.745011\n",
       "21               1.587283\n",
       "22               0.000156"
      ]
     },
     "execution_count": 122,
     "metadata": {},
     "output_type": "execute_result"
    }
   ],
   "source": [
    "(weekly_revenue.div(first_week_revenue))"
   ]
  },
  {
   "cell_type": "code",
   "execution_count": 124,
   "metadata": {},
   "outputs": [
    {
     "data": {
      "text/plain": [
       "Float64Index([        100000000.0,  0.9999999900000002,        0.4999999975,\n",
       "               0.3333333322222222,      0.249999999375,        0.1999999996,\n",
       "              0.16666666638888888, 0.14285714265306124, 0.12499999984374999,\n",
       "               0.1111111109876543,        0.0999999999, 0.09090909082644627,\n",
       "              0.08333333326388888, 0.07692307686390532],\n",
       "             dtype='float64', name='pickup_week')"
      ]
     },
     "execution_count": 124,
     "metadata": {},
     "output_type": "execute_result"
    }
   ],
   "source": [
    "1 / (weekly_revenue.index - first_week + 0.00000001)"
   ]
  },
  {
   "cell_type": "code",
   "execution_count": 125,
   "metadata": {},
   "outputs": [
    {
     "data": {
      "text/html": [
       "<div>\n",
       "<style scoped>\n",
       "    .dataframe tbody tr th:only-of-type {\n",
       "        vertical-align: middle;\n",
       "    }\n",
       "\n",
       "    .dataframe tbody tr th {\n",
       "        vertical-align: top;\n",
       "    }\n",
       "\n",
       "    .dataframe thead th {\n",
       "        text-align: right;\n",
       "    }\n",
       "</style>\n",
       "<table border=\"1\" class=\"dataframe\">\n",
       "  <thead>\n",
       "    <tr style=\"text-align: right;\">\n",
       "      <th></th>\n",
       "      <th>total_amount</th>\n",
       "    </tr>\n",
       "    <tr>\n",
       "      <th>pickup_week</th>\n",
       "      <th></th>\n",
       "    </tr>\n",
       "  </thead>\n",
       "  <tbody>\n",
       "    <tr>\n",
       "      <th>9</th>\n",
       "      <td>1.000000</td>\n",
       "    </tr>\n",
       "    <tr>\n",
       "      <th>10</th>\n",
       "      <td>3.581354</td>\n",
       "    </tr>\n",
       "    <tr>\n",
       "      <th>11</th>\n",
       "      <td>3.558173</td>\n",
       "    </tr>\n",
       "    <tr>\n",
       "      <th>12</th>\n",
       "      <td>1.955343</td>\n",
       "    </tr>\n",
       "    <tr>\n",
       "      <th>13</th>\n",
       "      <td>1.903724</td>\n",
       "    </tr>\n",
       "    <tr>\n",
       "      <th>14</th>\n",
       "      <td>3.542222</td>\n",
       "    </tr>\n",
       "    <tr>\n",
       "      <th>15</th>\n",
       "      <td>3.553964</td>\n",
       "    </tr>\n",
       "    <tr>\n",
       "      <th>16</th>\n",
       "      <td>3.377114</td>\n",
       "    </tr>\n",
       "    <tr>\n",
       "      <th>17</th>\n",
       "      <td>3.605512</td>\n",
       "    </tr>\n",
       "    <tr>\n",
       "      <th>18</th>\n",
       "      <td>1.484414</td>\n",
       "    </tr>\n",
       "    <tr>\n",
       "      <th>19</th>\n",
       "      <td>0.001774</td>\n",
       "    </tr>\n",
       "    <tr>\n",
       "      <th>20</th>\n",
       "      <td>1.745011</td>\n",
       "    </tr>\n",
       "    <tr>\n",
       "      <th>21</th>\n",
       "      <td>1.587283</td>\n",
       "    </tr>\n",
       "    <tr>\n",
       "      <th>22</th>\n",
       "      <td>0.000156</td>\n",
       "    </tr>\n",
       "  </tbody>\n",
       "</table>\n",
       "</div>"
      ],
      "text/plain": [
       "             total_amount\n",
       "pickup_week              \n",
       "9                1.000000\n",
       "10               3.581354\n",
       "11               3.558173\n",
       "12               1.955343\n",
       "13               1.903724\n",
       "14               3.542222\n",
       "15               3.553964\n",
       "16               3.377114\n",
       "17               3.605512\n",
       "18               1.484414\n",
       "19               0.001774\n",
       "20               1.745011\n",
       "21               1.587283\n",
       "22               0.000156"
      ]
     },
     "execution_count": 125,
     "metadata": {},
     "output_type": "execute_result"
    }
   ],
   "source": [
    "(weekly_revenue.div(first_week_revenue))"
   ]
  },
  {
   "cell_type": "code",
   "execution_count": 130,
   "metadata": {},
   "outputs": [
    {
     "data": {
      "text/html": [
       "<div>\n",
       "<style scoped>\n",
       "    .dataframe tbody tr th:only-of-type {\n",
       "        vertical-align: middle;\n",
       "    }\n",
       "\n",
       "    .dataframe tbody tr th {\n",
       "        vertical-align: top;\n",
       "    }\n",
       "\n",
       "    .dataframe thead th {\n",
       "        text-align: right;\n",
       "    }\n",
       "</style>\n",
       "<table border=\"1\" class=\"dataframe\">\n",
       "  <thead>\n",
       "    <tr style=\"text-align: right;\">\n",
       "      <th></th>\n",
       "      <th>total_amount</th>\n",
       "    </tr>\n",
       "    <tr>\n",
       "      <th>pickup_week</th>\n",
       "      <th></th>\n",
       "    </tr>\n",
       "  </thead>\n",
       "  <tbody>\n",
       "    <tr>\n",
       "      <th>9</th>\n",
       "      <td>5.559190e+06</td>\n",
       "    </tr>\n",
       "    <tr>\n",
       "      <th>10</th>\n",
       "      <td>1.990943e+07</td>\n",
       "    </tr>\n",
       "    <tr>\n",
       "      <th>11</th>\n",
       "      <td>1.978056e+07</td>\n",
       "    </tr>\n",
       "    <tr>\n",
       "      <th>12</th>\n",
       "      <td>1.087013e+07</td>\n",
       "    </tr>\n",
       "    <tr>\n",
       "      <th>13</th>\n",
       "      <td>1.058316e+07</td>\n",
       "    </tr>\n",
       "    <tr>\n",
       "      <th>14</th>\n",
       "      <td>1.969189e+07</td>\n",
       "    </tr>\n",
       "    <tr>\n",
       "      <th>15</th>\n",
       "      <td>1.975716e+07</td>\n",
       "    </tr>\n",
       "    <tr>\n",
       "      <th>16</th>\n",
       "      <td>1.877402e+07</td>\n",
       "    </tr>\n",
       "    <tr>\n",
       "      <th>17</th>\n",
       "      <td>2.004373e+07</td>\n",
       "    </tr>\n",
       "    <tr>\n",
       "      <th>18</th>\n",
       "      <td>8.252139e+06</td>\n",
       "    </tr>\n",
       "    <tr>\n",
       "      <th>19</th>\n",
       "      <td>9.862850e+03</td>\n",
       "    </tr>\n",
       "    <tr>\n",
       "      <th>20</th>\n",
       "      <td>9.700851e+06</td>\n",
       "    </tr>\n",
       "    <tr>\n",
       "      <th>21</th>\n",
       "      <td>8.824011e+06</td>\n",
       "    </tr>\n",
       "    <tr>\n",
       "      <th>22</th>\n",
       "      <td>8.670900e+02</td>\n",
       "    </tr>\n",
       "  </tbody>\n",
       "</table>\n",
       "</div>"
      ],
      "text/plain": [
       "             total_amount\n",
       "pickup_week              \n",
       "9            5.559190e+06\n",
       "10           1.990943e+07\n",
       "11           1.978056e+07\n",
       "12           1.087013e+07\n",
       "13           1.058316e+07\n",
       "14           1.969189e+07\n",
       "15           1.975716e+07\n",
       "16           1.877402e+07\n",
       "17           2.004373e+07\n",
       "18           8.252139e+06\n",
       "19           9.862850e+03\n",
       "20           9.700851e+06\n",
       "21           8.824011e+06\n",
       "22           8.670900e+02"
      ]
     },
     "execution_count": 130,
     "metadata": {},
     "output_type": "execute_result"
    }
   ],
   "source": [
    "weekly_revenue.drop(columns='cwgr_revenue')"
   ]
  },
  {
   "cell_type": "code",
   "execution_count": 143,
   "metadata": {},
   "outputs": [],
   "source": [
    "weekly_revenue['base'] = weekly_revenue['total_amount'] / first_week_revenue\n",
    "weekly_revenue['power'] = 1 / (weekly_revenue.index - first_week)\n",
    "weekly_revenue['cwgr_revenue'] = 100 * ( weekly_revenue['base'].pow(weekly_revenue['power']) - 1 )"
   ]
  },
  {
   "cell_type": "code",
   "execution_count": 144,
   "metadata": {},
   "outputs": [
    {
     "data": {
      "text/html": [
       "<div>\n",
       "<style scoped>\n",
       "    .dataframe tbody tr th:only-of-type {\n",
       "        vertical-align: middle;\n",
       "    }\n",
       "\n",
       "    .dataframe tbody tr th {\n",
       "        vertical-align: top;\n",
       "    }\n",
       "\n",
       "    .dataframe thead th {\n",
       "        text-align: right;\n",
       "    }\n",
       "</style>\n",
       "<table border=\"1\" class=\"dataframe\">\n",
       "  <thead>\n",
       "    <tr style=\"text-align: right;\">\n",
       "      <th></th>\n",
       "      <th>total_amount</th>\n",
       "      <th>base</th>\n",
       "      <th>power</th>\n",
       "      <th>cwgr_revenue</th>\n",
       "    </tr>\n",
       "    <tr>\n",
       "      <th>pickup_week</th>\n",
       "      <th></th>\n",
       "      <th></th>\n",
       "      <th></th>\n",
       "      <th></th>\n",
       "    </tr>\n",
       "  </thead>\n",
       "  <tbody>\n",
       "    <tr>\n",
       "      <th>9</th>\n",
       "      <td>5.559190e+06</td>\n",
       "      <td>1.000000</td>\n",
       "      <td>inf</td>\n",
       "      <td>0.000000</td>\n",
       "    </tr>\n",
       "    <tr>\n",
       "      <th>10</th>\n",
       "      <td>1.990943e+07</td>\n",
       "      <td>3.581354</td>\n",
       "      <td>1.000000</td>\n",
       "      <td>258.135408</td>\n",
       "    </tr>\n",
       "    <tr>\n",
       "      <th>11</th>\n",
       "      <td>1.978056e+07</td>\n",
       "      <td>3.558173</td>\n",
       "      <td>0.500000</td>\n",
       "      <td>88.631192</td>\n",
       "    </tr>\n",
       "    <tr>\n",
       "      <th>12</th>\n",
       "      <td>1.087013e+07</td>\n",
       "      <td>1.955343</td>\n",
       "      <td>0.333333</td>\n",
       "      <td>25.047308</td>\n",
       "    </tr>\n",
       "    <tr>\n",
       "      <th>13</th>\n",
       "      <td>1.058316e+07</td>\n",
       "      <td>1.903724</td>\n",
       "      <td>0.250000</td>\n",
       "      <td>17.462971</td>\n",
       "    </tr>\n",
       "    <tr>\n",
       "      <th>14</th>\n",
       "      <td>1.969189e+07</td>\n",
       "      <td>3.542222</td>\n",
       "      <td>0.200000</td>\n",
       "      <td>28.781995</td>\n",
       "    </tr>\n",
       "    <tr>\n",
       "      <th>15</th>\n",
       "      <td>1.975716e+07</td>\n",
       "      <td>3.553964</td>\n",
       "      <td>0.166667</td>\n",
       "      <td>23.533715</td>\n",
       "    </tr>\n",
       "    <tr>\n",
       "      <th>16</th>\n",
       "      <td>1.877402e+07</td>\n",
       "      <td>3.377114</td>\n",
       "      <td>0.142857</td>\n",
       "      <td>18.988924</td>\n",
       "    </tr>\n",
       "    <tr>\n",
       "      <th>17</th>\n",
       "      <td>2.004373e+07</td>\n",
       "      <td>3.605512</td>\n",
       "      <td>0.125000</td>\n",
       "      <td>17.387234</td>\n",
       "    </tr>\n",
       "    <tr>\n",
       "      <th>18</th>\n",
       "      <td>8.252139e+06</td>\n",
       "      <td>1.484414</td>\n",
       "      <td>0.111111</td>\n",
       "      <td>4.486857</td>\n",
       "    </tr>\n",
       "    <tr>\n",
       "      <th>19</th>\n",
       "      <td>9.862850e+03</td>\n",
       "      <td>0.001774</td>\n",
       "      <td>0.100000</td>\n",
       "      <td>-46.923890</td>\n",
       "    </tr>\n",
       "    <tr>\n",
       "      <th>20</th>\n",
       "      <td>9.700851e+06</td>\n",
       "      <td>1.745011</td>\n",
       "      <td>0.090909</td>\n",
       "      <td>5.191745</td>\n",
       "    </tr>\n",
       "    <tr>\n",
       "      <th>21</th>\n",
       "      <td>8.824011e+06</td>\n",
       "      <td>1.587283</td>\n",
       "      <td>0.083333</td>\n",
       "      <td>3.925281</td>\n",
       "    </tr>\n",
       "    <tr>\n",
       "      <th>22</th>\n",
       "      <td>8.670900e+02</td>\n",
       "      <td>0.000156</td>\n",
       "      <td>0.076923</td>\n",
       "      <td>-49.048392</td>\n",
       "    </tr>\n",
       "  </tbody>\n",
       "</table>\n",
       "</div>"
      ],
      "text/plain": [
       "             total_amount      base     power  cwgr_revenue\n",
       "pickup_week                                                \n",
       "9            5.559190e+06  1.000000       inf      0.000000\n",
       "10           1.990943e+07  3.581354  1.000000    258.135408\n",
       "11           1.978056e+07  3.558173  0.500000     88.631192\n",
       "12           1.087013e+07  1.955343  0.333333     25.047308\n",
       "13           1.058316e+07  1.903724  0.250000     17.462971\n",
       "14           1.969189e+07  3.542222  0.200000     28.781995\n",
       "15           1.975716e+07  3.553964  0.166667     23.533715\n",
       "16           1.877402e+07  3.377114  0.142857     18.988924\n",
       "17           2.004373e+07  3.605512  0.125000     17.387234\n",
       "18           8.252139e+06  1.484414  0.111111      4.486857\n",
       "19           9.862850e+03  0.001774  0.100000    -46.923890\n",
       "20           9.700851e+06  1.745011  0.090909      5.191745\n",
       "21           8.824011e+06  1.587283  0.083333      3.925281\n",
       "22           8.670900e+02  0.000156  0.076923    -49.048392"
      ]
     },
     "execution_count": 144,
     "metadata": {},
     "output_type": "execute_result"
    }
   ],
   "source": [
    "weekly_revenue"
   ]
  },
  {
   "cell_type": "code",
   "execution_count": 147,
   "metadata": {},
   "outputs": [],
   "source": [
    "weekly_trips['base'] = weekly_trips['total_amount'] / first_week_trips\n",
    "weekly_trips['power'] = 1 / (weekly_trips.index - first_week)\n",
    "weekly_trips['cwgr_trips'] = 100 * ( weekly_trips['base'].pow(weekly_trips['power']) - 1 )"
   ]
  },
  {
   "cell_type": "code",
   "execution_count": 148,
   "metadata": {},
   "outputs": [
    {
     "data": {
      "text/html": [
       "<div>\n",
       "<style scoped>\n",
       "    .dataframe tbody tr th:only-of-type {\n",
       "        vertical-align: middle;\n",
       "    }\n",
       "\n",
       "    .dataframe tbody tr th {\n",
       "        vertical-align: top;\n",
       "    }\n",
       "\n",
       "    .dataframe thead th {\n",
       "        text-align: right;\n",
       "    }\n",
       "</style>\n",
       "<table border=\"1\" class=\"dataframe\">\n",
       "  <thead>\n",
       "    <tr style=\"text-align: right;\">\n",
       "      <th></th>\n",
       "      <th>total_amount</th>\n",
       "      <th>base</th>\n",
       "      <th>power</th>\n",
       "      <th>cwgr_revenue</th>\n",
       "      <th>cwgr_trips</th>\n",
       "    </tr>\n",
       "    <tr>\n",
       "      <th>pickup_week</th>\n",
       "      <th></th>\n",
       "      <th></th>\n",
       "      <th></th>\n",
       "      <th></th>\n",
       "      <th></th>\n",
       "    </tr>\n",
       "  </thead>\n",
       "  <tbody>\n",
       "    <tr>\n",
       "      <th>9</th>\n",
       "      <td>388102</td>\n",
       "      <td>1.000000</td>\n",
       "      <td>inf</td>\n",
       "      <td>0.000000</td>\n",
       "      <td>0.000000</td>\n",
       "    </tr>\n",
       "    <tr>\n",
       "      <th>10</th>\n",
       "      <td>1365037</td>\n",
       "      <td>3.517212</td>\n",
       "      <td>1.000000</td>\n",
       "      <td>251.721197</td>\n",
       "      <td>251.721197</td>\n",
       "    </tr>\n",
       "    <tr>\n",
       "      <th>11</th>\n",
       "      <td>1336935</td>\n",
       "      <td>3.444803</td>\n",
       "      <td>0.500000</td>\n",
       "      <td>85.601810</td>\n",
       "      <td>85.601810</td>\n",
       "    </tr>\n",
       "    <tr>\n",
       "      <th>12</th>\n",
       "      <td>711705</td>\n",
       "      <td>1.833809</td>\n",
       "      <td>0.333333</td>\n",
       "      <td>22.400928</td>\n",
       "      <td>22.400928</td>\n",
       "    </tr>\n",
       "    <tr>\n",
       "      <th>13</th>\n",
       "      <td>719426</td>\n",
       "      <td>1.853703</td>\n",
       "      <td>0.250000</td>\n",
       "      <td>16.683665</td>\n",
       "      <td>16.683665</td>\n",
       "    </tr>\n",
       "    <tr>\n",
       "      <th>14</th>\n",
       "      <td>1314353</td>\n",
       "      <td>3.386617</td>\n",
       "      <td>0.200000</td>\n",
       "      <td>27.630135</td>\n",
       "      <td>27.630135</td>\n",
       "    </tr>\n",
       "    <tr>\n",
       "      <th>15</th>\n",
       "      <td>1309522</td>\n",
       "      <td>3.374170</td>\n",
       "      <td>0.166667</td>\n",
       "      <td>22.469465</td>\n",
       "      <td>22.469465</td>\n",
       "    </tr>\n",
       "    <tr>\n",
       "      <th>16</th>\n",
       "      <td>1272141</td>\n",
       "      <td>3.277852</td>\n",
       "      <td>0.142857</td>\n",
       "      <td>18.482886</td>\n",
       "      <td>18.482886</td>\n",
       "    </tr>\n",
       "    <tr>\n",
       "      <th>17</th>\n",
       "      <td>1310296</td>\n",
       "      <td>3.376164</td>\n",
       "      <td>0.125000</td>\n",
       "      <td>16.426795</td>\n",
       "      <td>16.426795</td>\n",
       "    </tr>\n",
       "    <tr>\n",
       "      <th>18</th>\n",
       "      <td>542002</td>\n",
       "      <td>1.396545</td>\n",
       "      <td>0.111111</td>\n",
       "      <td>3.780850</td>\n",
       "      <td>3.780850</td>\n",
       "    </tr>\n",
       "    <tr>\n",
       "      <th>19</th>\n",
       "      <td>780</td>\n",
       "      <td>0.002010</td>\n",
       "      <td>0.100000</td>\n",
       "      <td>-46.257870</td>\n",
       "      <td>-46.257870</td>\n",
       "    </tr>\n",
       "    <tr>\n",
       "      <th>20</th>\n",
       "      <td>621566</td>\n",
       "      <td>1.601553</td>\n",
       "      <td>0.090909</td>\n",
       "      <td>4.374563</td>\n",
       "      <td>4.374563</td>\n",
       "    </tr>\n",
       "    <tr>\n",
       "      <th>21</th>\n",
       "      <td>564306</td>\n",
       "      <td>1.454015</td>\n",
       "      <td>0.083333</td>\n",
       "      <td>3.168567</td>\n",
       "      <td>3.168567</td>\n",
       "    </tr>\n",
       "    <tr>\n",
       "      <th>22</th>\n",
       "      <td>50</td>\n",
       "      <td>0.000129</td>\n",
       "      <td>0.076923</td>\n",
       "      <td>-49.792212</td>\n",
       "      <td>-49.792212</td>\n",
       "    </tr>\n",
       "  </tbody>\n",
       "</table>\n",
       "</div>"
      ],
      "text/plain": [
       "             total_amount      base     power  cwgr_revenue  cwgr_trips\n",
       "pickup_week                                                            \n",
       "9                  388102  1.000000       inf      0.000000    0.000000\n",
       "10                1365037  3.517212  1.000000    251.721197  251.721197\n",
       "11                1336935  3.444803  0.500000     85.601810   85.601810\n",
       "12                 711705  1.833809  0.333333     22.400928   22.400928\n",
       "13                 719426  1.853703  0.250000     16.683665   16.683665\n",
       "14                1314353  3.386617  0.200000     27.630135   27.630135\n",
       "15                1309522  3.374170  0.166667     22.469465   22.469465\n",
       "16                1272141  3.277852  0.142857     18.482886   18.482886\n",
       "17                1310296  3.376164  0.125000     16.426795   16.426795\n",
       "18                 542002  1.396545  0.111111      3.780850    3.780850\n",
       "19                    780  0.002010  0.100000    -46.257870  -46.257870\n",
       "20                 621566  1.601553  0.090909      4.374563    4.374563\n",
       "21                 564306  1.454015  0.083333      3.168567    3.168567\n",
       "22                     50  0.000129  0.076923    -49.792212  -49.792212"
      ]
     },
     "execution_count": 148,
     "metadata": {},
     "output_type": "execute_result"
    }
   ],
   "source": [
    "weekly_trips"
   ]
  },
  {
   "cell_type": "code",
   "execution_count": 170,
   "metadata": {
    "scrolled": true
   },
   "outputs": [
    {
     "data": {
      "text/plain": [
       "Series([], Name: cwgr_trips, dtype: float64)"
      ]
     },
     "execution_count": 170,
     "metadata": {},
     "output_type": "execute_result"
    }
   ],
   "source": [
    "cwgr_trips[18:20]"
   ]
  },
  {
   "cell_type": "code",
   "execution_count": 182,
   "metadata": {},
   "outputs": [
    {
     "data": {
      "text/plain": [
       "pickup_week\n",
       "18     3.780850\n",
       "19   -46.257870\n",
       "20     4.374563\n",
       "Name: cwgr_trips, dtype: float64"
      ]
     },
     "execution_count": 182,
     "metadata": {},
     "output_type": "execute_result"
    }
   ],
   "source": [
    "cwgr_trips.loc[18:20]"
   ]
  },
  {
   "cell_type": "code",
   "execution_count": 149,
   "metadata": {},
   "outputs": [],
   "source": [
    "cwgr_revenue = weekly_revenue['cwgr_revenue']\n",
    "cwgr_trips   = weekly_trips['cwgr_trips']"
   ]
  },
  {
   "cell_type": "code",
   "execution_count": 187,
   "metadata": {},
   "outputs": [
    {
     "data": {
      "image/png": "[encoded data removed]",
      "text/plain": [
       "<Figure size 1440x432 with 2 Axes>"
      ]
     },
     "metadata": {
      "needs_background": "light"
     },
     "output_type": "display_data"
    }
   ],
   "source": [
    "plt.figure(figsize=(20,6))\n",
    "plt.title('CWGR Compound Weekly Growth Rate: Revenue & Trips  ‖  Mar-May 2014')\n",
    "ax = sns.lineplot(data=cwgr_revenue, legend=False, color='b')\n",
    "sns.lineplot(data=cwgr_revenue.loc[18:20], legend=False, color='r')\n",
    "sns.lineplot(data=cwgr_revenue.loc[21:22], legend=False, color='r')\n",
    "ax2 = plt.twinx()\n",
    "sns.lineplot(data=cwgr_trips, ax=ax2, legend=False, color='g')\n",
    "sns.lineplot(data=cwgr_trips.loc[18:20], ax=ax2, legend=False, color='r')\n",
    "sns.lineplot(data=cwgr_trips.loc[21:22], ax=ax2, legend=False, color='r')\n",
    "\n",
    "ax.axhline(y=0, color='k')\n",
    "ax.figure.legend(['Revenue', 'Trips'])\n",
    "\n",
    "#xlabels = ''\n",
    "#ax.set_xticklabels(xlabels)\n",
    "\n",
    "plt.show()"
   ]
  }
 ],
 "metadata": {
  "kernelspec": {
   "display_name": "Python 3",
   "language": "python",
   "name": "python3"
  },
  "language_info": {
   "codemirror_mode": {
    "name": "ipython",
    "version": 3
   },
   "file_extension": ".py",
   "mimetype": "text/x-python",
   "name": "python",
   "nbconvert_exporter": "python",
   "pygments_lexer": "ipython3",
   "version": "3.8.5"
  }
 },
 "nbformat": 4,
 "nbformat_minor": 4
}
