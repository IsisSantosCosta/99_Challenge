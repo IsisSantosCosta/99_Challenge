{
 "cells": [
  {
   "cell_type": "markdown",
   "metadata": {},
   "source": [
    "<table style=\"width:100%\">\n",
    "  <tr style=\"background-color:#FFFFFF\">\n",
    "    <td style=\"width:10%\">\n",
    "        <img src=\"https://play-lh.googleusercontent.com/K9FC23HoIYy_idt3LL26zrzMchOGORVzLNmi3L5u-MaghdjpdgHAWv7wQlscNmo9wYjC=s180-rw\" alt=\"DiDi\" width=200></td>\n",
    "    <td style=\"width:10%\">\n",
    "        <img src=\"https://logodownload.org/wp-content/uploads/2019/05/99-app-logo.png\" alt=\"99\" width=200></td>\n",
    "      <td>\n",
    "          <h1 style=\"text-align:left; text-indent :2em;\">DATA EXTRACTION</h1>\n",
    "          <h2 style=\"text-align:left; text-indent :2.4em;\">ISIS SANTOS COSTA • 2020</h2>\n",
    "      </td>\n",
    "  </tr>\n",
    "</table>"
   ]
  },
  {
   "cell_type": "markdown",
   "metadata": {},
   "source": [
    "<i>Note: Dear Data Team, the coding below would be my choice (as a debuting pythonist) for a complete process from extraction through <b>[Transformation](99__DataTransformation.ipynb)</b> to </i>insights<i> all running in Python. It didn't seem practical though: retrieving takes forever, the connection closes at each query. I thus got the tables as csv via pgAdmin and...</i> #vamosquevamos."
   ]
  },
  {
   "cell_type": "markdown",
   "metadata": {},
   "source": [
    "## Exᴛʀᴀᴄᴛɪᴏɴ  •  Connecting to DB"
   ]
  },
  {
   "cell_type": "code",
   "execution_count": null,
   "metadata": {},
   "outputs": [],
   "source": [
    "import psycopg2"
   ]
  },
  {
   "cell_type": "code",
   "execution_count": null,
   "metadata": {},
   "outputs": [],
   "source": [
    "conn = psycopg2.connect(\n",
    "    host='challenge-99.cdu4dk9fjcht.us-east-1.rds.amazonaws.com',\n",
    "    port='5432',\n",
    "    database='challenge',\n",
    "    user='candidate',\n",
    "    password='99rules'\n",
    ")"
   ]
  },
  {
   "cell_type": "code",
   "execution_count": null,
   "metadata": {},
   "outputs": [],
   "source": [
    "conn"
   ]
  },
  {
   "cell_type": "markdown",
   "metadata": {},
   "source": [
    "## Exᴛʀᴀᴄᴛɪᴏɴ  •  From DB into DF"
   ]
  },
  {
   "cell_type": "code",
   "execution_count": null,
   "metadata": {},
   "outputs": [],
   "source": [
    "import pandas as pd"
   ]
  },
  {
   "cell_type": "code",
   "execution_count": null,
   "metadata": {},
   "outputs": [],
   "source": [
    "SQL_Query = pd.read_sql('SELECT * FROM orders', conn)\n",
    "df_orders = pd.DataFrame(SQL_Query, columns=['order_id','pickup_datetime','pickup_longitude','pickup_latitude','payment_type','passenger_id'])"
   ]
  },
  {
   "cell_type": "code",
   "execution_count": null,
   "metadata": {},
   "outputs": [],
   "source": [
    "df_orders.head()"
   ]
  },
  {
   "cell_type": "code",
   "execution_count": null,
   "metadata": {},
   "outputs": [],
   "source": [
    "conn.close()"
   ]
  },
  {
   "cell_type": "code",
   "execution_count": null,
   "metadata": {},
   "outputs": [],
   "source": [
    "SQL_Query = pd.read_sql_query('SELECT * FROM orders', conn)\n",
    "df_orders = pd.DataFrame(SQL_Query, columns=['order_id','pickup_datetime','pickup_longitude','pickup_latitude','payment_type','passenger_id'])"
   ]
  },
  {
   "cell_type": "code",
   "execution_count": null,
   "metadata": {},
   "outputs": [],
   "source": [
    "SQL_Query = pd.read_sql_query('SELECT * FROM trips', conn)\n",
    "df_trips = pd.DataFrame(SQL_Query, columns=['order_id','pickup_datetime','dropoff_datetime','trip_distance','pickup_longitude','pickup_latitude','rate_code','dropoff_longitude','dropoff_latitude','payment_type','fare_amount','tip_amount','total_amount','passenger_id'])"
   ]
  },
  {
   "cell_type": "code",
   "execution_count": null,
   "metadata": {
    "scrolled": true
   },
   "outputs": [],
   "source": [
    "df_trips.head()"
   ]
  },
  {
   "cell_type": "markdown",
   "metadata": {},
   "source": [
    "## Exᴛʀᴀᴄᴛɪᴏɴ  •  DF into CSV"
   ]
  },
  {
   "cell_type": "code",
   "execution_count": null,
   "metadata": {},
   "outputs": [],
   "source": [
    "df_orders.to_csv('orders.csv')"
   ]
  },
  {
   "cell_type": "code",
   "execution_count": null,
   "metadata": {},
   "outputs": [],
   "source": [
    "df_trips.to_csv('trips.csv')"
   ]
  },
  {
   "cell_type": "markdown",
   "metadata": {},
   "source": [
    "## Nᴇxᴛ: [Transformation](99__DataTransformation.ipynb)"
   ]
  }
 ],
 "metadata": {
  "kernelspec": {
   "display_name": "Python 3",
   "language": "python",
   "name": "python3"
  },
  "language_info": {
   "codemirror_mode": {
    "name": "ipython",
    "version": 3
   },
   "file_extension": ".py",
   "mimetype": "text/x-python",
   "name": "python",
   "nbconvert_exporter": "python",
   "pygments_lexer": "ipython3",
   "version": "3.8.5"
  }
 },
 "nbformat": 4,
 "nbformat_minor": 4
}
