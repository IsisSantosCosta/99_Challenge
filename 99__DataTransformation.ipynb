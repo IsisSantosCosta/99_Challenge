{
 "cells": [
  {
   "cell_type": "markdown",
   "metadata": {},
   "source": [
    "<table style=\"width:100%\">\n",
    "  <tr style=\"background-color:#FFFFFF\">\n",
    "    <td style=\"width:10%\">\n",
    "        <img src=\"https://play-lh.googleusercontent.com/K9FC23HoIYy_idt3LL26zrzMchOGORVzLNmi3L5u-MaghdjpdgHAWv7wQlscNmo9wYjC=s180-rw\" alt=\"DiDi\" width=120></td>\n",
    "    <td style=\"width:10%\">\n",
    "        <img src=\"https://logodownload.org/wp-content/uploads/2019/05/99-app-logo.png\" alt=\"99\" width=120></td>\n",
    "      <td>\n",
    "          <h1 style=\"text-align:left; text-indent :2em;\">DATA TRANSFORMATION</h1>\n",
    "          <h2 style=\"text-align:left; text-indent :2.4em;\">ISIS SANTOS COSTA • 2020</h2>\n",
    "      </td>\n",
    "  </tr>\n",
    "</table>"
   ]
  },
  {
   "cell_type": "markdown",
   "metadata": {},
   "source": [
    "## Tʀᴀɴsғᴏʀᴍᴀᴛɪᴏɴ  •  Setting the DataFrames"
   ]
  },
  {
   "cell_type": "code",
   "execution_count": 1,
   "metadata": {},
   "outputs": [],
   "source": [
    "import pandas as pd"
   ]
  },
  {
   "cell_type": "code",
   "execution_count": 2,
   "metadata": {},
   "outputs": [],
   "source": [
    "df_orders = pd.read_csv('orders.csv')\n",
    "df_trips = pd.read_csv('trips.csv')"
   ]
  },
  {
   "cell_type": "markdown",
   "metadata": {},
   "source": [
    "### Taking a first look"
   ]
  },
  {
   "cell_type": "code",
   "execution_count": 3,
   "metadata": {},
   "outputs": [
    {
     "data": {
      "text/html": [
       "<div>\n",
       "<style scoped>\n",
       "    .dataframe tbody tr th:only-of-type {\n",
       "        vertical-align: middle;\n",
       "    }\n",
       "\n",
       "    .dataframe tbody tr th {\n",
       "        vertical-align: top;\n",
       "    }\n",
       "\n",
       "    .dataframe thead th {\n",
       "        text-align: right;\n",
       "    }\n",
       "</style>\n",
       "<table border=\"1\" class=\"dataframe\">\n",
       "  <thead>\n",
       "    <tr style=\"text-align: right;\">\n",
       "      <th></th>\n",
       "      <th>6433697</th>\n",
       "      <th>5234567816269547</th>\n",
       "      <th>2014-04-11 18:06:45</th>\n",
       "      <th>-74.015684</th>\n",
       "      <th>40.714476</th>\n",
       "      <th>CRD</th>\n",
       "    </tr>\n",
       "  </thead>\n",
       "  <tbody>\n",
       "    <tr>\n",
       "      <th>0</th>\n",
       "      <td>6433698</td>\n",
       "      <td>5234567812367422</td>\n",
       "      <td>2014-04-12 00:20:28</td>\n",
       "      <td>-73.958403</td>\n",
       "      <td>40.713247</td>\n",
       "      <td>CRD</td>\n",
       "    </tr>\n",
       "  </tbody>\n",
       "</table>\n",
       "</div>"
      ],
      "text/plain": [
       "   6433697  5234567816269547  2014-04-11 18:06:45  -74.015684  40.714476  CRD\n",
       "0  6433698  5234567812367422  2014-04-12 00:20:28  -73.958403  40.713247  CRD"
      ]
     },
     "execution_count": 3,
     "metadata": {},
     "output_type": "execute_result"
    }
   ],
   "source": [
    "df_orders.head(1)"
   ]
  },
  {
   "cell_type": "code",
   "execution_count": 4,
   "metadata": {},
   "outputs": [
    {
     "data": {
      "text/html": [
       "<div>\n",
       "<style scoped>\n",
       "    .dataframe tbody tr th:only-of-type {\n",
       "        vertical-align: middle;\n",
       "    }\n",
       "\n",
       "    .dataframe tbody tr th {\n",
       "        vertical-align: top;\n",
       "    }\n",
       "\n",
       "    .dataframe thead th {\n",
       "        text-align: right;\n",
       "    }\n",
       "</style>\n",
       "<table border=\"1\" class=\"dataframe\">\n",
       "  <thead>\n",
       "    <tr style=\"text-align: right;\">\n",
       "      <th></th>\n",
       "      <th>718300</th>\n",
       "      <th>2014-05-24 09:08:43</th>\n",
       "      <th>2014-05-24 09:19:06</th>\n",
       "      <th>2.1</th>\n",
       "      <th>-73.967172</th>\n",
       "      <th>40.769851</th>\n",
       "      <th>1</th>\n",
       "      <th>-73.995022</th>\n",
       "      <th>40.765441</th>\n",
       "      <th>CRD</th>\n",
       "      <th>9.5</th>\n",
       "      <th>2.5</th>\n",
       "      <th>12.5</th>\n",
       "      <th>5234567815585627</th>\n",
       "      <th>5234567812346342</th>\n",
       "    </tr>\n",
       "  </thead>\n",
       "  <tbody>\n",
       "    <tr>\n",
       "      <th>0</th>\n",
       "      <td>14054197</td>\n",
       "      <td>2014-04-10 15:14:12</td>\n",
       "      <td>2014-04-10 15:49:05</td>\n",
       "      <td>12.4</td>\n",
       "      <td>-73.991044</td>\n",
       "      <td>40.749704</td>\n",
       "      <td>1</td>\n",
       "      <td>-73.909173</td>\n",
       "      <td>40.8235</td>\n",
       "      <td>CSH</td>\n",
       "      <td>39.0</td>\n",
       "      <td>0.0</td>\n",
       "      <td>39.5</td>\n",
       "      <td>5234567812372271</td>\n",
       "      <td>5234567812379863</td>\n",
       "    </tr>\n",
       "  </tbody>\n",
       "</table>\n",
       "</div>"
      ],
      "text/plain": [
       "     718300  2014-05-24 09:08:43  2014-05-24 09:19:06   2.1  -73.967172  \\\n",
       "0  14054197  2014-04-10 15:14:12  2014-04-10 15:49:05  12.4  -73.991044   \n",
       "\n",
       "   40.769851  1  -73.995022  40.765441  CRD   9.5  2.5  12.5  \\\n",
       "0  40.749704  1  -73.909173    40.8235  CSH  39.0  0.0  39.5   \n",
       "\n",
       "   5234567815585627  5234567812346342  \n",
       "0  5234567812372271  5234567812379863  "
      ]
     },
     "execution_count": 4,
     "metadata": {},
     "output_type": "execute_result"
    }
   ],
   "source": [
    "df_trips.head(1)"
   ]
  },
  {
   "cell_type": "markdown",
   "metadata": {},
   "source": [
    "### Naming the columns"
   ]
  },
  {
   "cell_type": "code",
   "execution_count": 5,
   "metadata": {},
   "outputs": [],
   "source": [
    "df_orders_cols = ['order_id','passenger_id','pickup_datetime','pickup_longitude','pickup_latitude','payment_type']\n",
    "df_orders = pd.read_csv('orders.csv', names = df_orders_cols)"
   ]
  },
  {
   "cell_type": "code",
   "execution_count": 6,
   "metadata": {},
   "outputs": [
    {
     "data": {
      "text/html": [
       "<div>\n",
       "<style scoped>\n",
       "    .dataframe tbody tr th:only-of-type {\n",
       "        vertical-align: middle;\n",
       "    }\n",
       "\n",
       "    .dataframe tbody tr th {\n",
       "        vertical-align: top;\n",
       "    }\n",
       "\n",
       "    .dataframe thead th {\n",
       "        text-align: right;\n",
       "    }\n",
       "</style>\n",
       "<table border=\"1\" class=\"dataframe\">\n",
       "  <thead>\n",
       "    <tr style=\"text-align: right;\">\n",
       "      <th></th>\n",
       "      <th>order_id</th>\n",
       "      <th>passenger_id</th>\n",
       "      <th>pickup_datetime</th>\n",
       "      <th>pickup_longitude</th>\n",
       "      <th>pickup_latitude</th>\n",
       "      <th>payment_type</th>\n",
       "    </tr>\n",
       "  </thead>\n",
       "  <tbody>\n",
       "    <tr>\n",
       "      <th>0</th>\n",
       "      <td>6433697</td>\n",
       "      <td>5234567816269547</td>\n",
       "      <td>2014-04-11 18:06:45</td>\n",
       "      <td>-74.015684</td>\n",
       "      <td>40.714476</td>\n",
       "      <td>CRD</td>\n",
       "    </tr>\n",
       "  </tbody>\n",
       "</table>\n",
       "</div>"
      ],
      "text/plain": [
       "   order_id      passenger_id      pickup_datetime  pickup_longitude  \\\n",
       "0   6433697  5234567816269547  2014-04-11 18:06:45        -74.015684   \n",
       "\n",
       "   pickup_latitude payment_type  \n",
       "0        40.714476          CRD  "
      ]
     },
     "execution_count": 6,
     "metadata": {},
     "output_type": "execute_result"
    }
   ],
   "source": [
    "df_orders.head(1)"
   ]
  },
  {
   "cell_type": "code",
   "execution_count": 7,
   "metadata": {},
   "outputs": [],
   "source": [
    "df_trips_cols = ['order_id','pickup_datetime','dropoff_datetime','trip_distance','pickup_longitude','pickup_latitude','rate_code','dropoff_longitude','dropoff_latitude','payment_type','fare_amount','tip_amount','total_amount','passenger_id1','passenger_id2']\n",
    "df_trips = pd.read_csv('trips.csv', names = df_trips_cols)"
   ]
  },
  {
   "cell_type": "code",
   "execution_count": 8,
   "metadata": {},
   "outputs": [
    {
     "data": {
      "text/html": [
       "<div>\n",
       "<style scoped>\n",
       "    .dataframe tbody tr th:only-of-type {\n",
       "        vertical-align: middle;\n",
       "    }\n",
       "\n",
       "    .dataframe tbody tr th {\n",
       "        vertical-align: top;\n",
       "    }\n",
       "\n",
       "    .dataframe thead th {\n",
       "        text-align: right;\n",
       "    }\n",
       "</style>\n",
       "<table border=\"1\" class=\"dataframe\">\n",
       "  <thead>\n",
       "    <tr style=\"text-align: right;\">\n",
       "      <th></th>\n",
       "      <th>order_id</th>\n",
       "      <th>pickup_datetime</th>\n",
       "      <th>dropoff_datetime</th>\n",
       "      <th>trip_distance</th>\n",
       "      <th>pickup_longitude</th>\n",
       "      <th>pickup_latitude</th>\n",
       "      <th>rate_code</th>\n",
       "      <th>dropoff_longitude</th>\n",
       "      <th>dropoff_latitude</th>\n",
       "      <th>payment_type</th>\n",
       "      <th>fare_amount</th>\n",
       "      <th>tip_amount</th>\n",
       "      <th>total_amount</th>\n",
       "      <th>passenger_id1</th>\n",
       "      <th>passenger_id2</th>\n",
       "    </tr>\n",
       "  </thead>\n",
       "  <tbody>\n",
       "    <tr>\n",
       "      <th>0</th>\n",
       "      <td>718300</td>\n",
       "      <td>2014-05-24 09:08:43</td>\n",
       "      <td>2014-05-24 09:19:06</td>\n",
       "      <td>2.1</td>\n",
       "      <td>-73.967172</td>\n",
       "      <td>40.769851</td>\n",
       "      <td>1</td>\n",
       "      <td>-73.995022</td>\n",
       "      <td>40.765441</td>\n",
       "      <td>CRD</td>\n",
       "      <td>9.5</td>\n",
       "      <td>2.5</td>\n",
       "      <td>12.5</td>\n",
       "      <td>5234567815585627</td>\n",
       "      <td>5234567812346342</td>\n",
       "    </tr>\n",
       "  </tbody>\n",
       "</table>\n",
       "</div>"
      ],
      "text/plain": [
       "   order_id      pickup_datetime     dropoff_datetime  trip_distance  \\\n",
       "0    718300  2014-05-24 09:08:43  2014-05-24 09:19:06            2.1   \n",
       "\n",
       "   pickup_longitude  pickup_latitude  rate_code  dropoff_longitude  \\\n",
       "0        -73.967172        40.769851          1         -73.995022   \n",
       "\n",
       "   dropoff_latitude payment_type  fare_amount  tip_amount  total_amount  \\\n",
       "0         40.765441          CRD          9.5         2.5          12.5   \n",
       "\n",
       "      passenger_id1     passenger_id2  \n",
       "0  5234567815585627  5234567812346342  "
      ]
     },
     "execution_count": 8,
     "metadata": {},
     "output_type": "execute_result"
    }
   ],
   "source": [
    "df_trips.head(1)"
   ]
  },
  {
   "cell_type": "markdown",
   "metadata": {},
   "source": [
    "### Basic inter-table consistency"
   ]
  },
  {
   "cell_type": "markdown",
   "metadata": {},
   "source": [
    "<i>Note: There should be a single passenger_id for each trip, buuuut... there are two! </i>🤔<i> Hm...\n",
    "<br> Well... let's check which one is matches the one for the same order_id in 'orders', and drop the other.</i>\n"
   ]
  },
  {
   "cell_type": "code",
   "execution_count": 9,
   "metadata": {},
   "outputs": [
    {
     "data": {
      "text/html": [
       "<div>\n",
       "<style scoped>\n",
       "    .dataframe tbody tr th:only-of-type {\n",
       "        vertical-align: middle;\n",
       "    }\n",
       "\n",
       "    .dataframe tbody tr th {\n",
       "        vertical-align: top;\n",
       "    }\n",
       "\n",
       "    .dataframe thead th {\n",
       "        text-align: right;\n",
       "    }\n",
       "</style>\n",
       "<table border=\"1\" class=\"dataframe\">\n",
       "  <thead>\n",
       "    <tr style=\"text-align: right;\">\n",
       "      <th></th>\n",
       "      <th>order_id</th>\n",
       "      <th>passenger_id</th>\n",
       "      <th>pickup_datetime</th>\n",
       "      <th>pickup_longitude</th>\n",
       "      <th>pickup_latitude</th>\n",
       "      <th>payment_type</th>\n",
       "    </tr>\n",
       "  </thead>\n",
       "  <tbody>\n",
       "    <tr>\n",
       "      <th>0</th>\n",
       "      <td>6433697</td>\n",
       "      <td>5234567816269547</td>\n",
       "      <td>2014-04-11 18:06:45</td>\n",
       "      <td>-74.015684</td>\n",
       "      <td>40.714476</td>\n",
       "      <td>CRD</td>\n",
       "    </tr>\n",
       "  </tbody>\n",
       "</table>\n",
       "</div>"
      ],
      "text/plain": [
       "   order_id      passenger_id      pickup_datetime  pickup_longitude  \\\n",
       "0   6433697  5234567816269547  2014-04-11 18:06:45        -74.015684   \n",
       "\n",
       "   pickup_latitude payment_type  \n",
       "0        40.714476          CRD  "
      ]
     },
     "execution_count": 9,
     "metadata": {},
     "output_type": "execute_result"
    }
   ],
   "source": [
    "df_orders.loc[df_orders['order_id'] == 6433697]"
   ]
  },
  {
   "cell_type": "code",
   "execution_count": 10,
   "metadata": {},
   "outputs": [
    {
     "data": {
      "text/html": [
       "<div>\n",
       "<style scoped>\n",
       "    .dataframe tbody tr th:only-of-type {\n",
       "        vertical-align: middle;\n",
       "    }\n",
       "\n",
       "    .dataframe tbody tr th {\n",
       "        vertical-align: top;\n",
       "    }\n",
       "\n",
       "    .dataframe thead th {\n",
       "        text-align: right;\n",
       "    }\n",
       "</style>\n",
       "<table border=\"1\" class=\"dataframe\">\n",
       "  <thead>\n",
       "    <tr style=\"text-align: right;\">\n",
       "      <th></th>\n",
       "      <th>order_id</th>\n",
       "      <th>pickup_datetime</th>\n",
       "      <th>dropoff_datetime</th>\n",
       "      <th>trip_distance</th>\n",
       "      <th>pickup_longitude</th>\n",
       "      <th>pickup_latitude</th>\n",
       "      <th>rate_code</th>\n",
       "      <th>dropoff_longitude</th>\n",
       "      <th>dropoff_latitude</th>\n",
       "      <th>payment_type</th>\n",
       "      <th>fare_amount</th>\n",
       "      <th>tip_amount</th>\n",
       "      <th>total_amount</th>\n",
       "      <th>passenger_id1</th>\n",
       "      <th>passenger_id2</th>\n",
       "    </tr>\n",
       "  </thead>\n",
       "  <tbody>\n",
       "    <tr>\n",
       "      <th>4218614</th>\n",
       "      <td>6433697</td>\n",
       "      <td>2014-04-11 18:06:45</td>\n",
       "      <td>2014-04-11 18:18:19</td>\n",
       "      <td>1.6</td>\n",
       "      <td>-74.015684</td>\n",
       "      <td>40.714476</td>\n",
       "      <td>1</td>\n",
       "      <td>-74.000814</td>\n",
       "      <td>40.718173</td>\n",
       "      <td>CRD</td>\n",
       "      <td>9.5</td>\n",
       "      <td>2.2</td>\n",
       "      <td>13.2</td>\n",
       "      <td>5234567816269547</td>\n",
       "      <td>5234567812347954</td>\n",
       "    </tr>\n",
       "  </tbody>\n",
       "</table>\n",
       "</div>"
      ],
      "text/plain": [
       "         order_id      pickup_datetime     dropoff_datetime  trip_distance  \\\n",
       "4218614   6433697  2014-04-11 18:06:45  2014-04-11 18:18:19            1.6   \n",
       "\n",
       "         pickup_longitude  pickup_latitude  rate_code  dropoff_longitude  \\\n",
       "4218614        -74.015684        40.714476          1         -74.000814   \n",
       "\n",
       "         dropoff_latitude payment_type  fare_amount  tip_amount  total_amount  \\\n",
       "4218614         40.718173          CRD          9.5         2.2          13.2   \n",
       "\n",
       "            passenger_id1     passenger_id2  \n",
       "4218614  5234567816269547  5234567812347954  "
      ]
     },
     "execution_count": 10,
     "metadata": {},
     "output_type": "execute_result"
    }
   ],
   "source": [
    "df_trips.loc[df_trips['order_id'] == 6433697]"
   ]
  },
  {
   "cell_type": "markdown",
   "metadata": {},
   "source": [
    "👀 <i>We see that the 1<sup>st</sup> passenger ID is the one equal to that of the orders table, so let's rename it and drop the other.</i>"
   ]
  },
  {
   "cell_type": "code",
   "execution_count": 11,
   "metadata": {},
   "outputs": [
    {
     "data": {
      "text/html": [
       "<div>\n",
       "<style scoped>\n",
       "    .dataframe tbody tr th:only-of-type {\n",
       "        vertical-align: middle;\n",
       "    }\n",
       "\n",
       "    .dataframe tbody tr th {\n",
       "        vertical-align: top;\n",
       "    }\n",
       "\n",
       "    .dataframe thead th {\n",
       "        text-align: right;\n",
       "    }\n",
       "</style>\n",
       "<table border=\"1\" class=\"dataframe\">\n",
       "  <thead>\n",
       "    <tr style=\"text-align: right;\">\n",
       "      <th></th>\n",
       "      <th>order_id</th>\n",
       "      <th>pickup_datetime</th>\n",
       "      <th>dropoff_datetime</th>\n",
       "      <th>trip_distance</th>\n",
       "      <th>pickup_longitude</th>\n",
       "      <th>pickup_latitude</th>\n",
       "      <th>rate_code</th>\n",
       "      <th>dropoff_longitude</th>\n",
       "      <th>dropoff_latitude</th>\n",
       "      <th>payment_type</th>\n",
       "      <th>fare_amount</th>\n",
       "      <th>tip_amount</th>\n",
       "      <th>total_amount</th>\n",
       "      <th>passenger_id</th>\n",
       "    </tr>\n",
       "  </thead>\n",
       "  <tbody>\n",
       "    <tr>\n",
       "      <th>0</th>\n",
       "      <td>718300</td>\n",
       "      <td>2014-05-24 09:08:43</td>\n",
       "      <td>2014-05-24 09:19:06</td>\n",
       "      <td>2.1</td>\n",
       "      <td>-73.967172</td>\n",
       "      <td>40.769851</td>\n",
       "      <td>1</td>\n",
       "      <td>-73.995022</td>\n",
       "      <td>40.765441</td>\n",
       "      <td>CRD</td>\n",
       "      <td>9.5</td>\n",
       "      <td>2.5</td>\n",
       "      <td>12.5</td>\n",
       "      <td>5234567815585627</td>\n",
       "    </tr>\n",
       "  </tbody>\n",
       "</table>\n",
       "</div>"
      ],
      "text/plain": [
       "   order_id      pickup_datetime     dropoff_datetime  trip_distance  \\\n",
       "0    718300  2014-05-24 09:08:43  2014-05-24 09:19:06            2.1   \n",
       "\n",
       "   pickup_longitude  pickup_latitude  rate_code  dropoff_longitude  \\\n",
       "0        -73.967172        40.769851          1         -73.995022   \n",
       "\n",
       "   dropoff_latitude payment_type  fare_amount  tip_amount  total_amount  \\\n",
       "0         40.765441          CRD          9.5         2.5          12.5   \n",
       "\n",
       "       passenger_id  \n",
       "0  5234567815585627  "
      ]
     },
     "execution_count": 11,
     "metadata": {},
     "output_type": "execute_result"
    }
   ],
   "source": [
    "df_trips.rename(columns = {'passenger_id1': 'passenger_id'}, inplace = True)\n",
    "df_trips.drop('passenger_id2', inplace = True, axis = 1)\n",
    "df_trips.head(1)"
   ]
  },
  {
   "cell_type": "markdown",
   "metadata": {},
   "source": [
    "<i>Nice! Better now</i> 🙂  <i>Time to start checking closer.</i> 🔎"
   ]
  },
  {
   "cell_type": "markdown",
   "metadata": {},
   "source": [
    "## Tʀᴀɴsғᴏʀᴍᴀᴛɪᴏɴ  •  Checking & improving the data structure"
   ]
  },
  {
   "cell_type": "markdown",
   "metadata": {},
   "source": [
    "### Trips x Orders"
   ]
  },
  {
   "cell_type": "code",
   "execution_count": 12,
   "metadata": {},
   "outputs": [
    {
     "data": {
      "text/plain": [
       "(11456987, 14)"
      ]
     },
     "execution_count": 12,
     "metadata": {},
     "output_type": "execute_result"
    }
   ],
   "source": [
    "df_trips.shape"
   ]
  },
  {
   "cell_type": "code",
   "execution_count": 13,
   "metadata": {},
   "outputs": [
    {
     "data": {
      "text/plain": [
       "(15000000, 6)"
      ]
     },
     "execution_count": 13,
     "metadata": {},
     "output_type": "execute_result"
    }
   ],
   "source": [
    "df_orders.shape"
   ]
  },
  {
   "cell_type": "markdown",
   "metadata": {},
   "source": [
    "<i>From the length of the tables, we can get a 1<sup>st</sup> interesting number, the worst-case for the trips lost:</i> \n",
    "📏"
   ]
  },
  {
   "cell_type": "code",
   "execution_count": 14,
   "metadata": {
    "scrolled": true
   },
   "outputs": [
    {
     "name": "stdout",
     "output_type": "stream",
     "text": [
      "Potential trips lost, worst-case: \u001b[1m24%\n"
     ]
    }
   ],
   "source": [
    "print('Potential trips lost, worst-case:',  '\\033[1m' + '{:.0%}'.format(1-df_trips.shape[0]/df_orders.shape[0]))"
   ]
  },
  {
   "cell_type": "markdown",
   "metadata": {},
   "source": [
    " ( ◕︵◕ ) <i> That seems quite a lot... To be checked later.</i>"
   ]
  },
  {
   "cell_type": "markdown",
   "metadata": {},
   "source": [
    "### Payment type"
   ]
  },
  {
   "cell_type": "code",
   "execution_count": 15,
   "metadata": {
    "scrolled": true
   },
   "outputs": [
    {
     "data": {
      "text/plain": [
       "CRD    57.618107\n",
       "CSH    41.549827\n",
       "UNK     0.495213\n",
       "NOC     0.258573\n",
       "DIS     0.078280\n",
       "Name: payment_type, dtype: float64"
      ]
     },
     "execution_count": 15,
     "metadata": {},
     "output_type": "execute_result"
    }
   ],
   "source": [
    "100 * df_orders['payment_type'].value_counts() / len(df_orders)"
   ]
  },
  {
   "cell_type": "code",
   "execution_count": 16,
   "metadata": {},
   "outputs": [
    {
     "data": {
      "text/plain": [
       "CRD    57.602518\n",
       "CSH    41.564523\n",
       "UNK     0.496186\n",
       "NOC     0.258419\n",
       "DIS     0.078354\n",
       "Name: payment_type, dtype: float64"
      ]
     },
     "execution_count": 16,
     "metadata": {},
     "output_type": "execute_result"
    }
   ],
   "source": [
    "100 * df_trips['payment_type'].value_counts() / len(df_trips)"
   ]
  },
  {
   "cell_type": "markdown",
   "metadata": {},
   "source": [
    "### Rate type"
   ]
  },
  {
   "cell_type": "code",
   "execution_count": 17,
   "metadata": {},
   "outputs": [
    {
     "data": {
      "text/plain": [
       "1      97.725632\n",
       "2       1.812117\n",
       "5       0.266711\n",
       "3       0.155983\n",
       "4       0.031570\n",
       "0       0.006363\n",
       "6       0.001353\n",
       "210     0.000166\n",
       "8       0.000052\n",
       "65      0.000026\n",
       "208     0.000017\n",
       "28      0.000009\n",
       "Name: rate_code, dtype: float64"
      ]
     },
     "execution_count": 17,
     "metadata": {},
     "output_type": "execute_result"
    }
   ],
   "source": [
    "100 * df_trips['rate_code'].value_counts() / len(df_trips)"
   ]
  },
  {
   "cell_type": "markdown",
   "metadata": {},
   "source": [
    "<i> Codes were expected to be 1-6 and there is no mapping for the meaning of other values. </i> Being their frequency ultra low, let's just drop them. 🧹"
   ]
  },
  {
   "cell_type": "code",
   "execution_count": 18,
   "metadata": {},
   "outputs": [
    {
     "data": {
      "text/plain": [
       "1    97.725897\n",
       "2     1.812122\n",
       "5     0.266711\n",
       "3     0.155984\n",
       "4     0.031570\n",
       "0     0.006363\n",
       "6     0.001353\n",
       "Name: rate_code, dtype: float64"
      ]
     },
     "execution_count": 18,
     "metadata": {},
     "output_type": "execute_result"
    }
   ],
   "source": [
    "df_trips_trsf = df_trips.loc[df_trips['rate_code'] <= 6] # df_trips transformed (removed code > 6)\n",
    "100 * df_trips_trsf['rate_code'].value_counts() / len(df_trips_trsf) # % frequency of rate types"
   ]
  },
  {
   "cell_type": "code",
   "execution_count": 19,
   "metadata": {},
   "outputs": [
    {
     "data": {
      "text/plain": [
       "1    97.732115\n",
       "2     1.812237\n",
       "5     0.266728\n",
       "3     0.155994\n",
       "4     0.031572\n",
       "6     0.001353\n",
       "Name: rate_code, dtype: float64"
      ]
     },
     "execution_count": 19,
     "metadata": {},
     "output_type": "execute_result"
    }
   ],
   "source": [
    "aux = df_trips_trsf\n",
    "df_trips_trsf = aux.loc[aux['rate_code'] != 0] # df_trips_trsf transformed (removed code = 0)\n",
    "100 * df_trips_trsf['rate_code'].value_counts() / len(df_trips_trsf) # % frequency of rate types"
   ]
  },
  {
   "cell_type": "code",
   "execution_count": 20,
   "metadata": {},
   "outputs": [
    {
     "name": "stdout",
     "output_type": "stream",
     "text": [
      "N° of trips purged given to extraneous type of rate: \u001b[1m760 (0.006634%)\n"
     ]
    }
   ],
   "source": [
    "removed = df_trips.shape[0] - df_trips_trsf.shape[0]\n",
    "removed_pct = 100 * removed / df_trips.shape[0]\n",
    "txt = 'N° of trips purged given to extraneous type of rate: '\n",
    "print(txt, '\\033[1m' + str(removed), ' (', '{:.6f}'.format(removed_pct), '%)', sep='')"
   ]
  },
  {
   "cell_type": "markdown",
   "metadata": {},
   "source": [
    "## Exporting results for retrieval"
   ]
  },
  {
   "cell_type": "code",
   "execution_count": 21,
   "metadata": {},
   "outputs": [],
   "source": [
    "df_orders.to_csv('df_orders.csv')"
   ]
  },
  {
   "cell_type": "code",
   "execution_count": 23,
   "metadata": {},
   "outputs": [],
   "source": [
    "df_trips_trsf.to_csv('df_trips.csv')"
   ]
  },
  {
   "cell_type": "markdown",
   "metadata": {},
   "source": [
    "<i>Note: This Notebook would entail the whole transforming process, but as some instabilities may interrupt the Kernel requiring a restart from zero, it has been split for a smoothier process.</i>"
   ]
  },
  {
   "cell_type": "markdown",
   "metadata": {},
   "source": [
    "## Continues as [Transformation, part 2](99__DataTransformation2.ipynb)"
   ]
  }
 ],
 "metadata": {
  "kernelspec": {
   "display_name": "Python 3",
   "language": "python",
   "name": "python3"
  },
  "language_info": {
   "codemirror_mode": {
    "name": "ipython",
    "version": 3
   },
   "file_extension": ".py",
   "mimetype": "text/x-python",
   "name": "python",
   "nbconvert_exporter": "python",
   "pygments_lexer": "ipython3",
   "version": "3.8.5"
  }
 },
 "nbformat": 4,
 "nbformat_minor": 4
}
